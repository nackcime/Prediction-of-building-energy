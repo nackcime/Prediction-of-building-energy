{
 "cells": [
  {
   "cell_type": "code",
   "execution_count": 247,
   "id": "ab65b48b",
   "metadata": {},
   "outputs": [],
   "source": [
    "import pandas as pd\n",
    "import numpy as np\n",
    "import matplotlib.pyplot as plt\n",
    "import seaborn as sns\n",
    "from sklearn import model_selection\n",
    "from sklearn import preprocessing\n",
    "from sklearn.impute import SimpleImputer"
   ]
  },
  {
   "cell_type": "markdown",
   "id": "d1c3744c",
   "metadata": {},
   "source": [
    "# Data loading of 2015 and 2016"
   ]
  },
  {
   "cell_type": "code",
   "execution_count": 353,
   "id": "d8bc6a0c",
   "metadata": {},
   "outputs": [],
   "source": [
    "data_2015 = pd.read_csv('2015-building-energy-benchmarking.csv')"
   ]
  },
  {
   "cell_type": "code",
   "execution_count": 354,
   "id": "e58ddc45",
   "metadata": {},
   "outputs": [],
   "source": [
    "data_2016 = pd.read_csv('2016-building-energy-benchmarking.csv')"
   ]
  },
  {
   "cell_type": "markdown",
   "id": "9a371821",
   "metadata": {},
   "source": [
    "# Fusion of dataframes of years 2015 et 2016"
   ]
  },
  {
   "cell_type": "markdown",
   "id": "310cd6ca",
   "metadata": {},
   "source": [
    "Data 2015 : Number of lign and column"
   ]
  },
  {
   "cell_type": "code",
   "execution_count": 355,
   "id": "316e7c27",
   "metadata": {},
   "outputs": [
    {
     "data": {
      "text/plain": [
       "(3340, 47)"
      ]
     },
     "execution_count": 355,
     "metadata": {},
     "output_type": "execute_result"
    }
   ],
   "source": [
    "data_2015.shape"
   ]
  },
  {
   "cell_type": "markdown",
   "id": "1f634307",
   "metadata": {},
   "source": [
    "Data 2016 : Number of lign and column"
   ]
  },
  {
   "cell_type": "code",
   "execution_count": 356,
   "id": "aca8e78f",
   "metadata": {},
   "outputs": [
    {
     "data": {
      "text/plain": [
       "(3376, 46)"
      ]
     },
     "execution_count": 356,
     "metadata": {},
     "output_type": "execute_result"
    }
   ],
   "source": [
    "data_2016.shape"
   ]
  },
  {
   "cell_type": "code",
   "execution_count": 357,
   "id": "d8aef3e2",
   "metadata": {},
   "outputs": [],
   "source": [
    "#data_2015[data_2015.columns.difference(data_2016.columns)]"
   ]
  },
  {
   "cell_type": "markdown",
   "id": "58cc526a",
   "metadata": {},
   "source": [
    "Difference between columns of dataframe of 2015 and 2016"
   ]
  },
  {
   "cell_type": "code",
   "execution_count": 358,
   "id": "65cef633",
   "metadata": {},
   "outputs": [
    {
     "data": {
      "text/html": [
       "<div>\n",
       "<style scoped>\n",
       "    .dataframe tbody tr th:only-of-type {\n",
       "        vertical-align: middle;\n",
       "    }\n",
       "\n",
       "    .dataframe tbody tr th {\n",
       "        vertical-align: top;\n",
       "    }\n",
       "\n",
       "    .dataframe thead th {\n",
       "        text-align: right;\n",
       "    }\n",
       "</style>\n",
       "<table border=\"1\" class=\"dataframe\">\n",
       "  <thead>\n",
       "    <tr style=\"text-align: right;\">\n",
       "      <th></th>\n",
       "      <th>Address</th>\n",
       "      <th>City</th>\n",
       "      <th>Comments</th>\n",
       "      <th>GHGEmissionsIntensity</th>\n",
       "      <th>Latitude</th>\n",
       "      <th>Longitude</th>\n",
       "      <th>State</th>\n",
       "      <th>TotalGHGEmissions</th>\n",
       "      <th>ZipCode</th>\n",
       "    </tr>\n",
       "  </thead>\n",
       "  <tbody>\n",
       "    <tr>\n",
       "      <th>0</th>\n",
       "      <td>405 Olive way</td>\n",
       "      <td>Seattle</td>\n",
       "      <td>NaN</td>\n",
       "      <td>2.83</td>\n",
       "      <td>47.61220</td>\n",
       "      <td>-122.33799</td>\n",
       "      <td>WA</td>\n",
       "      <td>249.98</td>\n",
       "      <td>98101.0</td>\n",
       "    </tr>\n",
       "    <tr>\n",
       "      <th>1</th>\n",
       "      <td>724 Pine street</td>\n",
       "      <td>Seattle</td>\n",
       "      <td>NaN</td>\n",
       "      <td>2.86</td>\n",
       "      <td>47.61317</td>\n",
       "      <td>-122.33393</td>\n",
       "      <td>WA</td>\n",
       "      <td>295.86</td>\n",
       "      <td>98101.0</td>\n",
       "    </tr>\n",
       "    <tr>\n",
       "      <th>2</th>\n",
       "      <td>1900 5th Avenue</td>\n",
       "      <td>Seattle</td>\n",
       "      <td>NaN</td>\n",
       "      <td>2.19</td>\n",
       "      <td>47.61393</td>\n",
       "      <td>-122.33810</td>\n",
       "      <td>WA</td>\n",
       "      <td>2089.28</td>\n",
       "      <td>98101.0</td>\n",
       "    </tr>\n",
       "    <tr>\n",
       "      <th>3</th>\n",
       "      <td>620 STEWART ST</td>\n",
       "      <td>Seattle</td>\n",
       "      <td>NaN</td>\n",
       "      <td>4.67</td>\n",
       "      <td>47.61412</td>\n",
       "      <td>-122.33664</td>\n",
       "      <td>WA</td>\n",
       "      <td>286.43</td>\n",
       "      <td>98101.0</td>\n",
       "    </tr>\n",
       "    <tr>\n",
       "      <th>4</th>\n",
       "      <td>401 LENORA ST</td>\n",
       "      <td>Seattle</td>\n",
       "      <td>NaN</td>\n",
       "      <td>2.88</td>\n",
       "      <td>47.61375</td>\n",
       "      <td>-122.34047</td>\n",
       "      <td>WA</td>\n",
       "      <td>505.01</td>\n",
       "      <td>98121.0</td>\n",
       "    </tr>\n",
       "    <tr>\n",
       "      <th>...</th>\n",
       "      <td>...</td>\n",
       "      <td>...</td>\n",
       "      <td>...</td>\n",
       "      <td>...</td>\n",
       "      <td>...</td>\n",
       "      <td>...</td>\n",
       "      <td>...</td>\n",
       "      <td>...</td>\n",
       "      <td>...</td>\n",
       "    </tr>\n",
       "    <tr>\n",
       "      <th>3371</th>\n",
       "      <td>1600 S Dakota St</td>\n",
       "      <td>Seattle</td>\n",
       "      <td>NaN</td>\n",
       "      <td>1.70</td>\n",
       "      <td>47.56722</td>\n",
       "      <td>-122.31154</td>\n",
       "      <td>WA</td>\n",
       "      <td>20.94</td>\n",
       "      <td>NaN</td>\n",
       "    </tr>\n",
       "    <tr>\n",
       "      <th>3372</th>\n",
       "      <td>719 8th Ave S</td>\n",
       "      <td>Seattle</td>\n",
       "      <td>NaN</td>\n",
       "      <td>2.01</td>\n",
       "      <td>47.59625</td>\n",
       "      <td>-122.32283</td>\n",
       "      <td>WA</td>\n",
       "      <td>32.17</td>\n",
       "      <td>NaN</td>\n",
       "    </tr>\n",
       "    <tr>\n",
       "      <th>3373</th>\n",
       "      <td>1920 1st Ave W</td>\n",
       "      <td>Seattle</td>\n",
       "      <td>NaN</td>\n",
       "      <td>16.99</td>\n",
       "      <td>47.63644</td>\n",
       "      <td>-122.35784</td>\n",
       "      <td>WA</td>\n",
       "      <td>223.54</td>\n",
       "      <td>NaN</td>\n",
       "    </tr>\n",
       "    <tr>\n",
       "      <th>3374</th>\n",
       "      <td>8319 8th Ave S</td>\n",
       "      <td>Seattle</td>\n",
       "      <td>NaN</td>\n",
       "      <td>1.57</td>\n",
       "      <td>47.52832</td>\n",
       "      <td>-122.32431</td>\n",
       "      <td>WA</td>\n",
       "      <td>22.11</td>\n",
       "      <td>NaN</td>\n",
       "    </tr>\n",
       "    <tr>\n",
       "      <th>3375</th>\n",
       "      <td>2820 S Myrtle St</td>\n",
       "      <td>Seattle</td>\n",
       "      <td>NaN</td>\n",
       "      <td>2.26</td>\n",
       "      <td>47.53939</td>\n",
       "      <td>-122.29536</td>\n",
       "      <td>WA</td>\n",
       "      <td>41.27</td>\n",
       "      <td>NaN</td>\n",
       "    </tr>\n",
       "  </tbody>\n",
       "</table>\n",
       "<p>3376 rows × 9 columns</p>\n",
       "</div>"
      ],
      "text/plain": [
       "               Address     City  Comments  GHGEmissionsIntensity  Latitude  \\\n",
       "0        405 Olive way  Seattle       NaN                   2.83  47.61220   \n",
       "1      724 Pine street  Seattle       NaN                   2.86  47.61317   \n",
       "2      1900 5th Avenue  Seattle       NaN                   2.19  47.61393   \n",
       "3       620 STEWART ST  Seattle       NaN                   4.67  47.61412   \n",
       "4        401 LENORA ST  Seattle       NaN                   2.88  47.61375   \n",
       "...                ...      ...       ...                    ...       ...   \n",
       "3371  1600 S Dakota St  Seattle       NaN                   1.70  47.56722   \n",
       "3372     719 8th Ave S  Seattle       NaN                   2.01  47.59625   \n",
       "3373    1920 1st Ave W  Seattle       NaN                  16.99  47.63644   \n",
       "3374    8319 8th Ave S  Seattle       NaN                   1.57  47.52832   \n",
       "3375  2820 S Myrtle St  Seattle       NaN                   2.26  47.53939   \n",
       "\n",
       "      Longitude State  TotalGHGEmissions  ZipCode  \n",
       "0    -122.33799    WA             249.98  98101.0  \n",
       "1    -122.33393    WA             295.86  98101.0  \n",
       "2    -122.33810    WA            2089.28  98101.0  \n",
       "3    -122.33664    WA             286.43  98101.0  \n",
       "4    -122.34047    WA             505.01  98121.0  \n",
       "...         ...   ...                ...      ...  \n",
       "3371 -122.31154    WA              20.94      NaN  \n",
       "3372 -122.32283    WA              32.17      NaN  \n",
       "3373 -122.35784    WA             223.54      NaN  \n",
       "3374 -122.32431    WA              22.11      NaN  \n",
       "3375 -122.29536    WA              41.27      NaN  \n",
       "\n",
       "[3376 rows x 9 columns]"
      ]
     },
     "execution_count": 358,
     "metadata": {},
     "output_type": "execute_result"
    }
   ],
   "source": [
    "data_2016[data_2016.columns.difference(data_2015.columns)]"
   ]
  },
  {
   "cell_type": "markdown",
   "id": "af819ae4",
   "metadata": {},
   "source": [
    "Check on order of magnitude GHGEmissionsIntensity and TotalGHGEmissions to verify their presence in 2015 Dataframe"
   ]
  },
  {
   "cell_type": "code",
   "execution_count": 359,
   "id": "7716a350",
   "metadata": {},
   "outputs": [
    {
     "data": {
      "text/html": [
       "<div>\n",
       "<style scoped>\n",
       "    .dataframe tbody tr th:only-of-type {\n",
       "        vertical-align: middle;\n",
       "    }\n",
       "\n",
       "    .dataframe tbody tr th {\n",
       "        vertical-align: top;\n",
       "    }\n",
       "\n",
       "    .dataframe thead th {\n",
       "        text-align: right;\n",
       "    }\n",
       "</style>\n",
       "<table border=\"1\" class=\"dataframe\">\n",
       "  <thead>\n",
       "    <tr style=\"text-align: right;\">\n",
       "      <th></th>\n",
       "      <th>GHGEmissionsIntensity</th>\n",
       "      <th>TotalGHGEmissions</th>\n",
       "    </tr>\n",
       "  </thead>\n",
       "  <tbody>\n",
       "    <tr>\n",
       "      <th>count</th>\n",
       "      <td>3367.000000</td>\n",
       "      <td>3367.000000</td>\n",
       "    </tr>\n",
       "    <tr>\n",
       "      <th>mean</th>\n",
       "      <td>1.175916</td>\n",
       "      <td>119.723971</td>\n",
       "    </tr>\n",
       "    <tr>\n",
       "      <th>std</th>\n",
       "      <td>1.821452</td>\n",
       "      <td>538.832227</td>\n",
       "    </tr>\n",
       "    <tr>\n",
       "      <th>min</th>\n",
       "      <td>-0.020000</td>\n",
       "      <td>-0.800000</td>\n",
       "    </tr>\n",
       "    <tr>\n",
       "      <th>25%</th>\n",
       "      <td>0.210000</td>\n",
       "      <td>9.495000</td>\n",
       "    </tr>\n",
       "    <tr>\n",
       "      <th>50%</th>\n",
       "      <td>0.610000</td>\n",
       "      <td>33.920000</td>\n",
       "    </tr>\n",
       "    <tr>\n",
       "      <th>75%</th>\n",
       "      <td>1.370000</td>\n",
       "      <td>93.940000</td>\n",
       "    </tr>\n",
       "    <tr>\n",
       "      <th>max</th>\n",
       "      <td>34.090000</td>\n",
       "      <td>16870.980000</td>\n",
       "    </tr>\n",
       "  </tbody>\n",
       "</table>\n",
       "</div>"
      ],
      "text/plain": [
       "       GHGEmissionsIntensity  TotalGHGEmissions\n",
       "count            3367.000000        3367.000000\n",
       "mean                1.175916         119.723971\n",
       "std                 1.821452         538.832227\n",
       "min                -0.020000          -0.800000\n",
       "25%                 0.210000           9.495000\n",
       "50%                 0.610000          33.920000\n",
       "75%                 1.370000          93.940000\n",
       "max                34.090000       16870.980000"
      ]
     },
     "execution_count": 359,
     "metadata": {},
     "output_type": "execute_result"
    }
   ],
   "source": [
    "data_2016[['GHGEmissionsIntensity','TotalGHGEmissions']].describe()"
   ]
  },
  {
   "cell_type": "markdown",
   "id": "6384611f",
   "metadata": {},
   "source": [
    "Check on order of magnitude GHGEmissionsIntensity(kgCO2e/ft2) and GHGEmissions(MetricTonsCO2e)' to verify their correspondence to the features present in 2016 Dataframe, GHGEmissionsIntensity and TotalGHGEmissions"
   ]
  },
  {
   "cell_type": "code",
   "execution_count": 360,
   "id": "db5c2620",
   "metadata": {},
   "outputs": [
    {
     "data": {
      "text/html": [
       "<div>\n",
       "<style scoped>\n",
       "    .dataframe tbody tr th:only-of-type {\n",
       "        vertical-align: middle;\n",
       "    }\n",
       "\n",
       "    .dataframe tbody tr th {\n",
       "        vertical-align: top;\n",
       "    }\n",
       "\n",
       "    .dataframe thead th {\n",
       "        text-align: right;\n",
       "    }\n",
       "</style>\n",
       "<table border=\"1\" class=\"dataframe\">\n",
       "  <thead>\n",
       "    <tr style=\"text-align: right;\">\n",
       "      <th></th>\n",
       "      <th>GHGEmissionsIntensity(kgCO2e/ft2)</th>\n",
       "      <th>GHGEmissions(MetricTonsCO2e)</th>\n",
       "    </tr>\n",
       "  </thead>\n",
       "  <tbody>\n",
       "    <tr>\n",
       "      <th>count</th>\n",
       "      <td>3330.000000</td>\n",
       "      <td>3330.000000</td>\n",
       "    </tr>\n",
       "    <tr>\n",
       "      <th>mean</th>\n",
       "      <td>0.985339</td>\n",
       "      <td>110.094102</td>\n",
       "    </tr>\n",
       "    <tr>\n",
       "      <th>std</th>\n",
       "      <td>1.637172</td>\n",
       "      <td>409.450179</td>\n",
       "    </tr>\n",
       "    <tr>\n",
       "      <th>min</th>\n",
       "      <td>0.000000</td>\n",
       "      <td>0.000000</td>\n",
       "    </tr>\n",
       "    <tr>\n",
       "      <th>25%</th>\n",
       "      <td>0.080000</td>\n",
       "      <td>9.265000</td>\n",
       "    </tr>\n",
       "    <tr>\n",
       "      <th>50%</th>\n",
       "      <td>0.460000</td>\n",
       "      <td>32.740000</td>\n",
       "    </tr>\n",
       "    <tr>\n",
       "      <th>75%</th>\n",
       "      <td>1.180000</td>\n",
       "      <td>88.642500</td>\n",
       "    </tr>\n",
       "    <tr>\n",
       "      <th>max</th>\n",
       "      <td>31.380000</td>\n",
       "      <td>11824.890000</td>\n",
       "    </tr>\n",
       "  </tbody>\n",
       "</table>\n",
       "</div>"
      ],
      "text/plain": [
       "       GHGEmissionsIntensity(kgCO2e/ft2)  GHGEmissions(MetricTonsCO2e)\n",
       "count                        3330.000000                   3330.000000\n",
       "mean                            0.985339                    110.094102\n",
       "std                             1.637172                    409.450179\n",
       "min                             0.000000                      0.000000\n",
       "25%                             0.080000                      9.265000\n",
       "50%                             0.460000                     32.740000\n",
       "75%                             1.180000                     88.642500\n",
       "max                            31.380000                  11824.890000"
      ]
     },
     "execution_count": 360,
     "metadata": {},
     "output_type": "execute_result"
    }
   ],
   "source": [
    "data_2015[['GHGEmissionsIntensity(kgCO2e/ft2)','GHGEmissions(MetricTonsCO2e)']].describe()"
   ]
  },
  {
   "cell_type": "markdown",
   "id": "474e794f",
   "metadata": {},
   "source": [
    "The feature GHGEmissionsIntensity(kgCO2e/ft2) corresponds to 'GHGEmissionsIntensity"
   ]
  },
  {
   "cell_type": "markdown",
   "id": "0330cc9c",
   "metadata": {},
   "source": [
    "The feature GHGEmissions(MetricTonsCO2e) corresponds to TotalGHGEmissions"
   ]
  },
  {
   "cell_type": "code",
   "execution_count": 361,
   "id": "9761b3f8",
   "metadata": {},
   "outputs": [],
   "source": [
    "data_2015 = data_2015.rename(columns={'GHGEmissionsIntensity(kgCO2e/ft2)': 'GHGEmissionsIntensity','GHGEmissions(MetricTonsCO2e)': 'TotalGHGEmissions'})"
   ]
  },
  {
   "cell_type": "markdown",
   "id": "3ec492db",
   "metadata": {},
   "source": [
    "#### Removal of features that we will not use"
   ]
  },
  {
   "cell_type": "code",
   "execution_count": 362,
   "id": "9f677944",
   "metadata": {},
   "outputs": [],
   "source": [
    "listOut2016 = set(data_2016.columns)-set(data_2015.columns)"
   ]
  },
  {
   "cell_type": "code",
   "execution_count": 363,
   "id": "06ea78b4",
   "metadata": {},
   "outputs": [
    {
     "data": {
      "text/plain": [
       "{'Address', 'City', 'Comments', 'Latitude', 'Longitude', 'State', 'ZipCode'}"
      ]
     },
     "execution_count": 363,
     "metadata": {},
     "output_type": "execute_result"
    }
   ],
   "source": [
    "listOut2016"
   ]
  },
  {
   "cell_type": "code",
   "execution_count": 364,
   "id": "734aa612",
   "metadata": {},
   "outputs": [],
   "source": [
    "data_2016 = data_2016.drop(listOut2016, axis=1)"
   ]
  },
  {
   "cell_type": "code",
   "execution_count": 365,
   "id": "6325f390",
   "metadata": {},
   "outputs": [
    {
     "data": {
      "text/plain": [
       "(3376, 39)"
      ]
     },
     "execution_count": 365,
     "metadata": {},
     "output_type": "execute_result"
    }
   ],
   "source": [
    "data_2016.shape"
   ]
  },
  {
   "cell_type": "markdown",
   "id": "cb499bcb",
   "metadata": {},
   "source": [
    "We remove the columns of 2015's Dataframe"
   ]
  },
  {
   "cell_type": "code",
   "execution_count": 366,
   "id": "21e6c99b",
   "metadata": {},
   "outputs": [],
   "source": [
    "listOut2015 = set(data_2015.columns)-set(data_2016.columns)"
   ]
  },
  {
   "cell_type": "code",
   "execution_count": 367,
   "id": "3a75e7ad",
   "metadata": {},
   "outputs": [
    {
     "data": {
      "text/plain": [
       "{'2010 Census Tracts',\n",
       " 'City Council Districts',\n",
       " 'Comment',\n",
       " 'Location',\n",
       " 'OtherFuelUse(kBtu)',\n",
       " 'SPD Beats',\n",
       " 'Seattle Police Department Micro Community Policing Plan Areas',\n",
       " 'Zip Codes'}"
      ]
     },
     "execution_count": 367,
     "metadata": {},
     "output_type": "execute_result"
    }
   ],
   "source": [
    "listOut2015\n",
    "#[col for col in data_2015 if col not in data_2016]"
   ]
  },
  {
   "cell_type": "code",
   "execution_count": 368,
   "id": "7a33bf7a",
   "metadata": {},
   "outputs": [
    {
     "data": {
      "text/plain": [
       "(3340, 47)"
      ]
     },
     "execution_count": 368,
     "metadata": {},
     "output_type": "execute_result"
    }
   ],
   "source": [
    "data_2015.shape"
   ]
  },
  {
   "cell_type": "code",
   "execution_count": 369,
   "id": "20350ceb",
   "metadata": {},
   "outputs": [],
   "source": [
    "data_2015 = data_2015.drop(listOut2015, axis=1)"
   ]
  },
  {
   "cell_type": "code",
   "execution_count": 370,
   "id": "49c41e69",
   "metadata": {},
   "outputs": [
    {
     "data": {
      "text/plain": [
       "(3340, 39)"
      ]
     },
     "execution_count": 370,
     "metadata": {},
     "output_type": "execute_result"
    }
   ],
   "source": [
    "data_2015.shape"
   ]
  },
  {
   "cell_type": "markdown",
   "id": "ca0f3c0a",
   "metadata": {},
   "source": [
    "Verification of columns' type data_2015 and data_2016"
   ]
  },
  {
   "cell_type": "code",
   "execution_count": 371,
   "id": "438417f9",
   "metadata": {},
   "outputs": [
    {
     "data": {
      "text/plain": [
       "OSEBuildingID                        int64\n",
       "DataYear                             int64\n",
       "BuildingType                        object\n",
       "PrimaryPropertyType                 object\n",
       "PropertyName                        object\n",
       "TaxParcelIdentificationNumber       object\n",
       "CouncilDistrictCode                  int64\n",
       "Neighborhood                        object\n",
       "YearBuilt                            int64\n",
       "NumberofBuildings                    int64\n",
       "NumberofFloors                     float64\n",
       "PropertyGFATotal                     int64\n",
       "PropertyGFAParking                   int64\n",
       "PropertyGFABuilding(s)               int64\n",
       "ListOfAllPropertyUseTypes           object\n",
       "LargestPropertyUseType              object\n",
       "LargestPropertyUseTypeGFA          float64\n",
       "SecondLargestPropertyUseType        object\n",
       "SecondLargestPropertyUseTypeGFA    float64\n",
       "ThirdLargestPropertyUseType         object\n",
       "ThirdLargestPropertyUseTypeGFA     float64\n",
       "YearsENERGYSTARCertified            object\n",
       "ENERGYSTARScore                    float64\n",
       "SiteEUI(kBtu/sf)                   float64\n",
       "SiteEUIWN(kBtu/sf)                 float64\n",
       "SourceEUI(kBtu/sf)                 float64\n",
       "SourceEUIWN(kBtu/sf)               float64\n",
       "SiteEnergyUse(kBtu)                float64\n",
       "SiteEnergyUseWN(kBtu)              float64\n",
       "SteamUse(kBtu)                     float64\n",
       "Electricity(kWh)                   float64\n",
       "Electricity(kBtu)                  float64\n",
       "NaturalGas(therms)                 float64\n",
       "NaturalGas(kBtu)                   float64\n",
       "TotalGHGEmissions                  float64\n",
       "GHGEmissionsIntensity              float64\n",
       "DefaultData                         object\n",
       "ComplianceStatus                    object\n",
       "Outlier                             object\n",
       "dtype: object"
      ]
     },
     "execution_count": 371,
     "metadata": {},
     "output_type": "execute_result"
    }
   ],
   "source": [
    "data_2015.dtypes"
   ]
  },
  {
   "cell_type": "code",
   "execution_count": 372,
   "id": "85447ced",
   "metadata": {},
   "outputs": [
    {
     "data": {
      "text/plain": [
       "OSEBuildingID                        int64\n",
       "DataYear                             int64\n",
       "BuildingType                        object\n",
       "PrimaryPropertyType                 object\n",
       "PropertyName                        object\n",
       "TaxParcelIdentificationNumber       object\n",
       "CouncilDistrictCode                  int64\n",
       "Neighborhood                        object\n",
       "YearBuilt                            int64\n",
       "NumberofBuildings                  float64\n",
       "NumberofFloors                       int64\n",
       "PropertyGFATotal                     int64\n",
       "PropertyGFAParking                   int64\n",
       "PropertyGFABuilding(s)               int64\n",
       "ListOfAllPropertyUseTypes           object\n",
       "LargestPropertyUseType              object\n",
       "LargestPropertyUseTypeGFA          float64\n",
       "SecondLargestPropertyUseType        object\n",
       "SecondLargestPropertyUseTypeGFA    float64\n",
       "ThirdLargestPropertyUseType         object\n",
       "ThirdLargestPropertyUseTypeGFA     float64\n",
       "YearsENERGYSTARCertified            object\n",
       "ENERGYSTARScore                    float64\n",
       "SiteEUI(kBtu/sf)                   float64\n",
       "SiteEUIWN(kBtu/sf)                 float64\n",
       "SourceEUI(kBtu/sf)                 float64\n",
       "SourceEUIWN(kBtu/sf)               float64\n",
       "SiteEnergyUse(kBtu)                float64\n",
       "SiteEnergyUseWN(kBtu)              float64\n",
       "SteamUse(kBtu)                     float64\n",
       "Electricity(kWh)                   float64\n",
       "Electricity(kBtu)                  float64\n",
       "NaturalGas(therms)                 float64\n",
       "NaturalGas(kBtu)                   float64\n",
       "DefaultData                           bool\n",
       "ComplianceStatus                    object\n",
       "Outlier                             object\n",
       "TotalGHGEmissions                  float64\n",
       "GHGEmissionsIntensity              float64\n",
       "dtype: object"
      ]
     },
     "execution_count": 372,
     "metadata": {},
     "output_type": "execute_result"
    }
   ],
   "source": [
    "data_2016.dtypes"
   ]
  },
  {
   "cell_type": "code",
   "execution_count": 373,
   "id": "288e92ec",
   "metadata": {},
   "outputs": [],
   "source": [
    "listTypes = [(data_2016.dtypes.isin(data_2015.dtypes))]"
   ]
  },
  {
   "cell_type": "code",
   "execution_count": 374,
   "id": "99993587",
   "metadata": {},
   "outputs": [
    {
     "data": {
      "text/plain": [
       "[OSEBuildingID                       True\n",
       " DataYear                            True\n",
       " BuildingType                        True\n",
       " PrimaryPropertyType                 True\n",
       " PropertyName                        True\n",
       " TaxParcelIdentificationNumber       True\n",
       " CouncilDistrictCode                 True\n",
       " Neighborhood                        True\n",
       " YearBuilt                           True\n",
       " NumberofBuildings                   True\n",
       " NumberofFloors                      True\n",
       " PropertyGFATotal                    True\n",
       " PropertyGFAParking                  True\n",
       " PropertyGFABuilding(s)              True\n",
       " ListOfAllPropertyUseTypes           True\n",
       " LargestPropertyUseType              True\n",
       " LargestPropertyUseTypeGFA           True\n",
       " SecondLargestPropertyUseType        True\n",
       " SecondLargestPropertyUseTypeGFA     True\n",
       " ThirdLargestPropertyUseType         True\n",
       " ThirdLargestPropertyUseTypeGFA      True\n",
       " YearsENERGYSTARCertified            True\n",
       " ENERGYSTARScore                     True\n",
       " SiteEUI(kBtu/sf)                    True\n",
       " SiteEUIWN(kBtu/sf)                  True\n",
       " SourceEUI(kBtu/sf)                  True\n",
       " SourceEUIWN(kBtu/sf)                True\n",
       " SiteEnergyUse(kBtu)                 True\n",
       " SiteEnergyUseWN(kBtu)               True\n",
       " SteamUse(kBtu)                      True\n",
       " Electricity(kWh)                    True\n",
       " Electricity(kBtu)                   True\n",
       " NaturalGas(therms)                  True\n",
       " NaturalGas(kBtu)                    True\n",
       " DefaultData                        False\n",
       " ComplianceStatus                    True\n",
       " Outlier                             True\n",
       " TotalGHGEmissions                   True\n",
       " GHGEmissionsIntensity               True\n",
       " dtype: bool]"
      ]
     },
     "execution_count": 374,
     "metadata": {},
     "output_type": "execute_result"
    }
   ],
   "source": [
    "listTypes"
   ]
  },
  {
   "cell_type": "markdown",
   "id": "57675eef",
   "metadata": {},
   "source": [
    "Update the type of column DefaultData : Change the type of column DefaultData from object to boolean for data_2015"
   ]
  },
  {
   "cell_type": "code",
   "execution_count": 375,
   "id": "48452ed6",
   "metadata": {},
   "outputs": [
    {
     "data": {
      "text/plain": [
       "array(['No', 'Yes', nan], dtype=object)"
      ]
     },
     "execution_count": 375,
     "metadata": {},
     "output_type": "execute_result"
    }
   ],
   "source": [
    "data_2015[\"DefaultData\"].unique()"
   ]
  },
  {
   "cell_type": "code",
   "execution_count": 376,
   "id": "88dac6d1",
   "metadata": {},
   "outputs": [],
   "source": [
    "data_2015[\"DefaultData\"].replace({\"Yes\": \"True\", \"No\": \"False\"}, inplace=True)"
   ]
  },
  {
   "cell_type": "code",
   "execution_count": 377,
   "id": "41f8505a",
   "metadata": {},
   "outputs": [],
   "source": [
    "data_2015[\"DefaultData\"] = data_2015[\"DefaultData\"].astype('bool')"
   ]
  },
  {
   "cell_type": "code",
   "execution_count": 378,
   "id": "d020018a",
   "metadata": {},
   "outputs": [
    {
     "data": {
      "text/plain": [
       "[OSEBuildingID                      True\n",
       " DataYear                           True\n",
       " BuildingType                       True\n",
       " PrimaryPropertyType                True\n",
       " PropertyName                       True\n",
       " TaxParcelIdentificationNumber      True\n",
       " CouncilDistrictCode                True\n",
       " Neighborhood                       True\n",
       " YearBuilt                          True\n",
       " NumberofBuildings                  True\n",
       " NumberofFloors                     True\n",
       " PropertyGFATotal                   True\n",
       " PropertyGFAParking                 True\n",
       " PropertyGFABuilding(s)             True\n",
       " ListOfAllPropertyUseTypes          True\n",
       " LargestPropertyUseType             True\n",
       " LargestPropertyUseTypeGFA          True\n",
       " SecondLargestPropertyUseType       True\n",
       " SecondLargestPropertyUseTypeGFA    True\n",
       " ThirdLargestPropertyUseType        True\n",
       " ThirdLargestPropertyUseTypeGFA     True\n",
       " YearsENERGYSTARCertified           True\n",
       " ENERGYSTARScore                    True\n",
       " SiteEUI(kBtu/sf)                   True\n",
       " SiteEUIWN(kBtu/sf)                 True\n",
       " SourceEUI(kBtu/sf)                 True\n",
       " SourceEUIWN(kBtu/sf)               True\n",
       " SiteEnergyUse(kBtu)                True\n",
       " SiteEnergyUseWN(kBtu)              True\n",
       " SteamUse(kBtu)                     True\n",
       " Electricity(kWh)                   True\n",
       " Electricity(kBtu)                  True\n",
       " NaturalGas(therms)                 True\n",
       " NaturalGas(kBtu)                   True\n",
       " DefaultData                        True\n",
       " ComplianceStatus                   True\n",
       " Outlier                            True\n",
       " TotalGHGEmissions                  True\n",
       " GHGEmissionsIntensity              True\n",
       " dtype: bool]"
      ]
     },
     "execution_count": 378,
     "metadata": {},
     "output_type": "execute_result"
    }
   ],
   "source": [
    "[(data_2016.dtypes.isin(data_2015.dtypes))]"
   ]
  },
  {
   "cell_type": "code",
   "execution_count": 379,
   "id": "8b0a12ed",
   "metadata": {},
   "outputs": [
    {
     "data": {
      "text/plain": [
       "(3376, 39)"
      ]
     },
     "execution_count": 379,
     "metadata": {},
     "output_type": "execute_result"
    }
   ],
   "source": [
    "data_2016.shape"
   ]
  },
  {
   "cell_type": "code",
   "execution_count": 380,
   "id": "3c488bb9",
   "metadata": {},
   "outputs": [
    {
     "data": {
      "text/plain": [
       "(3340, 39)"
      ]
     },
     "execution_count": 380,
     "metadata": {},
     "output_type": "execute_result"
    }
   ],
   "source": [
    "data_2015.shape"
   ]
  },
  {
   "cell_type": "markdown",
   "id": "a2d6f7ff",
   "metadata": {},
   "source": [
    "Find the number of buildings that differ between 2015 and 2016"
   ]
  },
  {
   "cell_type": "code",
   "execution_count": 381,
   "id": "7b2a9696",
   "metadata": {},
   "outputs": [
    {
     "data": {
      "text/plain": [
       "92"
      ]
     },
     "execution_count": 381,
     "metadata": {},
     "output_type": "execute_result"
    }
   ],
   "source": [
    "# 92 buildings present in 2016 and absent in 2015\n",
    "len(set(data_2016['OSEBuildingID'])-set(data_2015['OSEBuildingID']))"
   ]
  },
  {
   "cell_type": "code",
   "execution_count": 382,
   "id": "42096d05",
   "metadata": {},
   "outputs": [
    {
     "data": {
      "text/plain": [
       "56"
      ]
     },
     "execution_count": 382,
     "metadata": {},
     "output_type": "execute_result"
    }
   ],
   "source": [
    "# 56 buildings present in 2015 and absent in 2016\n",
    "len(set(data_2015['OSEBuildingID'])-set(data_2016['OSEBuildingID']))"
   ]
  },
  {
   "cell_type": "markdown",
   "id": "3280f900",
   "metadata": {},
   "source": [
    "# Data Concatenation 2015 and 2016"
   ]
  },
  {
   "cell_type": "markdown",
   "id": "5a175c81",
   "metadata": {},
   "source": [
    "Concatenation to detect add/remove buildings in Dataframes"
   ]
  },
  {
   "cell_type": "code",
   "execution_count": 383,
   "id": "5ba3a10c",
   "metadata": {},
   "outputs": [],
   "source": [
    "data_2015_2016_df = pd.concat([data_2015,data_2016], ignore_index=True)\n",
    "#data_2015_2016_all = pd.concat([data_2015[['SiteEnergyUse(kBtu)','TotalGHGEmissions']],data_2016], ignore_index=True)"
   ]
  },
  {
   "cell_type": "code",
   "execution_count": 384,
   "id": "9b08059d",
   "metadata": {},
   "outputs": [
    {
     "data": {
      "text/plain": [
       "(6716, 39)"
      ]
     },
     "execution_count": 384,
     "metadata": {},
     "output_type": "execute_result"
    }
   ],
   "source": [
    "data_2015_2016_df.shape"
   ]
  },
  {
   "cell_type": "markdown",
   "id": "d91fe9a8",
   "metadata": {},
   "source": [
    "### Drop of consumption features"
   ]
  },
  {
   "cell_type": "code",
   "execution_count": 385,
   "id": "91692d9a",
   "metadata": {},
   "outputs": [],
   "source": [
    "data_2015_2016_all_df1 = data_2015_2016_df.drop(['SiteEUI(kBtu/sf)', 'SiteEUIWN(kBtu/sf)','SourceEUI(kBtu/sf)', 'SourceEUIWN(kBtu/sf)','SiteEnergyUseWN(kBtu)', 'SteamUse(kBtu)', 'Electricity(kWh)','Electricity(kBtu)', 'NaturalGas(therms)', 'NaturalGas(kBtu)'], axis=1)"
   ]
  },
  {
   "cell_type": "markdown",
   "id": "0a3c32a6",
   "metadata": {},
   "source": [
    "### Drop duplicates"
   ]
  },
  {
   "cell_type": "code",
   "execution_count": 386,
   "id": "9c2aadd5",
   "metadata": {},
   "outputs": [],
   "source": [
    "data_2015_2016_all_df2 = data_2015_2016_all_df1.groupby([\"OSEBuildingID\"]).agg(\"mean\")"
   ]
  },
  {
   "cell_type": "code",
   "execution_count": 387,
   "id": "23764717",
   "metadata": {},
   "outputs": [],
   "source": [
    "listCategorical = data_2016.select_dtypes(include=['object']).columns.tolist()"
   ]
  },
  {
   "cell_type": "code",
   "execution_count": 388,
   "id": "a0950f64",
   "metadata": {},
   "outputs": [],
   "source": [
    "listCategorical.insert(1, \"OSEBuildingID\")"
   ]
  },
  {
   "cell_type": "code",
   "execution_count": 389,
   "id": "6bc3df8d",
   "metadata": {},
   "outputs": [],
   "source": [
    "data_2015_2016_all = data_2016[listCategorical].join(data_2015_2016_all_df2, on=[\"OSEBuildingID\"], how=\"inner\")"
   ]
  },
  {
   "cell_type": "code",
   "execution_count": 390,
   "id": "81571bf7",
   "metadata": {},
   "outputs": [
    {
     "data": {
      "text/plain": [
       "(3376, 29)"
      ]
     },
     "execution_count": 390,
     "metadata": {},
     "output_type": "execute_result"
    }
   ],
   "source": [
    "data_2015_2016_all.shape"
   ]
  },
  {
   "cell_type": "markdown",
   "id": "b1ecd937",
   "metadata": {},
   "source": [
    "# Removal of non-residential buildings"
   ]
  },
  {
   "cell_type": "markdown",
   "id": "52c40a63",
   "metadata": {},
   "source": [
    "Identification of building's type"
   ]
  },
  {
   "cell_type": "code",
   "execution_count": 391,
   "id": "91c974c2",
   "metadata": {},
   "outputs": [
    {
     "data": {
      "text/plain": [
       "array(['NonResidential', 'Nonresidential COS', 'Multifamily MR (5-9)',\n",
       "       'SPS-District K-12', 'Campus', 'Multifamily LR (1-4)',\n",
       "       'Multifamily HR (10+)', 'Nonresidential WA'], dtype=object)"
      ]
     },
     "execution_count": 391,
     "metadata": {},
     "output_type": "execute_result"
    }
   ],
   "source": [
    "data_2015_2016_all['BuildingType'].unique()"
   ]
  },
  {
   "cell_type": "code",
   "execution_count": 392,
   "id": "f3684213",
   "metadata": {
    "scrolled": true
   },
   "outputs": [],
   "source": [
    "data_2015_2016 = data_2015_2016_all[~data_2015_2016_all['BuildingType'].str.contains(\"Multifamily\")]"
   ]
  },
  {
   "cell_type": "code",
   "execution_count": 393,
   "id": "b18d5b82",
   "metadata": {},
   "outputs": [
    {
     "data": {
      "text/plain": [
       "array(['NonResidential', 'Nonresidential COS', 'SPS-District K-12',\n",
       "       'Campus', 'Nonresidential WA'], dtype=object)"
      ]
     },
     "execution_count": 393,
     "metadata": {},
     "output_type": "execute_result"
    }
   ],
   "source": [
    "data_2015_2016['BuildingType'].unique()"
   ]
  },
  {
   "cell_type": "markdown",
   "id": "2eaa1f01",
   "metadata": {},
   "source": [
    "Check shape of the Dataframe"
   ]
  },
  {
   "cell_type": "code",
   "execution_count": 394,
   "id": "0fc092ca",
   "metadata": {},
   "outputs": [
    {
     "data": {
      "text/plain": [
       "(1668, 29)"
      ]
     },
     "execution_count": 394,
     "metadata": {},
     "output_type": "execute_result"
    }
   ],
   "source": [
    "data_2015_2016.shape"
   ]
  },
  {
   "cell_type": "markdown",
   "id": "0bb27ee8",
   "metadata": {},
   "source": [
    "# Exploratory analysis"
   ]
  },
  {
   "cell_type": "markdown",
   "id": "2fe0bf5a",
   "metadata": {},
   "source": [
    "### Missing values analysis"
   ]
  },
  {
   "cell_type": "code",
   "execution_count": 395,
   "id": "91a72fb1",
   "metadata": {},
   "outputs": [
    {
     "data": {
      "text/html": [
       "<div>\n",
       "<style scoped>\n",
       "    .dataframe tbody tr th:only-of-type {\n",
       "        vertical-align: middle;\n",
       "    }\n",
       "\n",
       "    .dataframe tbody tr th {\n",
       "        vertical-align: top;\n",
       "    }\n",
       "\n",
       "    .dataframe thead th {\n",
       "        text-align: right;\n",
       "    }\n",
       "</style>\n",
       "<table border=\"1\" class=\"dataframe\">\n",
       "  <thead>\n",
       "    <tr style=\"text-align: right;\">\n",
       "      <th></th>\n",
       "      <th>BuildingType</th>\n",
       "      <th>OSEBuildingID</th>\n",
       "      <th>PrimaryPropertyType</th>\n",
       "      <th>PropertyName</th>\n",
       "      <th>TaxParcelIdentificationNumber</th>\n",
       "      <th>Neighborhood</th>\n",
       "      <th>ListOfAllPropertyUseTypes</th>\n",
       "      <th>LargestPropertyUseType</th>\n",
       "      <th>SecondLargestPropertyUseType</th>\n",
       "      <th>ThirdLargestPropertyUseType</th>\n",
       "      <th>...</th>\n",
       "      <th>PropertyGFAParking</th>\n",
       "      <th>PropertyGFABuilding(s)</th>\n",
       "      <th>LargestPropertyUseTypeGFA</th>\n",
       "      <th>SecondLargestPropertyUseTypeGFA</th>\n",
       "      <th>ThirdLargestPropertyUseTypeGFA</th>\n",
       "      <th>ENERGYSTARScore</th>\n",
       "      <th>SiteEnergyUse(kBtu)</th>\n",
       "      <th>TotalGHGEmissions</th>\n",
       "      <th>GHGEmissionsIntensity</th>\n",
       "      <th>DefaultData</th>\n",
       "    </tr>\n",
       "  </thead>\n",
       "  <tbody>\n",
       "    <tr>\n",
       "      <th>0</th>\n",
       "      <td>NonResidential</td>\n",
       "      <td>1</td>\n",
       "      <td>Hotel</td>\n",
       "      <td>Mayflower park hotel</td>\n",
       "      <td>0659000030</td>\n",
       "      <td>DOWNTOWN</td>\n",
       "      <td>Hotel</td>\n",
       "      <td>Hotel</td>\n",
       "      <td>NaN</td>\n",
       "      <td>NaN</td>\n",
       "      <td>...</td>\n",
       "      <td>0.0</td>\n",
       "      <td>88434.0</td>\n",
       "      <td>88434.0</td>\n",
       "      <td>NaN</td>\n",
       "      <td>NaN</td>\n",
       "      <td>62.5</td>\n",
       "      <td>7103895.25</td>\n",
       "      <td>249.705</td>\n",
       "      <td>2.735</td>\n",
       "      <td>0.5</td>\n",
       "    </tr>\n",
       "    <tr>\n",
       "      <th>1</th>\n",
       "      <td>NonResidential</td>\n",
       "      <td>2</td>\n",
       "      <td>Hotel</td>\n",
       "      <td>Paramount Hotel</td>\n",
       "      <td>0659000220</td>\n",
       "      <td>DOWNTOWN</td>\n",
       "      <td>Hotel, Parking, Restaurant</td>\n",
       "      <td>Hotel</td>\n",
       "      <td>Parking</td>\n",
       "      <td>Restaurant</td>\n",
       "      <td>...</td>\n",
       "      <td>15064.0</td>\n",
       "      <td>88502.0</td>\n",
       "      <td>83880.0</td>\n",
       "      <td>15064.0</td>\n",
       "      <td>4622.0</td>\n",
       "      <td>56.0</td>\n",
       "      <td>8371084.00</td>\n",
       "      <td>279.685</td>\n",
       "      <td>2.620</td>\n",
       "      <td>0.5</td>\n",
       "    </tr>\n",
       "  </tbody>\n",
       "</table>\n",
       "<p>2 rows × 29 columns</p>\n",
       "</div>"
      ],
      "text/plain": [
       "     BuildingType  OSEBuildingID PrimaryPropertyType          PropertyName  \\\n",
       "0  NonResidential              1               Hotel  Mayflower park hotel   \n",
       "1  NonResidential              2               Hotel       Paramount Hotel   \n",
       "\n",
       "  TaxParcelIdentificationNumber Neighborhood   ListOfAllPropertyUseTypes  \\\n",
       "0                    0659000030     DOWNTOWN                       Hotel   \n",
       "1                    0659000220     DOWNTOWN  Hotel, Parking, Restaurant   \n",
       "\n",
       "  LargestPropertyUseType SecondLargestPropertyUseType  \\\n",
       "0                  Hotel                          NaN   \n",
       "1                  Hotel                      Parking   \n",
       "\n",
       "  ThirdLargestPropertyUseType  ... PropertyGFAParking PropertyGFABuilding(s)  \\\n",
       "0                         NaN  ...                0.0                88434.0   \n",
       "1                  Restaurant  ...            15064.0                88502.0   \n",
       "\n",
       "  LargestPropertyUseTypeGFA  SecondLargestPropertyUseTypeGFA  \\\n",
       "0                   88434.0                              NaN   \n",
       "1                   83880.0                          15064.0   \n",
       "\n",
       "   ThirdLargestPropertyUseTypeGFA  ENERGYSTARScore  SiteEnergyUse(kBtu)  \\\n",
       "0                             NaN             62.5           7103895.25   \n",
       "1                          4622.0             56.0           8371084.00   \n",
       "\n",
       "   TotalGHGEmissions  GHGEmissionsIntensity  DefaultData  \n",
       "0            249.705                  2.735          0.5  \n",
       "1            279.685                  2.620          0.5  \n",
       "\n",
       "[2 rows x 29 columns]"
      ]
     },
     "execution_count": 395,
     "metadata": {},
     "output_type": "execute_result"
    }
   ],
   "source": [
    "data_2015_2016.head(2)"
   ]
  },
  {
   "cell_type": "markdown",
   "id": "dc654646",
   "metadata": {},
   "source": [
    "Nan mean per feature"
   ]
  },
  {
   "cell_type": "code",
   "execution_count": 396,
   "id": "22d2dce3",
   "metadata": {},
   "outputs": [
    {
     "data": {
      "text/plain": [
       "Outlier                            0.989808\n",
       "YearsENERGYSTARCertified           0.941247\n",
       "ThirdLargestPropertyUseType        0.788369\n",
       "ThirdLargestPropertyUseTypeGFA     0.785372\n",
       "SecondLargestPropertyUseType       0.487410\n",
       "SecondLargestPropertyUseTypeGFA    0.486211\n",
       "ENERGYSTARScore                    0.318945\n",
       "LargestPropertyUseTypeGFA          0.003597\n",
       "LargestPropertyUseType             0.003597\n",
       "ListOfAllPropertyUseTypes          0.001199\n",
       "PropertyGFABuilding(s)             0.000000\n",
       "BuildingType                       0.000000\n",
       "PropertyGFATotal                   0.000000\n",
       "SiteEnergyUse(kBtu)                0.000000\n",
       "TotalGHGEmissions                  0.000000\n",
       "GHGEmissionsIntensity              0.000000\n",
       "PropertyGFAParking                 0.000000\n",
       "CouncilDistrictCode                0.000000\n",
       "NumberofFloors                     0.000000\n",
       "NumberofBuildings                  0.000000\n",
       "YearBuilt                          0.000000\n",
       "OSEBuildingID                      0.000000\n",
       "DataYear                           0.000000\n",
       "ComplianceStatus                   0.000000\n",
       "Neighborhood                       0.000000\n",
       "TaxParcelIdentificationNumber      0.000000\n",
       "PropertyName                       0.000000\n",
       "PrimaryPropertyType                0.000000\n",
       "DefaultData                        0.000000\n",
       "dtype: float64"
      ]
     },
     "execution_count": 396,
     "metadata": {},
     "output_type": "execute_result"
    }
   ],
   "source": [
    "#Qualifier fonctionnellement la donnée\n",
    "data_2015_2016.isna().mean().sort_values(ascending=False)"
   ]
  },
  {
   "cell_type": "markdown",
   "id": "863caa08",
   "metadata": {},
   "source": [
    "Generation of Dataframe Nan mean per feature (to filter the datas)"
   ]
  },
  {
   "cell_type": "code",
   "execution_count": 397,
   "id": "9d8c8f8c",
   "metadata": {},
   "outputs": [],
   "source": [
    "dataNA = data_2015_2016.isna().mean().to_frame()"
   ]
  },
  {
   "cell_type": "code",
   "execution_count": 398,
   "id": "d4a5dc09",
   "metadata": {},
   "outputs": [],
   "source": [
    "dataNA.columns = ['Moyenne NA par colonne']"
   ]
  },
  {
   "cell_type": "code",
   "execution_count": 399,
   "id": "08484dc2",
   "metadata": {},
   "outputs": [
    {
     "data": {
      "text/html": [
       "<div>\n",
       "<style scoped>\n",
       "    .dataframe tbody tr th:only-of-type {\n",
       "        vertical-align: middle;\n",
       "    }\n",
       "\n",
       "    .dataframe tbody tr th {\n",
       "        vertical-align: top;\n",
       "    }\n",
       "\n",
       "    .dataframe thead th {\n",
       "        text-align: right;\n",
       "    }\n",
       "</style>\n",
       "<table border=\"1\" class=\"dataframe\">\n",
       "  <thead>\n",
       "    <tr style=\"text-align: right;\">\n",
       "      <th></th>\n",
       "      <th>Moyenne NA par colonne</th>\n",
       "    </tr>\n",
       "  </thead>\n",
       "  <tbody>\n",
       "    <tr>\n",
       "      <th>count</th>\n",
       "      <td>29.000000</td>\n",
       "    </tr>\n",
       "    <tr>\n",
       "      <th>mean</th>\n",
       "      <td>0.165716</td>\n",
       "    </tr>\n",
       "    <tr>\n",
       "      <th>std</th>\n",
       "      <td>0.320899</td>\n",
       "    </tr>\n",
       "    <tr>\n",
       "      <th>min</th>\n",
       "      <td>0.000000</td>\n",
       "    </tr>\n",
       "    <tr>\n",
       "      <th>25%</th>\n",
       "      <td>0.000000</td>\n",
       "    </tr>\n",
       "    <tr>\n",
       "      <th>50%</th>\n",
       "      <td>0.000000</td>\n",
       "    </tr>\n",
       "    <tr>\n",
       "      <th>75%</th>\n",
       "      <td>0.003597</td>\n",
       "    </tr>\n",
       "    <tr>\n",
       "      <th>max</th>\n",
       "      <td>0.989808</td>\n",
       "    </tr>\n",
       "  </tbody>\n",
       "</table>\n",
       "</div>"
      ],
      "text/plain": [
       "       Moyenne NA par colonne\n",
       "count               29.000000\n",
       "mean                 0.165716\n",
       "std                  0.320899\n",
       "min                  0.000000\n",
       "25%                  0.000000\n",
       "50%                  0.000000\n",
       "75%                  0.003597\n",
       "max                  0.989808"
      ]
     },
     "execution_count": 399,
     "metadata": {},
     "output_type": "execute_result"
    }
   ],
   "source": [
    "dataNA.describe()"
   ]
  },
  {
   "cell_type": "markdown",
   "id": "502479e8",
   "metadata": {},
   "source": [
    "Filter on feature with a mean higher than 50% of NAN"
   ]
  },
  {
   "cell_type": "code",
   "execution_count": 400,
   "id": "4e1281f1",
   "metadata": {},
   "outputs": [],
   "source": [
    "listeColumnNA = dataNA[dataNA['Moyenne NA par colonne'] > 0.5].index.tolist()"
   ]
  },
  {
   "cell_type": "code",
   "execution_count": 401,
   "id": "21c52eb1",
   "metadata": {},
   "outputs": [
    {
     "data": {
      "text/plain": [
       "['ThirdLargestPropertyUseType',\n",
       " 'YearsENERGYSTARCertified',\n",
       " 'Outlier',\n",
       " 'ThirdLargestPropertyUseTypeGFA']"
      ]
     },
     "execution_count": 401,
     "metadata": {},
     "output_type": "execute_result"
    }
   ],
   "source": [
    "listeColumnNA"
   ]
  },
  {
   "cell_type": "markdown",
   "id": "c0833b3c",
   "metadata": {},
   "source": [
    "We keep the feature with a mean lower than 50% of NAN"
   ]
  },
  {
   "cell_type": "code",
   "execution_count": 402,
   "id": "91287fa9",
   "metadata": {},
   "outputs": [],
   "source": [
    "listeColumn = dataNA[dataNA['Moyenne NA par colonne'] < 0.5].index.tolist()"
   ]
  },
  {
   "cell_type": "markdown",
   "id": "79c82c3a",
   "metadata": {},
   "source": [
    "We want to take into account the datat in 'Outlier' column"
   ]
  },
  {
   "cell_type": "markdown",
   "id": "18d3a113",
   "metadata": {},
   "source": [
    "Filter on column named 'Outlier' before preprocessing outliers"
   ]
  },
  {
   "cell_type": "code",
   "execution_count": 403,
   "id": "8ac4aca0",
   "metadata": {},
   "outputs": [
    {
     "data": {
      "text/plain": [
       "array([nan, 'High outlier', 'Low outlier'], dtype=object)"
      ]
     },
     "execution_count": 403,
     "metadata": {},
     "output_type": "execute_result"
    }
   ],
   "source": [
    "data_2015_2016['Outlier'].unique()"
   ]
  },
  {
   "cell_type": "code",
   "execution_count": 404,
   "id": "b1009a0a",
   "metadata": {},
   "outputs": [],
   "source": [
    "data_2015_2016withOutlier = data_2015_2016[~data_2015_2016['Outlier'].str.contains(\"High\", na=False)]"
   ]
  },
  {
   "cell_type": "code",
   "execution_count": 405,
   "id": "24542b83",
   "metadata": {},
   "outputs": [
    {
     "data": {
      "text/plain": [
       "(1666, 29)"
      ]
     },
     "execution_count": 405,
     "metadata": {},
     "output_type": "execute_result"
    }
   ],
   "source": [
    "data_2015_2016withOutlier.shape"
   ]
  },
  {
   "cell_type": "code",
   "execution_count": 406,
   "id": "953eff09",
   "metadata": {},
   "outputs": [
    {
     "data": {
      "text/plain": [
       "array([nan, 'Low outlier'], dtype=object)"
      ]
     },
     "execution_count": 406,
     "metadata": {},
     "output_type": "execute_result"
    }
   ],
   "source": [
    "data_2015_2016withOutlier['Outlier'].unique()"
   ]
  },
  {
   "cell_type": "markdown",
   "id": "a33a0ca0",
   "metadata": {},
   "source": [
    "We apply the filter to remove features with a lot of NAN"
   ]
  },
  {
   "cell_type": "code",
   "execution_count": 407,
   "id": "965423aa",
   "metadata": {},
   "outputs": [],
   "source": [
    "data_2015_2016_OutColumns = data_2015_2016withOutlier[listeColumn]"
   ]
  },
  {
   "cell_type": "code",
   "execution_count": 408,
   "id": "fd11a647",
   "metadata": {},
   "outputs": [
    {
     "data": {
      "text/plain": [
       "(1666, 25)"
      ]
     },
     "execution_count": 408,
     "metadata": {},
     "output_type": "execute_result"
    }
   ],
   "source": [
    "data_2015_2016_OutColumns.shape"
   ]
  },
  {
   "cell_type": "markdown",
   "id": "f7b0babd",
   "metadata": {},
   "source": [
    "Verification of unique value"
   ]
  },
  {
   "cell_type": "code",
   "execution_count": 409,
   "id": "3f5b240d",
   "metadata": {},
   "outputs": [
    {
     "data": {
      "text/plain": [
       "OSEBuildingID                      1666\n",
       "SiteEnergyUse(kBtu)                1666\n",
       "PropertyName                       1662\n",
       "TotalGHGEmissions                  1647\n",
       "PropertyGFATotal                   1590\n",
       "TaxParcelIdentificationNumber      1585\n",
       "PropertyGFABuilding(s)             1585\n",
       "LargestPropertyUseTypeGFA          1561\n",
       "GHGEmissionsIntensity               754\n",
       "SecondLargestPropertyUseTypeGFA     704\n",
       "ListOfAllPropertyUseTypes           373\n",
       "PropertyGFAParking                  352\n",
       "ENERGYSTARScore                     193\n",
       "YearBuilt                           113\n",
       "LargestPropertyUseType               56\n",
       "SecondLargestPropertyUseType         47\n",
       "NumberofFloors                       45\n",
       "PrimaryPropertyType                  22\n",
       "NumberofBuildings                    19\n",
       "Neighborhood                         19\n",
       "CouncilDistrictCode                   8\n",
       "BuildingType                          5\n",
       "ComplianceStatus                      4\n",
       "DefaultData                           3\n",
       "DataYear                              2\n",
       "dtype: int64"
      ]
     },
     "execution_count": 409,
     "metadata": {},
     "output_type": "execute_result"
    }
   ],
   "source": [
    "data_2015_2016_OutColumns.apply(pd.Series.nunique).sort_values(ascending = False)"
   ]
  },
  {
   "cell_type": "markdown",
   "id": "92e6590f",
   "metadata": {},
   "source": [
    "## Replacement and Removal of NAN"
   ]
  },
  {
   "cell_type": "code",
   "execution_count": 410,
   "id": "88a5fa96",
   "metadata": {},
   "outputs": [
    {
     "data": {
      "text/plain": [
       "(1666, 25)"
      ]
     },
     "execution_count": 410,
     "metadata": {},
     "output_type": "execute_result"
    }
   ],
   "source": [
    "data_2015_2016_OutColumns.shape"
   ]
  },
  {
   "cell_type": "code",
   "execution_count": 411,
   "id": "c0908438",
   "metadata": {},
   "outputs": [
    {
     "data": {
      "text/plain": [
       "SecondLargestPropertyUseType       0.487995\n",
       "SecondLargestPropertyUseTypeGFA    0.486795\n",
       "ENERGYSTARScore                    0.318727\n",
       "LargestPropertyUseType             0.003601\n",
       "LargestPropertyUseTypeGFA          0.003601\n",
       "ListOfAllPropertyUseTypes          0.001200\n",
       "BuildingType                       0.000000\n",
       "NumberofFloors                     0.000000\n",
       "GHGEmissionsIntensity              0.000000\n",
       "TotalGHGEmissions                  0.000000\n",
       "SiteEnergyUse(kBtu)                0.000000\n",
       "PropertyGFABuilding(s)             0.000000\n",
       "PropertyGFAParking                 0.000000\n",
       "PropertyGFATotal                   0.000000\n",
       "YearBuilt                          0.000000\n",
       "NumberofBuildings                  0.000000\n",
       "OSEBuildingID                      0.000000\n",
       "CouncilDistrictCode                0.000000\n",
       "DataYear                           0.000000\n",
       "ComplianceStatus                   0.000000\n",
       "Neighborhood                       0.000000\n",
       "TaxParcelIdentificationNumber      0.000000\n",
       "PropertyName                       0.000000\n",
       "PrimaryPropertyType                0.000000\n",
       "DefaultData                        0.000000\n",
       "dtype: float64"
      ]
     },
     "execution_count": 411,
     "metadata": {},
     "output_type": "execute_result"
    }
   ],
   "source": [
    "data_2015_2016_OutColumns.isna().mean().sort_values(ascending=False)"
   ]
  },
  {
   "cell_type": "code",
   "execution_count": 412,
   "id": "b9c74d7e",
   "metadata": {},
   "outputs": [],
   "source": [
    "data_2015_2016_OutColumn = data_2015_2016_OutColumns.copy()"
   ]
  },
  {
   "cell_type": "code",
   "execution_count": 413,
   "id": "e79a6ae1",
   "metadata": {},
   "outputs": [],
   "source": [
    "data_2015_2016_OutColumn['SecondLargestPropertyUseTypeGFA'] = data_2015_2016_OutColumns['SecondLargestPropertyUseTypeGFA'].fillna(data_2015_2016_OutColumns['SecondLargestPropertyUseTypeGFA'].mean())\n",
    "data_2015_2016_OutColumn['ENERGYSTARScore'] = data_2015_2016_OutColumns['ENERGYSTARScore'].fillna(data_2015_2016_OutColumns['ENERGYSTARScore'].mean())\n",
    "data_2015_2016_OutColumn['LargestPropertyUseTypeGFA'] = data_2015_2016_OutColumns['LargestPropertyUseTypeGFA'].fillna(data_2015_2016_OutColumns['LargestPropertyUseTypeGFA'].mean())"
   ]
  },
  {
   "cell_type": "code",
   "execution_count": 414,
   "id": "6375fe55",
   "metadata": {},
   "outputs": [
    {
     "data": {
      "text/plain": [
       "SecondLargestPropertyUseType       0.487995\n",
       "LargestPropertyUseType             0.003601\n",
       "ListOfAllPropertyUseTypes          0.001200\n",
       "BuildingType                       0.000000\n",
       "NumberofFloors                     0.000000\n",
       "GHGEmissionsIntensity              0.000000\n",
       "TotalGHGEmissions                  0.000000\n",
       "SiteEnergyUse(kBtu)                0.000000\n",
       "ENERGYSTARScore                    0.000000\n",
       "SecondLargestPropertyUseTypeGFA    0.000000\n",
       "LargestPropertyUseTypeGFA          0.000000\n",
       "PropertyGFABuilding(s)             0.000000\n",
       "PropertyGFAParking                 0.000000\n",
       "PropertyGFATotal                   0.000000\n",
       "YearBuilt                          0.000000\n",
       "NumberofBuildings                  0.000000\n",
       "OSEBuildingID                      0.000000\n",
       "CouncilDistrictCode                0.000000\n",
       "DataYear                           0.000000\n",
       "ComplianceStatus                   0.000000\n",
       "Neighborhood                       0.000000\n",
       "TaxParcelIdentificationNumber      0.000000\n",
       "PropertyName                       0.000000\n",
       "PrimaryPropertyType                0.000000\n",
       "DefaultData                        0.000000\n",
       "dtype: float64"
      ]
     },
     "execution_count": 414,
     "metadata": {},
     "output_type": "execute_result"
    }
   ],
   "source": [
    "data_2015_2016_OutColumn.isna().mean().sort_values(ascending=False)"
   ]
  },
  {
   "cell_type": "code",
   "execution_count": 415,
   "id": "ccfd3d29",
   "metadata": {},
   "outputs": [],
   "source": [
    "data_all = data_2015_2016_OutColumn.dropna()\n",
    "#data_all = imp_mean.transform(data_2015_2016_OutColumns)"
   ]
  },
  {
   "cell_type": "code",
   "execution_count": 416,
   "id": "e865f7fe",
   "metadata": {},
   "outputs": [
    {
     "data": {
      "text/plain": [
       "(853, 25)"
      ]
     },
     "execution_count": 416,
     "metadata": {},
     "output_type": "execute_result"
    }
   ],
   "source": [
    "data_all.shape"
   ]
  },
  {
   "cell_type": "code",
   "execution_count": 417,
   "id": "7bc65981",
   "metadata": {},
   "outputs": [
    {
     "data": {
      "text/plain": [
       "BuildingType                       0\n",
       "OSEBuildingID                      0\n",
       "PrimaryPropertyType                0\n",
       "PropertyName                       0\n",
       "TaxParcelIdentificationNumber      0\n",
       "Neighborhood                       0\n",
       "ListOfAllPropertyUseTypes          0\n",
       "LargestPropertyUseType             0\n",
       "SecondLargestPropertyUseType       0\n",
       "ComplianceStatus                   0\n",
       "DataYear                           0\n",
       "CouncilDistrictCode                0\n",
       "YearBuilt                          0\n",
       "NumberofBuildings                  0\n",
       "NumberofFloors                     0\n",
       "PropertyGFATotal                   0\n",
       "PropertyGFAParking                 0\n",
       "PropertyGFABuilding(s)             0\n",
       "LargestPropertyUseTypeGFA          0\n",
       "SecondLargestPropertyUseTypeGFA    0\n",
       "ENERGYSTARScore                    0\n",
       "SiteEnergyUse(kBtu)                0\n",
       "TotalGHGEmissions                  0\n",
       "GHGEmissionsIntensity              0\n",
       "DefaultData                        0\n",
       "dtype: int64"
      ]
     },
     "execution_count": 417,
     "metadata": {},
     "output_type": "execute_result"
    }
   ],
   "source": [
    "data_all.isnull().sum()"
   ]
  },
  {
   "cell_type": "markdown",
   "id": "72d81f1e",
   "metadata": {},
   "source": [
    "### Analyze before Encoding"
   ]
  },
  {
   "cell_type": "code",
   "execution_count": 418,
   "id": "6c6717d0",
   "metadata": {},
   "outputs": [],
   "source": [
    "df_AllPropertyUseTypesbycolumn = data_all['ListOfAllPropertyUseTypes'].str.split(',', expand = True)"
   ]
  },
  {
   "cell_type": "code",
   "execution_count": 419,
   "id": "89a31e44",
   "metadata": {},
   "outputs": [
    {
     "data": {
      "text/plain": [
       "0      0.000000\n",
       "1      0.586166\n",
       "2     59.085580\n",
       "3     82.766706\n",
       "4     91.793669\n",
       "5     96.717468\n",
       "6     98.944900\n",
       "7     99.413834\n",
       "8     99.531067\n",
       "9     99.882767\n",
       "10    99.882767\n",
       "dtype: float64"
      ]
     },
     "execution_count": 419,
     "metadata": {},
     "output_type": "execute_result"
    }
   ],
   "source": [
    "(df_AllPropertyUseTypesbycolumn.isnull().sum()*100)/len(df_AllPropertyUseTypesbycolumn)"
   ]
  },
  {
   "cell_type": "markdown",
   "id": "7d147af8",
   "metadata": {},
   "source": [
    "Variety analysis of data"
   ]
  },
  {
   "cell_type": "code",
   "execution_count": 420,
   "id": "64456ea1",
   "metadata": {},
   "outputs": [
    {
     "name": "stdout",
     "output_type": "stream",
     "text": [
      "Office                                   315\n",
      "Non-Refrigerated Warehouse               129\n",
      "Parking                                   49\n",
      "Data Center                               41\n",
      "Hotel                                     37\n",
      "Distribution Center                       37\n",
      "Medical Office                            32\n",
      "Multifamily Housing                       26\n",
      "Fitness Center/Health Club/Gym            25\n",
      "Other                                     25\n",
      "Bank Branch                               16\n",
      "Laboratory                                14\n",
      "K-12 School                               11\n",
      "Financial Office                          11\n",
      "Food Service                               9\n",
      "Hospital (General Medical & Surgical)      6\n",
      "Automobile Dealership                      5\n",
      "Food Sales                                 5\n",
      "College/University                         5\n",
      "Other - Entertainment/Public Assembly      5\n",
      "Other - Recreation                         4\n",
      "Bar/Nightclub                              4\n",
      "Retail Store                               4\n",
      "Convenience Store without Gas Station      3\n",
      "Library                                    3\n",
      "Other - Education                          3\n",
      "Manufacturing/Industrial Plant             3\n",
      "Adult Education                            3\n",
      "Other - Mall                               3\n",
      "Other - Public Services                    2\n",
      "Lifestyle Center                           2\n",
      "Movie Theater                              2\n",
      "Restaurant                                 2\n",
      "Fast Food Restaurant                       2\n",
      "Enclosed Mall                              1\n",
      "Personal Services (Health/Beauty           1\n",
      "Convention Center                          1\n",
      "Energy/Power Station                       1\n",
      "Courthouse                                 1\n",
      "Museum                                     1\n",
      "Other - Lodging/Residential                1\n",
      "Pre-school/Daycare                         1\n",
      "Other - Services                           1\n",
      "Residence Hall/Dormitory                   1\n",
      "Name: 0, dtype: int64\n",
      " Parking                                  243\n",
      " Office                                   234\n",
      " Other                                     75\n",
      " Retail Store                              72\n",
      " Restaurant                                30\n",
      " Worship Facility                          22\n",
      " Non-Refrigerated Warehouse                22\n",
      " Supermarket/Grocery Store                 21\n",
      " Medical Office                            10\n",
      " Multifamily Housing                       10\n",
      " Other - Services                          10\n",
      " Other - Entertainment/Public Assembly      9\n",
      " Senior Care Community                      8\n",
      " Other - Recreation                         7\n",
      " Other - Restaurant/Bar                     6\n",
      " Food Service                               6\n",
      " Laboratory                                 5\n",
      " Residence Hall/Dormitory                   4\n",
      " Distribution Center                        4\n",
      " Self-Storage Facility                      4\n",
      " Swimming Pool                              4\n",
      " Social/Meeting Hall                        3\n",
      " Refrigerated Warehouse                     3\n",
      " Strip Mall                                 3\n",
      " Financial Office                           3\n",
      " Repair Services (Vehicle                   3\n",
      " Food Sales                                 3\n",
      " Library                                    3\n",
      " Performing Arts                            3\n",
      " Hotel                                      2\n",
      " Other - Public Services                    2\n",
      " Other - Education                          2\n",
      " Manufacturing/Industrial Plant             1\n",
      " Other - Utility                            1\n",
      " Other/Specialty Hospital                   1\n",
      " Personal Services (Health/Beauty           1\n",
      " Bank Branch                                1\n",
      " Bar/Nightclub                              1\n",
      " Other - Lodging/Residential                1\n",
      " Other - Technology/Science                 1\n",
      " Fitness Center/Health Club/Gym             1\n",
      " Dry Cleaning                               1\n",
      " Data Center                                1\n",
      " Pre-school/Daycare                         1\n",
      "Name: 1, dtype: int64\n"
     ]
    }
   ],
   "source": [
    "for i in range(2):\n",
    "    print(df_AllPropertyUseTypesbycolumn[i].value_counts())"
   ]
  },
  {
   "cell_type": "code",
   "execution_count": 421,
   "id": "cf142720",
   "metadata": {},
   "outputs": [
    {
     "data": {
      "text/plain": [
       "DOWNTOWN                 0.280188\n",
       "GREATER DUWAMISH         0.201641\n",
       "LAKE UNION               0.118406\n",
       "MAGNOLIA / QUEEN ANNE    0.085580\n",
       "EAST                     0.067995\n",
       "NORTHEAST                0.057444\n",
       "BALLARD                  0.036342\n",
       "NORTHWEST                0.032825\n",
       "NORTH                    0.028136\n",
       "CENTRAL                  0.023447\n",
       "DELRIDGE                 0.018757\n",
       "SOUTHEAST                0.018757\n",
       "SOUTHWEST                0.017585\n",
       "North                    0.004689\n",
       "Ballard                  0.003517\n",
       "Delridge                 0.002345\n",
       "Central                  0.002345\n",
       "Name: Neighborhood, dtype: float64"
      ]
     },
     "execution_count": 421,
     "metadata": {},
     "output_type": "execute_result"
    }
   ],
   "source": [
    "data_all['Neighborhood'].value_counts(normalize=True)"
   ]
  },
  {
   "cell_type": "code",
   "execution_count": 422,
   "id": "4239981e",
   "metadata": {},
   "outputs": [
    {
     "data": {
      "text/plain": [
       "NonResidential        0.930832\n",
       "Nonresidential COS    0.053927\n",
       "Campus                0.012896\n",
       "SPS-District K-12     0.002345\n",
       "Name: BuildingType, dtype: float64"
      ]
     },
     "execution_count": 422,
     "metadata": {},
     "output_type": "execute_result"
    }
   ],
   "source": [
    "data_all['BuildingType'].value_counts(normalize=True)"
   ]
  },
  {
   "cell_type": "code",
   "execution_count": 423,
   "id": "89029f42",
   "metadata": {},
   "outputs": [
    {
     "data": {
      "text/plain": [
       "Small- and Mid-Sized Office    0.207503\n",
       "Large Office                   0.177022\n",
       "Mixed Use Property             0.132474\n",
       "Other                          0.131301\n",
       "Warehouse                      0.100821\n",
       "Retail Store                   0.043376\n",
       "Hotel                          0.039859\n",
       "Distribution Center            0.033998\n",
       "Worship Facility               0.026964\n",
       "Medical Office                 0.022274\n",
       "Supermarket / Grocery Store    0.022274\n",
       "Senior Care Community          0.012896\n",
       "Residence Hall                 0.007034\n",
       "Refrigerated Warehouse         0.007034\n",
       "Restaurant                     0.007034\n",
       "Hospital                       0.005862\n",
       "Laboratory                     0.005862\n",
       "K-12 School                    0.004689\n",
       "Self-Storage Facility          0.004689\n",
       "University                     0.004689\n",
       "Low-Rise Multifamily           0.002345\n",
       "Name: PrimaryPropertyType, dtype: float64"
      ]
     },
     "execution_count": 423,
     "metadata": {},
     "output_type": "execute_result"
    }
   ],
   "source": [
    "data_all['PrimaryPropertyType'].value_counts(normalize=True)"
   ]
  },
  {
   "cell_type": "markdown",
   "id": "848daf39",
   "metadata": {},
   "source": [
    "### Univariate analysis"
   ]
  },
  {
   "cell_type": "markdown",
   "id": "979bab6a",
   "metadata": {},
   "source": [
    "#### Variable analysis SiteEnergyUse(kBtu)"
   ]
  },
  {
   "cell_type": "code",
   "execution_count": 424,
   "id": "c4859f4d",
   "metadata": {},
   "outputs": [
    {
     "data": {
      "text/plain": [
       "count    8.530000e+02\n",
       "mean     1.031659e+07\n",
       "std      2.680567e+07\n",
       "min      1.697945e+04\n",
       "25%      1.550182e+06\n",
       "50%      3.544001e+06\n",
       "75%      9.375001e+06\n",
       "max      4.483853e+08\n",
       "Name: SiteEnergyUse(kBtu), dtype: float64"
      ]
     },
     "execution_count": 424,
     "metadata": {},
     "output_type": "execute_result"
    }
   ],
   "source": [
    "data_all['SiteEnergyUse(kBtu)'].describe()"
   ]
  },
  {
   "cell_type": "code",
   "execution_count": 425,
   "id": "660ed10b",
   "metadata": {},
   "outputs": [
    {
     "data": {
      "text/plain": [
       "35     Energy/Power Station, Laboratory, Manufacturin...\n",
       "170       Hospital (General Medical & Surgical), Parking\n",
       "Name: ListOfAllPropertyUseTypes, dtype: object"
      ]
     },
     "execution_count": 425,
     "metadata": {},
     "output_type": "execute_result"
    }
   ],
   "source": [
    "#Observing the outliers of the SiteEnergyUse(kBtu) variable\n",
    "data_all[data_all['SiteEnergyUse(kBtu)'] > 290000000]['ListOfAllPropertyUseTypes'].head()"
   ]
  },
  {
   "cell_type": "code",
   "execution_count": 426,
   "id": "d9d3d975",
   "metadata": {},
   "outputs": [
    {
     "data": {
      "text/plain": [
       "<AxesSubplot:title={'center':'Distribution de SiteEnergyUse(kBtu)'}, xlabel='SiteEnergyUse(kBtu)', ylabel='Count'>"
      ]
     },
     "execution_count": 426,
     "metadata": {},
     "output_type": "execute_result"
    },
    {
     "data": {
      "image/png": "[encoded data removed]",
      "text/plain": [
       "<Figure size 432x288 with 1 Axes>"
      ]
     },
     "metadata": {
      "needs_background": "light"
     },
     "output_type": "display_data"
    }
   ],
   "source": [
    "plt.title('Distribution de SiteEnergyUse(kBtu)')\n",
    "sns.histplot(data_all['SiteEnergyUse(kBtu)'], bins=40, kde=True)\n",
    "#plt.savefig('DistributionSiteEnergyUse.png')"
   ]
  },
  {
   "cell_type": "code",
   "execution_count": 427,
   "id": "8a294aff",
   "metadata": {},
   "outputs": [
    {
     "data": {
      "text/plain": [
       "<matplotlib.collections.PathCollection at 0x7fd052279280>"
      ]
     },
     "execution_count": 427,
     "metadata": {},
     "output_type": "execute_result"
    },
    {
     "data": {
      "image/png": "[encoded data removed]",
      "text/plain": [
       "<Figure size 432x288 with 1 Axes>"
      ]
     },
     "metadata": {
      "needs_background": "light"
     },
     "output_type": "display_data"
    }
   ],
   "source": [
    "plt.title('Nuage de point SiteEnergyUse(kBtu) et YearBuilt')\n",
    "plt.ylabel('SiteEnergyUse(kBtu)')\n",
    "plt.xlabel('YearBuilt')\n",
    "plt.scatter(data_all['YearBuilt'], data_all['SiteEnergyUse(kBtu)'])\n",
    "#plt.savefig('Nuagedepoint SiteEnergyUse(kBtu) et YearBuilt.png')"
   ]
  },
  {
   "cell_type": "markdown",
   "id": "7087a6e5",
   "metadata": {},
   "source": [
    "#### Variable TotalGHGEmissions analysis"
   ]
  },
  {
   "cell_type": "code",
   "execution_count": 428,
   "id": "c0fb7e99",
   "metadata": {},
   "outputs": [
    {
     "data": {
      "text/plain": [
       "count      853.000000\n",
       "mean       215.803148\n",
       "std        875.389417\n",
       "min          0.120000\n",
       "25%         24.400000\n",
       "50%         59.985000\n",
       "75%        166.200000\n",
       "max      16870.980000\n",
       "Name: TotalGHGEmissions, dtype: float64"
      ]
     },
     "execution_count": 428,
     "metadata": {},
     "output_type": "execute_result"
    }
   ],
   "source": [
    "data_all['TotalGHGEmissions'].describe()"
   ]
  },
  {
   "cell_type": "code",
   "execution_count": 429,
   "id": "0dfaf0cb",
   "metadata": {},
   "outputs": [
    {
     "data": {
      "text/plain": [
       "<AxesSubplot:title={'center':'Distribution de TotalGHGEmissions'}, xlabel='TotalGHGEmissions', ylabel='Count'>"
      ]
     },
     "execution_count": 429,
     "metadata": {},
     "output_type": "execute_result"
    },
    {
     "data": {
      "image/png": "[encoded data removed]",
      "text/plain": [
       "<Figure size 432x288 with 1 Axes>"
      ]
     },
     "metadata": {
      "needs_background": "light"
     },
     "output_type": "display_data"
    }
   ],
   "source": [
    "plt.title('Distribution de TotalGHGEmissions')\n",
    "sns.histplot(data_all['TotalGHGEmissions'],bins = 40, kde=True)\n",
    "#plt.savefig('DistributionTotalGHGEmissions.png')"
   ]
  },
  {
   "cell_type": "code",
   "execution_count": 430,
   "id": "134a00aa",
   "metadata": {},
   "outputs": [
    {
     "data": {
      "text/plain": [
       "<matplotlib.collections.PathCollection at 0x7fd052b5aa00>"
      ]
     },
     "execution_count": 430,
     "metadata": {},
     "output_type": "execute_result"
    },
    {
     "data": {
      "image/png": "[encoded data removed]",
      "text/plain": [
       "<Figure size 432x288 with 1 Axes>"
      ]
     },
     "metadata": {
      "needs_background": "light"
     },
     "output_type": "display_data"
    }
   ],
   "source": [
    "plt.title('Nuage de point TotalGHGEmissions et YearBuilt')\n",
    "plt.ylabel('TotalGHGEmissions')\n",
    "plt.xlabel('YearBuilt')\n",
    "plt.scatter(data_all['YearBuilt'], data_all['TotalGHGEmissions'])\n",
    "#plt.savefig('Nuagedepoint TotalGHGEmissions et YearBuilt.png')"
   ]
  },
  {
   "cell_type": "markdown",
   "id": "5319dfe0",
   "metadata": {},
   "source": [
    "###  Analysis of features' selection"
   ]
  },
  {
   "cell_type": "code",
   "execution_count": 431,
   "id": "7938a205",
   "metadata": {},
   "outputs": [],
   "source": [
    "#'PrimaryPropertyType''ListOfAllPropertyUseTypes'\n",
    "#df_all = data_all[['DataYear','BuildingType','Neighborhood','PrimaryPropertyType','ListOfAllPropertyUseTypes','LargestPropertyUseTypeGFA','PropertyGFATotal','PropertyGFAParking','PropertyGFABuilding(s)','YearBuilt','NumberofBuildings','NumberofFloors','ENERGYSTARScore','SiteEnergyUse(kBtu)','NaturalGas(therms)','Electricity(kWh)','Electricity(kBtu)','GHGEmissionsIntensity','TotalGHGEmissions']]\n",
    "df_all = data_all"
   ]
  },
  {
   "cell_type": "code",
   "execution_count": 432,
   "id": "793ce082",
   "metadata": {},
   "outputs": [],
   "source": [
    "listNumerical = data_all.select_dtypes(include=['float64','int64']).columns"
   ]
  },
  {
   "cell_type": "code",
   "execution_count": 433,
   "id": "b6a53a01",
   "metadata": {},
   "outputs": [],
   "source": [
    "#DataFrame with numerical features\n",
    "#We remove the features which has no outliers\n",
    "df_numerical = data_all[listNumerical].drop(['OSEBuildingID','DataYear', 'CouncilDistrictCode', 'YearBuilt', 'NumberofBuildings','NumberofFloors', 'PropertyGFATotal', 'PropertyGFAParking','PropertyGFABuilding(s)', 'LargestPropertyUseTypeGFA','SecondLargestPropertyUseTypeGFA', 'ENERGYSTARScore'], axis=1)"
   ]
  },
  {
   "cell_type": "code",
   "execution_count": 434,
   "id": "cb2c9c89",
   "metadata": {},
   "outputs": [],
   "source": [
    "#listCategorical = data_all.select_dtypes(include=['object','bool']).columns"
   ]
  },
  {
   "cell_type": "code",
   "execution_count": 435,
   "id": "093b4326",
   "metadata": {},
   "outputs": [],
   "source": [
    "#DataFrame avec variables categoriques\n",
    "#df_categorical = data_all[['ListOfAllPropertyUseTypes','Neighborhood','BuildingType','PrimaryPropertyType']]\n",
    "#df_categorical = data_all[listCategorical]"
   ]
  },
  {
   "cell_type": "markdown",
   "id": "7c269b75",
   "metadata": {},
   "source": [
    "# Feature Engineering"
   ]
  },
  {
   "cell_type": "markdown",
   "id": "69cf1402",
   "metadata": {},
   "source": [
    "# Outliers Analysis"
   ]
  },
  {
   "cell_type": "code",
   "execution_count": 436,
   "id": "22613476",
   "metadata": {},
   "outputs": [],
   "source": [
    "#Outliers pour l'ensemble des variables numériques\n",
    "#Le .at permet d'affecter une valeur dans une cellule du Dataframe\n",
    "df_outlier_numerical = pd.DataFrame()\n",
    "for j in df_numerical.columns:\n",
    "    for k in np.arange(99.01, 100, 0.01):\n",
    "        df_outlier_numerical.at[k, j] = np.percentile(df_numerical[j],k)"
   ]
  },
  {
   "cell_type": "code",
   "execution_count": 437,
   "id": "be37e565",
   "metadata": {},
   "outputs": [
    {
     "data": {
      "text/html": [
       "<div>\n",
       "<style scoped>\n",
       "    .dataframe tbody tr th:only-of-type {\n",
       "        vertical-align: middle;\n",
       "    }\n",
       "\n",
       "    .dataframe tbody tr th {\n",
       "        vertical-align: top;\n",
       "    }\n",
       "\n",
       "    .dataframe thead th {\n",
       "        text-align: right;\n",
       "    }\n",
       "</style>\n",
       "<table border=\"1\" class=\"dataframe\">\n",
       "  <thead>\n",
       "    <tr style=\"text-align: right;\">\n",
       "      <th></th>\n",
       "      <th>SiteEnergyUse(kBtu)</th>\n",
       "      <th>TotalGHGEmissions</th>\n",
       "      <th>GHGEmissionsIntensity</th>\n",
       "      <th>DefaultData</th>\n",
       "    </tr>\n",
       "  </thead>\n",
       "  <tbody>\n",
       "    <tr>\n",
       "      <th>99.01</th>\n",
       "      <td>9.534321e+07</td>\n",
       "      <td>2709.281618</td>\n",
       "      <td>10.97978</td>\n",
       "      <td>0.5</td>\n",
       "    </tr>\n",
       "    <tr>\n",
       "      <th>99.02</th>\n",
       "      <td>9.558354e+07</td>\n",
       "      <td>2718.395036</td>\n",
       "      <td>10.99256</td>\n",
       "      <td>0.5</td>\n",
       "    </tr>\n",
       "    <tr>\n",
       "      <th>99.03</th>\n",
       "      <td>9.582388e+07</td>\n",
       "      <td>2727.508454</td>\n",
       "      <td>11.00534</td>\n",
       "      <td>0.5</td>\n",
       "    </tr>\n",
       "    <tr>\n",
       "      <th>99.04</th>\n",
       "      <td>9.606422e+07</td>\n",
       "      <td>2736.621872</td>\n",
       "      <td>11.01812</td>\n",
       "      <td>0.5</td>\n",
       "    </tr>\n",
       "  </tbody>\n",
       "</table>\n",
       "</div>"
      ],
      "text/plain": [
       "       SiteEnergyUse(kBtu)  TotalGHGEmissions  GHGEmissionsIntensity  \\\n",
       "99.01         9.534321e+07        2709.281618               10.97978   \n",
       "99.02         9.558354e+07        2718.395036               10.99256   \n",
       "99.03         9.582388e+07        2727.508454               11.00534   \n",
       "99.04         9.606422e+07        2736.621872               11.01812   \n",
       "\n",
       "       DefaultData  \n",
       "99.01          0.5  \n",
       "99.02          0.5  \n",
       "99.03          0.5  \n",
       "99.04          0.5  "
      ]
     },
     "execution_count": 437,
     "metadata": {},
     "output_type": "execute_result"
    }
   ],
   "source": [
    "df_outlier_numerical.head(4)"
   ]
  },
  {
   "cell_type": "code",
   "execution_count": 438,
   "id": "090231b6",
   "metadata": {},
   "outputs": [
    {
     "data": {
      "image/png": "[encoded data removed]",
      "text/plain": [
       "<Figure size 432x288 with 1 Axes>"
      ]
     },
     "metadata": {
      "needs_background": "light"
     },
     "output_type": "display_data"
    }
   ],
   "source": [
    "#Visualisation des percentiles pour les variables numériques\n",
    "plt.title('Outlier - Percentile')\n",
    "plt.ylabel('Valeur des variables')\n",
    "plt.xlabel('Percentile')\n",
    "for i in df_outlier_numerical.columns:\n",
    "    plt.scatter(df_outlier_numerical.index,df_outlier_numerical[i])\n",
    "#plt.savefig('Outlier.png')"
   ]
  },
  {
   "cell_type": "code",
   "execution_count": 439,
   "id": "67ae20e6",
   "metadata": {},
   "outputs": [
    {
     "data": {
      "text/plain": [
       "35      4.483853e+08\n",
       "170     2.944517e+08\n",
       "618     2.891500e+08\n",
       "558     2.797747e+08\n",
       "167     1.405294e+08\n",
       "            ...     \n",
       "1658    1.193296e+05\n",
       "974     1.111844e+05\n",
       "2199    1.103824e+05\n",
       "2450    1.010257e+05\n",
       "2189    1.697945e+04\n",
       "Name: SiteEnergyUse(kBtu), Length: 853, dtype: float64"
      ]
     },
     "execution_count": 439,
     "metadata": {},
     "output_type": "execute_result"
    }
   ],
   "source": [
    "df_numerical['SiteEnergyUse(kBtu)'].sort_values(ascending = False)"
   ]
  },
  {
   "cell_type": "code",
   "execution_count": 440,
   "id": "fb5b25b5",
   "metadata": {},
   "outputs": [
    {
     "data": {
      "text/plain": [
       "35      16870.980\n",
       "618     12066.025\n",
       "170     10757.605\n",
       "167      4815.880\n",
       "340      4020.490\n",
       "          ...    \n",
       "1590        1.630\n",
       "1658        0.830\n",
       "2199        0.785\n",
       "974         0.775\n",
       "2189        0.120\n",
       "Name: TotalGHGEmissions, Length: 853, dtype: float64"
      ]
     },
     "execution_count": 440,
     "metadata": {},
     "output_type": "execute_result"
    }
   ],
   "source": [
    "df_numerical['TotalGHGEmissions'].sort_values(ascending = False)"
   ]
  },
  {
   "cell_type": "code",
   "execution_count": 441,
   "id": "61a53709",
   "metadata": {},
   "outputs": [
    {
     "data": {
      "text/plain": [
       "count    853.000000\n",
       "mean       1.535082\n",
       "std        2.531799\n",
       "min        0.000000\n",
       "25%        0.270000\n",
       "50%        0.715000\n",
       "75%        1.730000\n",
       "max       34.090000\n",
       "Name: GHGEmissionsIntensity, dtype: float64"
      ]
     },
     "execution_count": 441,
     "metadata": {},
     "output_type": "execute_result"
    }
   ],
   "source": [
    "df_numerical['GHGEmissionsIntensity'].describe()"
   ]
  },
  {
   "cell_type": "markdown",
   "id": "50811687",
   "metadata": {},
   "source": [
    "# Outliers removal"
   ]
  },
  {
   "cell_type": "code",
   "execution_count": 442,
   "id": "fabe8c77",
   "metadata": {},
   "outputs": [
    {
     "data": {
      "text/plain": [
       "(853, 4)"
      ]
     },
     "execution_count": 442,
     "metadata": {},
     "output_type": "execute_result"
    }
   ],
   "source": [
    "df_numerical.shape"
   ]
  },
  {
   "cell_type": "code",
   "execution_count": 443,
   "id": "08bb7707",
   "metadata": {},
   "outputs": [
    {
     "data": {
      "text/plain": [
       "Index(['SiteEnergyUse(kBtu)', 'TotalGHGEmissions', 'GHGEmissionsIntensity',\n",
       "       'DefaultData'],\n",
       "      dtype='object')"
      ]
     },
     "execution_count": 443,
     "metadata": {},
     "output_type": "execute_result"
    }
   ],
   "source": [
    "df_numerical.columns"
   ]
  },
  {
   "cell_type": "code",
   "execution_count": 444,
   "id": "fc309749",
   "metadata": {},
   "outputs": [
    {
     "name": "stdout",
     "output_type": "stream",
     "text": [
      "(6, 4)\n",
      "(6, 4)\n",
      "(6, 4)\n",
      "(6, 4)\n"
     ]
    }
   ],
   "source": [
    "#Counting of outliers, observation of percentiles greater than 99.3 on each column of the df_numerical dataframe\n",
    "for i in df_numerical.columns:\n",
    "    print(df_numerical[df_numerical[i] > np.percentile(df_numerical[i],99.3)].shape)"
   ]
  },
  {
   "cell_type": "markdown",
   "id": "87bd0131",
   "metadata": {},
   "source": [
    "the 99.3rd percentile of each feature becomes the most important value"
   ]
  },
  {
   "cell_type": "code",
   "execution_count": 445,
   "id": "7259b92d",
   "metadata": {},
   "outputs": [],
   "source": [
    "#Filter percentiles greater than 99.3 on each column of the df_numerical dataframe\n",
    "totalOutlier = []\n",
    "for i in df_numerical.columns:\n",
    "    totalOutlier += df_all[df_all[i] > np.percentile(df_all[i],99.3)].index.tolist()"
   ]
  },
  {
   "cell_type": "code",
   "execution_count": 446,
   "id": "858e1b73",
   "metadata": {},
   "outputs": [],
   "source": [
    "tOtalDrop = np.unique(totalOutlier).tolist()"
   ]
  },
  {
   "cell_type": "code",
   "execution_count": 447,
   "id": "4c4efdd5",
   "metadata": {},
   "outputs": [],
   "source": [
    "#Dataframe without outliers\n",
    "df_all_filtered = df_all.drop(tOtalDrop)"
   ]
  },
  {
   "cell_type": "code",
   "execution_count": 448,
   "id": "3ab32349",
   "metadata": {},
   "outputs": [
    {
     "data": {
      "text/plain": [
       "(853, 25)"
      ]
     },
     "execution_count": 448,
     "metadata": {},
     "output_type": "execute_result"
    }
   ],
   "source": [
    "df_all.shape"
   ]
  },
  {
   "cell_type": "code",
   "execution_count": 449,
   "id": "27f9bb74",
   "metadata": {},
   "outputs": [
    {
     "data": {
      "text/plain": [
       "(835, 25)"
      ]
     },
     "execution_count": 449,
     "metadata": {},
     "output_type": "execute_result"
    }
   ],
   "source": [
    "df_all_filtered.shape"
   ]
  },
  {
   "cell_type": "markdown",
   "id": "d7a61414",
   "metadata": {},
   "source": [
    "# Check outliers removal"
   ]
  },
  {
   "cell_type": "code",
   "execution_count": 450,
   "id": "337ead87",
   "metadata": {},
   "outputs": [
    {
     "data": {
      "text/plain": [
       "1494    1.148643e+08\n",
       "1672    9.656971e+07\n",
       "559     9.374886e+07\n",
       "49      8.291358e+07\n",
       "309     8.002732e+07\n",
       "            ...     \n",
       "1658    1.193296e+05\n",
       "974     1.111844e+05\n",
       "2199    1.103824e+05\n",
       "2450    1.010257e+05\n",
       "2189    1.697945e+04\n",
       "Name: SiteEnergyUse(kBtu), Length: 835, dtype: float64"
      ]
     },
     "execution_count": 450,
     "metadata": {},
     "output_type": "execute_result"
    }
   ],
   "source": [
    "df_all_filtered['SiteEnergyUse(kBtu)'].sort_values(ascending = False)"
   ]
  },
  {
   "cell_type": "code",
   "execution_count": 451,
   "id": "13906609",
   "metadata": {},
   "outputs": [
    {
     "data": {
      "text/plain": [
       "1494    3237.855\n",
       "1672    3161.370\n",
       "262     2755.790\n",
       "49      2648.825\n",
       "98      1932.460\n",
       "          ...   \n",
       "1590       1.630\n",
       "1658       0.830\n",
       "2199       0.785\n",
       "974        0.775\n",
       "2189       0.120\n",
       "Name: TotalGHGEmissions, Length: 835, dtype: float64"
      ]
     },
     "execution_count": 451,
     "metadata": {},
     "output_type": "execute_result"
    }
   ],
   "source": [
    "df_all_filtered['TotalGHGEmissions'].sort_values(ascending = False)"
   ]
  },
  {
   "cell_type": "code",
   "execution_count": 452,
   "id": "8e26f137",
   "metadata": {},
   "outputs": [
    {
     "data": {
      "text/plain": [
       "1753    13.650\n",
       "2795    11.700\n",
       "1337    11.045\n",
       "47      10.895\n",
       "373     10.815\n",
       "         ...  \n",
       "2199     0.020\n",
       "974      0.015\n",
       "609      0.015\n",
       "380      0.015\n",
       "2189     0.000\n",
       "Name: GHGEmissionsIntensity, Length: 835, dtype: float64"
      ]
     },
     "execution_count": 452,
     "metadata": {},
     "output_type": "execute_result"
    }
   ],
   "source": [
    "df_all_filtered['GHGEmissionsIntensity'].sort_values(ascending = False)"
   ]
  },
  {
   "cell_type": "markdown",
   "id": "c32a0d60",
   "metadata": {},
   "source": [
    "# Data Backup"
   ]
  },
  {
   "cell_type": "code",
   "execution_count": 454,
   "id": "4a0ac4d4",
   "metadata": {},
   "outputs": [],
   "source": [
    "#df_all_filtered.to_csv(\"data_elec.csv\", index=False)"
   ]
  }
 ],
 "metadata": {
  "kernelspec": {
   "display_name": "Python 3 (ipykernel)",
   "language": "python",
   "name": "python3"
  },
  "language_info": {
   "codemirror_mode": {
    "name": "ipython",
    "version": 3
   },
   "file_extension": ".py",
   "mimetype": "text/x-python",
   "name": "python",
   "nbconvert_exporter": "python",
   "pygments_lexer": "ipython3",
   "version": "3.9.7"
  }
 },
 "nbformat": 4,
 "nbformat_minor": 5
}
