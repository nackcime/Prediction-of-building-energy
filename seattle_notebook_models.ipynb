{
 "cells": [
  {
   "cell_type": "code",
   "execution_count": 3,
   "id": "d102ae39",
   "metadata": {},
   "outputs": [],
   "source": [
    "import pandas as pd\n",
    "import numpy as np\n",
    "import matplotlib.pyplot as plt\n",
    "from sklearn import preprocessing\n",
    "from scipy.stats import pearsonr \n",
    "from scipy import stats\n",
    "from sklearn import model_selection\n",
    "from sklearn.model_selection import train_test_split\n",
    "import timeit\n",
    "import seaborn as sns\n",
    "from sklearn.metrics import r2_score\n",
    "from sklearn.metrics import mean_squared_error\n",
    "from sklearn.linear_model import LinearRegression\n",
    "from sklearn.model_selection import cross_validate\n",
    "from sklearn.ensemble import RandomForestRegressor\n",
    "from sklearn.metrics import accuracy_score\n",
    "from sklearn.preprocessing import OneHotEncoder\n",
    "from sklearn import decomposition,preprocessing"
   ]
  },
  {
   "cell_type": "markdown",
   "id": "2badc973",
   "metadata": {},
   "source": [
    "# Chargement données DataFrame - data_elec"
   ]
  },
  {
   "cell_type": "code",
   "execution_count": 6,
   "id": "3b57c888",
   "metadata": {},
   "outputs": [],
   "source": [
    "data_all = pd.read_csv('data_elec.csv').drop(['PropertyName','OSEBuildingID','SecondLargestPropertyUseType','LargestPropertyUseType','TaxParcelIdentificationNumber','CouncilDistrictCode','DataYear','DefaultData','ComplianceStatus'], axis=1)"
   ]
  },
  {
   "cell_type": "markdown",
   "id": "b45d7083",
   "metadata": {},
   "source": [
    "# Feature Engineering"
   ]
  },
  {
   "cell_type": "markdown",
   "id": "05e1a719",
   "metadata": {},
   "source": [
    "# Categorical feature selection"
   ]
  },
  {
   "cell_type": "code",
   "execution_count": 8,
   "id": "2e532c56",
   "metadata": {},
   "outputs": [],
   "source": [
    "listCategorical = data_all.select_dtypes(include=['object']).columns"
   ]
  },
  {
   "cell_type": "code",
   "execution_count": 9,
   "id": "a2ea5adc",
   "metadata": {},
   "outputs": [],
   "source": [
    "df_categorical = data_all[listCategorical]"
   ]
  },
  {
   "cell_type": "code",
   "execution_count": 10,
   "id": "57021288",
   "metadata": {},
   "outputs": [
    {
     "data": {
      "text/html": [
       "<div>\n",
       "<style scoped>\n",
       "    .dataframe tbody tr th:only-of-type {\n",
       "        vertical-align: middle;\n",
       "    }\n",
       "\n",
       "    .dataframe tbody tr th {\n",
       "        vertical-align: top;\n",
       "    }\n",
       "\n",
       "    .dataframe thead th {\n",
       "        text-align: right;\n",
       "    }\n",
       "</style>\n",
       "<table border=\"1\" class=\"dataframe\">\n",
       "  <thead>\n",
       "    <tr style=\"text-align: right;\">\n",
       "      <th></th>\n",
       "      <th>BuildingType</th>\n",
       "      <th>PrimaryPropertyType</th>\n",
       "      <th>Neighborhood</th>\n",
       "      <th>ListOfAllPropertyUseTypes</th>\n",
       "      <th>YearBuilt</th>\n",
       "      <th>NumberofBuildings</th>\n",
       "      <th>NumberofFloors</th>\n",
       "      <th>PropertyGFATotal</th>\n",
       "      <th>PropertyGFAParking</th>\n",
       "      <th>PropertyGFABuilding(s)</th>\n",
       "      <th>LargestPropertyUseTypeGFA</th>\n",
       "      <th>SecondLargestPropertyUseTypeGFA</th>\n",
       "      <th>ENERGYSTARScore</th>\n",
       "      <th>SiteEnergyUse(kBtu)</th>\n",
       "      <th>TotalGHGEmissions</th>\n",
       "      <th>GHGEmissionsIntensity</th>\n",
       "    </tr>\n",
       "  </thead>\n",
       "  <tbody>\n",
       "    <tr>\n",
       "      <th>0</th>\n",
       "      <td>NonResidential</td>\n",
       "      <td>Hotel</td>\n",
       "      <td>DOWNTOWN</td>\n",
       "      <td>Hotel, Parking, Restaurant</td>\n",
       "      <td>1996.0</td>\n",
       "      <td>1.0</td>\n",
       "      <td>11.0</td>\n",
       "      <td>103566.0</td>\n",
       "      <td>15064.0</td>\n",
       "      <td>88502.0</td>\n",
       "      <td>83880.0</td>\n",
       "      <td>15064.0</td>\n",
       "      <td>56.0</td>\n",
       "      <td>8371084.0</td>\n",
       "      <td>279.685</td>\n",
       "      <td>2.62</td>\n",
       "    </tr>\n",
       "    <tr>\n",
       "      <th>1</th>\n",
       "      <td>NonResidential</td>\n",
       "      <td>Hotel</td>\n",
       "      <td>DOWNTOWN</td>\n",
       "      <td>Hotel, Parking, Swimming Pool</td>\n",
       "      <td>1980.0</td>\n",
       "      <td>1.0</td>\n",
       "      <td>18.0</td>\n",
       "      <td>147735.0</td>\n",
       "      <td>37230.0</td>\n",
       "      <td>110505.0</td>\n",
       "      <td>123445.0</td>\n",
       "      <td>68009.0</td>\n",
       "      <td>71.0</td>\n",
       "      <td>14500852.5</td>\n",
       "      <td>506.355</td>\n",
       "      <td>3.45</td>\n",
       "    </tr>\n",
       "  </tbody>\n",
       "</table>\n",
       "</div>"
      ],
      "text/plain": [
       "     BuildingType PrimaryPropertyType Neighborhood  \\\n",
       "0  NonResidential               Hotel     DOWNTOWN   \n",
       "1  NonResidential               Hotel     DOWNTOWN   \n",
       "\n",
       "       ListOfAllPropertyUseTypes  YearBuilt  NumberofBuildings  \\\n",
       "0     Hotel, Parking, Restaurant     1996.0                1.0   \n",
       "1  Hotel, Parking, Swimming Pool     1980.0                1.0   \n",
       "\n",
       "   NumberofFloors  PropertyGFATotal  PropertyGFAParking  \\\n",
       "0            11.0          103566.0             15064.0   \n",
       "1            18.0          147735.0             37230.0   \n",
       "\n",
       "   PropertyGFABuilding(s)  LargestPropertyUseTypeGFA  \\\n",
       "0                 88502.0                    83880.0   \n",
       "1                110505.0                   123445.0   \n",
       "\n",
       "   SecondLargestPropertyUseTypeGFA  ENERGYSTARScore  SiteEnergyUse(kBtu)  \\\n",
       "0                          15064.0             56.0            8371084.0   \n",
       "1                          68009.0             71.0           14500852.5   \n",
       "\n",
       "   TotalGHGEmissions  GHGEmissionsIntensity  \n",
       "0            279.685                   2.62  \n",
       "1            506.355                   3.45  "
      ]
     },
     "execution_count": 10,
     "metadata": {},
     "output_type": "execute_result"
    }
   ],
   "source": [
    "data_all.head(2)"
   ]
  },
  {
   "cell_type": "markdown",
   "id": "91693096",
   "metadata": {},
   "source": [
    "# Feature Engineering - Généralisation Encodage des données"
   ]
  },
  {
   "cell_type": "markdown",
   "id": "6b88e5dc",
   "metadata": {},
   "source": [
    "Encodage feature ListOfAllPropertyUseTypes"
   ]
  },
  {
   "cell_type": "code",
   "execution_count": 11,
   "id": "4922603f",
   "metadata": {},
   "outputs": [],
   "source": [
    "df_AllPropertyUseTypesbycolumn = data_all['ListOfAllPropertyUseTypes'].str.split(',', expand = True)"
   ]
  },
  {
   "cell_type": "markdown",
   "id": "f9352507",
   "metadata": {},
   "source": [
    "Verifie le nombre de NAN  par colonne"
   ]
  },
  {
   "cell_type": "code",
   "execution_count": 12,
   "id": "ef0b41d9",
   "metadata": {},
   "outputs": [
    {
     "data": {
      "text/plain": [
       "0      0.000000\n",
       "1      0.598802\n",
       "2     59.161677\n",
       "3     82.754491\n",
       "4     91.736527\n",
       "5     96.646707\n",
       "6     98.922156\n",
       "7     99.401198\n",
       "8     99.520958\n",
       "9     99.880240\n",
       "10    99.880240\n",
       "dtype: float64"
      ]
     },
     "execution_count": 12,
     "metadata": {},
     "output_type": "execute_result"
    }
   ],
   "source": [
    "(df_AllPropertyUseTypesbycolumn.isnull().sum()*100)/len(df_AllPropertyUseTypesbycolumn)"
   ]
  },
  {
   "cell_type": "markdown",
   "id": "0ba577c0",
   "metadata": {},
   "source": [
    "Analyse variétés des données"
   ]
  },
  {
   "cell_type": "code",
   "execution_count": 13,
   "id": "d19df723",
   "metadata": {},
   "outputs": [
    {
     "name": "stdout",
     "output_type": "stream",
     "text": [
      "Office                                   313\n",
      "Non-Refrigerated Warehouse               125\n",
      "Parking                                   48\n",
      "Data Center                               40\n",
      "Hotel                                     37\n",
      "Distribution Center                       37\n",
      "Medical Office                            31\n",
      "Multifamily Housing                       26\n",
      "Fitness Center/Health Club/Gym            23\n",
      "Other                                     23\n",
      "Bank Branch                               16\n",
      "Laboratory                                13\n",
      "K-12 School                               11\n",
      "Financial Office                          11\n",
      "Food Service                               9\n",
      "Automobile Dealership                      5\n",
      "Food Sales                                 5\n",
      "College/University                         5\n",
      "Other - Entertainment/Public Assembly      5\n",
      "Other - Recreation                         4\n",
      "Bar/Nightclub                              4\n",
      "Retail Store                               4\n",
      "Convenience Store without Gas Station      3\n",
      "Library                                    3\n",
      "Other - Education                          3\n",
      "Manufacturing/Industrial Plant             3\n",
      "Other - Mall                               3\n",
      "Adult Education                            3\n",
      "Hospital (General Medical & Surgical)      3\n",
      "Other - Public Services                    2\n",
      "Lifestyle Center                           2\n",
      "Movie Theater                              2\n",
      "Restaurant                                 2\n",
      "Fast Food Restaurant                       2\n",
      "Personal Services (Health/Beauty           1\n",
      "Enclosed Mall                              1\n",
      "Convention Center                          1\n",
      "Courthouse                                 1\n",
      "Museum                                     1\n",
      "Other - Lodging/Residential                1\n",
      "Pre-school/Daycare                         1\n",
      "Other - Services                           1\n",
      "Residence Hall/Dormitory                   1\n",
      "Name: 0, dtype: int64\n",
      " Parking                                  237\n",
      " Office                                   229\n",
      " Other                                     74\n",
      " Retail Store                              70\n",
      " Restaurant                                29\n",
      " Non-Refrigerated Warehouse                22\n",
      " Worship Facility                          22\n",
      " Supermarket/Grocery Store                 21\n",
      " Multifamily Housing                       10\n",
      " Medical Office                            10\n",
      " Other - Services                          10\n",
      " Other - Entertainment/Public Assembly      9\n",
      " Senior Care Community                      8\n",
      " Other - Restaurant/Bar                     6\n",
      " Other - Recreation                         6\n",
      " Food Service                               6\n",
      " Swimming Pool                              4\n",
      " Laboratory                                 4\n",
      " Distribution Center                        4\n",
      " Self-Storage Facility                      4\n",
      " Residence Hall/Dormitory                   4\n",
      " Strip Mall                                 3\n",
      " Library                                    3\n",
      " Food Sales                                 3\n",
      " Refrigerated Warehouse                     3\n",
      " Performing Arts                            3\n",
      " Financial Office                           3\n",
      " Repair Services (Vehicle                   3\n",
      " Social/Meeting Hall                        3\n",
      " Other - Education                          2\n",
      " Other - Public Services                    2\n",
      " Hotel                                      2\n",
      " Other - Technology/Science                 1\n",
      " Other - Lodging/Residential                1\n",
      " Fitness Center/Health Club/Gym             1\n",
      " Dry Cleaning                               1\n",
      " Bar/Nightclub                              1\n",
      " Manufacturing/Industrial Plant             1\n",
      " Bank Branch                                1\n",
      " Other - Utility                            1\n",
      " Personal Services (Health/Beauty           1\n",
      " Data Center                                1\n",
      " Pre-school/Daycare                         1\n",
      "Name: 1, dtype: int64\n"
     ]
    }
   ],
   "source": [
    "for i in range(2):\n",
    "    print(df_AllPropertyUseTypesbycolumn[i].value_counts())"
   ]
  },
  {
   "cell_type": "markdown",
   "id": "1c403193",
   "metadata": {},
   "source": [
    "Creation d'une instance one-hot-encoder"
   ]
  },
  {
   "cell_type": "code",
   "execution_count": 14,
   "id": "36734717",
   "metadata": {},
   "outputs": [],
   "source": [
    "encoder = OneHotEncoder(handle_unknown='ignore')"
   ]
  },
  {
   "cell_type": "markdown",
   "id": "270c8ef9",
   "metadata": {},
   "source": [
    "Performe un one-hot encoding sur la colonne 'ListOfAllPropertyUseTypes'"
   ]
  },
  {
   "cell_type": "code",
   "execution_count": 15,
   "id": "81a82917",
   "metadata": {},
   "outputs": [],
   "source": [
    "encoder_df = pd.DataFrame(encoder.fit_transform(df_AllPropertyUseTypesbycolumn[[0]]).toarray())\n",
    "encoder_df.columns = encoder.get_feature_names_out()"
   ]
  },
  {
   "cell_type": "markdown",
   "id": "b60cca03",
   "metadata": {},
   "source": [
    "La liste des catégories les plus nombreuses de la variable ListOfAllPropertyUseTypes"
   ]
  },
  {
   "cell_type": "code",
   "execution_count": 16,
   "id": "9377e23c",
   "metadata": {},
   "outputs": [],
   "source": [
    "listAllPropertyUseTypes = df_AllPropertyUseTypesbycolumn[0].value_counts().index[0:3].tolist()"
   ]
  },
  {
   "cell_type": "markdown",
   "id": "b532895f",
   "metadata": {},
   "source": [
    "Filtre sur les colonnes possédant les noms de la liste listBuilding"
   ]
  },
  {
   "cell_type": "code",
   "execution_count": null,
   "id": "767c70a2",
   "metadata": {},
   "outputs": [],
   "source": [
    "colsAllPropertyUseTypes=[]\n",
    "for i in range(0,len(listAllPropertyUseTypes)):\n",
    "    colsAllPropertyUseTypes.extend(encoder_df.filter(like=listAllPropertyUseTypes[i], axis=1).columns)"
   ]
  },
  {
   "cell_type": "markdown",
   "id": "995041ff",
   "metadata": {},
   "source": [
    "Merge du one-hot encoded colonnes avec le dataframe original "
   ]
  },
  {
   "cell_type": "code",
   "execution_count": 18,
   "id": "12ceb5e1",
   "metadata": {},
   "outputs": [],
   "source": [
    "df_data_allA = data_all.join(encoder_df[colsAllPropertyUseTypes])"
   ]
  },
  {
   "cell_type": "code",
   "execution_count": 19,
   "id": "c6fbfaa0",
   "metadata": {},
   "outputs": [
    {
     "data": {
      "text/plain": [
       "(835, 21)"
      ]
     },
     "execution_count": 19,
     "metadata": {},
     "output_type": "execute_result"
    }
   ],
   "source": [
    "df_data_allA.shape"
   ]
  },
  {
   "cell_type": "code",
   "execution_count": 20,
   "id": "4d242c7c",
   "metadata": {},
   "outputs": [
    {
     "data": {
      "text/plain": [
       "(835, 16)"
      ]
     },
     "execution_count": 20,
     "metadata": {},
     "output_type": "execute_result"
    }
   ],
   "source": [
    "data_all.shape"
   ]
  },
  {
   "cell_type": "code",
   "execution_count": 21,
   "id": "cf47f5eb",
   "metadata": {},
   "outputs": [
    {
     "data": {
      "text/plain": [
       "(835, 21)"
      ]
     },
     "execution_count": 21,
     "metadata": {},
     "output_type": "execute_result"
    }
   ],
   "source": [
    "df_data_allA.shape"
   ]
  },
  {
   "cell_type": "code",
   "execution_count": 22,
   "id": "6840fa3d",
   "metadata": {},
   "outputs": [
    {
     "data": {
      "text/plain": [
       "BuildingType                       0.0\n",
       "PrimaryPropertyType                0.0\n",
       "Neighborhood                       0.0\n",
       "ListOfAllPropertyUseTypes          0.0\n",
       "YearBuilt                          0.0\n",
       "NumberofBuildings                  0.0\n",
       "NumberofFloors                     0.0\n",
       "PropertyGFATotal                   0.0\n",
       "PropertyGFAParking                 0.0\n",
       "PropertyGFABuilding(s)             0.0\n",
       "LargestPropertyUseTypeGFA          0.0\n",
       "SecondLargestPropertyUseTypeGFA    0.0\n",
       "ENERGYSTARScore                    0.0\n",
       "SiteEnergyUse(kBtu)                0.0\n",
       "TotalGHGEmissions                  0.0\n",
       "GHGEmissionsIntensity              0.0\n",
       "x0_Financial Office                0.0\n",
       "x0_Medical Office                  0.0\n",
       "x0_Office                          0.0\n",
       "x0_Non-Refrigerated Warehouse      0.0\n",
       "x0_Parking                         0.0\n",
       "dtype: float64"
      ]
     },
     "execution_count": 22,
     "metadata": {},
     "output_type": "execute_result"
    }
   ],
   "source": [
    "df_data_allA.isna().mean()"
   ]
  },
  {
   "cell_type": "markdown",
   "id": "3359c2a8",
   "metadata": {},
   "source": [
    "#### Encodage features Neighborhood, BuildingType et PrimaryPropertyType"
   ]
  },
  {
   "cell_type": "code",
   "execution_count": 23,
   "id": "8a62f47a",
   "metadata": {
    "scrolled": true
   },
   "outputs": [
    {
     "data": {
      "text/plain": [
       "DOWNTOWN                 0.280240\n",
       "GREATER DUWAMISH         0.201198\n",
       "LAKE UNION               0.118563\n",
       "MAGNOLIA / QUEEN ANNE    0.086228\n",
       "EAST                     0.065868\n",
       "NORTHEAST                0.058683\n",
       "BALLARD                  0.035928\n",
       "NORTHWEST                0.033533\n",
       "NORTH                    0.028743\n",
       "CENTRAL                  0.022754\n",
       "DELRIDGE                 0.019162\n",
       "SOUTHEAST                0.019162\n",
       "SOUTHWEST                0.016766\n",
       "North                    0.004790\n",
       "Ballard                  0.003593\n",
       "Delridge                 0.002395\n",
       "Central                  0.002395\n",
       "Name: Neighborhood, dtype: float64"
      ]
     },
     "execution_count": 23,
     "metadata": {},
     "output_type": "execute_result"
    }
   ],
   "source": [
    "df_categorical['Neighborhood'].value_counts(normalize=True)"
   ]
  },
  {
   "cell_type": "markdown",
   "id": "4010f17c",
   "metadata": {},
   "source": [
    "Creation de l'instance one-hot-encoder"
   ]
  },
  {
   "cell_type": "code",
   "execution_count": 24,
   "id": "13e6b881",
   "metadata": {},
   "outputs": [],
   "source": [
    "encoder_2 = OneHotEncoder(handle_unknown='ignore')\n",
    "df_Cate = pd.DataFrame(encoder_2.fit_transform(df_categorical[['Neighborhood','BuildingType','PrimaryPropertyType']]).toarray())\n",
    "df_Cate.columns = encoder_2.get_feature_names_out()"
   ]
  },
  {
   "cell_type": "markdown",
   "id": "7e962513",
   "metadata": {},
   "source": [
    "#### Le but etant de prendre en compte les catégories les plus nombreuses"
   ]
  },
  {
   "cell_type": "markdown",
   "id": "1b724412",
   "metadata": {},
   "source": [
    "La liste des catégories les plus nombreuses de la variable BuildingType"
   ]
  },
  {
   "cell_type": "code",
   "execution_count": 25,
   "id": "015615bd",
   "metadata": {},
   "outputs": [],
   "source": [
    "listBuilding = df_categorical['BuildingType'].value_counts().index[0:1].tolist()"
   ]
  },
  {
   "cell_type": "markdown",
   "id": "c8faa0b5",
   "metadata": {},
   "source": [
    "La liste des catégories les plus nombreuses de la variable PrimaryPropertyType"
   ]
  },
  {
   "cell_type": "code",
   "execution_count": 26,
   "id": "4b490dfe",
   "metadata": {},
   "outputs": [],
   "source": [
    "listProperty = df_categorical['PrimaryPropertyType'].value_counts().index[0:2].tolist()"
   ]
  },
  {
   "cell_type": "markdown",
   "id": "d9d4652b",
   "metadata": {},
   "source": [
    "La liste des catégories les plus nombreuses de la variable Neighborhood"
   ]
  },
  {
   "cell_type": "code",
   "execution_count": 27,
   "id": "d7882b4e",
   "metadata": {},
   "outputs": [],
   "source": [
    "listNeighborhood = df_categorical['Neighborhood'].value_counts().index[0:3].tolist()"
   ]
  },
  {
   "cell_type": "markdown",
   "id": "4aeef829",
   "metadata": {},
   "source": [
    "Filtre sur les colonnes possédant les noms de la liste listBuilding"
   ]
  },
  {
   "cell_type": "code",
   "execution_count": 28,
   "id": "ba01489a",
   "metadata": {},
   "outputs": [],
   "source": [
    "colsBuilding=[]\n",
    "for i in range(0,len(listBuilding)):\n",
    "    colsBuilding.extend(df_Cate.filter(like=listBuilding[i], axis=1).columns)"
   ]
  },
  {
   "cell_type": "markdown",
   "id": "f57b92cd",
   "metadata": {},
   "source": [
    "Filtre sur les colonnes possédant les noms de la liste listProperty"
   ]
  },
  {
   "cell_type": "code",
   "execution_count": 29,
   "id": "ee87a470",
   "metadata": {},
   "outputs": [],
   "source": [
    "colsProperty=[]\n",
    "for i in range(0,len(listProperty)):\n",
    "    colsProperty.extend(df_Cate.filter(like=listProperty[i], axis=1).columns)"
   ]
  },
  {
   "cell_type": "markdown",
   "id": "37297184",
   "metadata": {},
   "source": [
    "Filtre sur les colonnes possédant les noms de la liste listNeighborhood"
   ]
  },
  {
   "cell_type": "code",
   "execution_count": 30,
   "id": "3d6d476a",
   "metadata": {},
   "outputs": [],
   "source": [
    "colsNeighborhood=[]\n",
    "for i in range(0,len(listNeighborhood)):\n",
    "    colsNeighborhood.extend(df_Cate.filter(like=listNeighborhood[i], axis=1).columns)"
   ]
  },
  {
   "cell_type": "code",
   "execution_count": 31,
   "id": "cd90f6b8",
   "metadata": {},
   "outputs": [],
   "source": [
    "ListEncodage = colsBuilding+colsProperty+colsNeighborhood"
   ]
  },
  {
   "cell_type": "code",
   "execution_count": 33,
   "id": "37648f0a",
   "metadata": {},
   "outputs": [
    {
     "data": {
      "text/plain": [
       "(835, 21)"
      ]
     },
     "execution_count": 33,
     "metadata": {},
     "output_type": "execute_result"
    }
   ],
   "source": [
    "df_data_allA.shape"
   ]
  },
  {
   "cell_type": "code",
   "execution_count": 34,
   "id": "604b0a0b",
   "metadata": {},
   "outputs": [],
   "source": [
    "df_data_allB = df_data_allA.join(df_Cate[ListEncodage])"
   ]
  },
  {
   "cell_type": "markdown",
   "id": "2eb0bdce",
   "metadata": {},
   "source": [
    "Suppression des colonnes catégorielles non encodées"
   ]
  },
  {
   "cell_type": "code",
   "execution_count": 35,
   "id": "94a2fc8f",
   "metadata": {},
   "outputs": [],
   "source": [
    "df_data_all = df_data_allB.drop(df_categorical.columns, axis=1)"
   ]
  },
  {
   "cell_type": "code",
   "execution_count": 36,
   "id": "a13c5edd",
   "metadata": {},
   "outputs": [
    {
     "data": {
      "text/plain": [
       "(835, 23)"
      ]
     },
     "execution_count": 36,
     "metadata": {},
     "output_type": "execute_result"
    }
   ],
   "source": [
    "df_data_all.shape"
   ]
  },
  {
   "cell_type": "code",
   "execution_count": 37,
   "id": "45610247",
   "metadata": {},
   "outputs": [
    {
     "data": {
      "text/plain": [
       "YearBuilt                                          0.0\n",
       "NumberofBuildings                                  0.0\n",
       "NumberofFloors                                     0.0\n",
       "PropertyGFATotal                                   0.0\n",
       "PropertyGFAParking                                 0.0\n",
       "PropertyGFABuilding(s)                             0.0\n",
       "LargestPropertyUseTypeGFA                          0.0\n",
       "SecondLargestPropertyUseTypeGFA                    0.0\n",
       "ENERGYSTARScore                                    0.0\n",
       "SiteEnergyUse(kBtu)                                0.0\n",
       "TotalGHGEmissions                                  0.0\n",
       "GHGEmissionsIntensity                              0.0\n",
       "x0_Financial Office                                0.0\n",
       "x0_Medical Office                                  0.0\n",
       "x0_Office                                          0.0\n",
       "x0_Non-Refrigerated Warehouse                      0.0\n",
       "x0_Parking                                         0.0\n",
       "BuildingType_NonResidential                        0.0\n",
       "PrimaryPropertyType_Small- and Mid-Sized Office    0.0\n",
       "PrimaryPropertyType_Large Office                   0.0\n",
       "Neighborhood_DOWNTOWN                              0.0\n",
       "Neighborhood_GREATER DUWAMISH                      0.0\n",
       "Neighborhood_LAKE UNION                            0.0\n",
       "dtype: float64"
      ]
     },
     "execution_count": 37,
     "metadata": {},
     "output_type": "execute_result"
    }
   ],
   "source": [
    "df_data_all.isna().mean()"
   ]
  },
  {
   "cell_type": "markdown",
   "id": "b0ab1256",
   "metadata": {},
   "source": [
    "# Etude de corrélation : SiteEnergyUse(kBtu) et variables"
   ]
  },
  {
   "cell_type": "markdown",
   "id": "fb8b3f4e",
   "metadata": {},
   "source": [
    "# Corrélation - Pearson"
   ]
  },
  {
   "cell_type": "markdown",
   "id": "35f94544",
   "metadata": {},
   "source": [
    "Les corrélations entre la variable SiteEnergyUse(kBtu) et les autres features"
   ]
  },
  {
   "cell_type": "code",
   "execution_count": 38,
   "id": "62da0043",
   "metadata": {},
   "outputs": [],
   "source": [
    "featureCorrele = []\n",
    "for i in df_data_all.columns:\n",
    "    corr, pvalue = stats.pearsonr(df_data_all['SiteEnergyUse(kBtu)'], df_data_all[i])\n",
    "    if corr > 0.76:\n",
    "        featureCorrele.append(i)"
   ]
  },
  {
   "cell_type": "markdown",
   "id": "24ce4a20",
   "metadata": {},
   "source": [
    "Les unités sont similaires d'ou la corrélation importantes entre ces variables et la variable target, lien entre kBtu et kWh"
   ]
  },
  {
   "cell_type": "code",
   "execution_count": 39,
   "id": "1c07ff22",
   "metadata": {},
   "outputs": [
    {
     "data": {
      "text/plain": [
       "['PropertyGFATotal',\n",
       " 'PropertyGFABuilding(s)',\n",
       " 'LargestPropertyUseTypeGFA',\n",
       " 'SiteEnergyUse(kBtu)',\n",
       " 'TotalGHGEmissions']"
      ]
     },
     "execution_count": 39,
     "metadata": {},
     "output_type": "execute_result"
    }
   ],
   "source": [
    "featureCorrele"
   ]
  },
  {
   "cell_type": "code",
   "execution_count": 40,
   "id": "cc0a5729",
   "metadata": {},
   "outputs": [
    {
     "name": "stdout",
     "output_type": "stream",
     "text": [
      "Coefficient de correlation linéaire (SiteEnergyUse(kBtu) et YearBuilt):\n",
      "0.216566062140716\n",
      "\n",
      "Coefficient de correlation linéaire (SiteEnergyUse(kBtu) et NumberofBuildings):\n",
      "0.3226768856129189\n",
      "\n",
      "Coefficient de correlation linéaire (SiteEnergyUse(kBtu) et NumberofFloors):\n",
      "0.5653619442774647\n",
      "\n",
      "Coefficient de correlation linéaire (SiteEnergyUse(kBtu) et PropertyGFATotal):\n",
      "0.8011758159367086\n",
      "\n",
      "Coefficient de correlation linéaire (SiteEnergyUse(kBtu) et PropertyGFAParking):\n",
      "0.4806652005480202\n",
      "\n",
      "Coefficient de correlation linéaire (SiteEnergyUse(kBtu) et PropertyGFABuilding(s)):\n",
      "0.7997669552737524\n",
      "\n",
      "Coefficient de correlation linéaire (SiteEnergyUse(kBtu) et LargestPropertyUseTypeGFA):\n",
      "0.8016842865773794\n",
      "\n",
      "Coefficient de correlation linéaire (SiteEnergyUse(kBtu) et SecondLargestPropertyUseTypeGFA):\n",
      "0.677125312714102\n",
      "\n",
      "Coefficient de correlation linéaire (SiteEnergyUse(kBtu) et ENERGYSTARScore):\n",
      "0.04414964379596671\n",
      "\n",
      "Coefficient de correlation linéaire (SiteEnergyUse(kBtu) et SiteEnergyUse(kBtu)):\n",
      "1.0\n",
      "\n",
      "Coefficient de correlation linéaire (SiteEnergyUse(kBtu) et TotalGHGEmissions):\n",
      "0.8131571767908022\n",
      "\n",
      "Coefficient de correlation linéaire (SiteEnergyUse(kBtu) et GHGEmissionsIntensity):\n",
      "0.15216931507605055\n",
      "\n",
      "Coefficient de correlation linéaire (SiteEnergyUse(kBtu) et x0_Financial Office):\n",
      "0.16845847479591447\n",
      "\n",
      "Coefficient de correlation linéaire (SiteEnergyUse(kBtu) et x0_Medical Office):\n",
      "0.007618997989791558\n",
      "\n",
      "Coefficient de correlation linéaire (SiteEnergyUse(kBtu) et x0_Office):\n",
      "-0.04720306504810407\n",
      "\n",
      "Coefficient de correlation linéaire (SiteEnergyUse(kBtu) et x0_Non-Refrigerated Warehouse):\n",
      "-0.1645196310762687\n",
      "\n",
      "Coefficient de correlation linéaire (SiteEnergyUse(kBtu) et x0_Parking):\n",
      "-0.0032215656913443516\n",
      "\n",
      "Coefficient de correlation linéaire (SiteEnergyUse(kBtu) et BuildingType_NonResidential):\n",
      "-0.03692642043777555\n",
      "\n",
      "Coefficient de correlation linéaire (SiteEnergyUse(kBtu) et PrimaryPropertyType_Small- and Mid-Sized Office):\n",
      "-0.21876861704363124\n",
      "\n",
      "Coefficient de correlation linéaire (SiteEnergyUse(kBtu) et PrimaryPropertyType_Large Office):\n",
      "0.3468286194819385\n",
      "\n",
      "Coefficient de correlation linéaire (SiteEnergyUse(kBtu) et Neighborhood_DOWNTOWN):\n",
      "0.22279068386836676\n",
      "\n",
      "Coefficient de correlation linéaire (SiteEnergyUse(kBtu) et Neighborhood_GREATER DUWAMISH):\n",
      "-0.12482489070827942\n",
      "\n",
      "Coefficient de correlation linéaire (SiteEnergyUse(kBtu) et Neighborhood_LAKE UNION):\n",
      "0.05299778967406188\n",
      "\n"
     ]
    }
   ],
   "source": [
    "for i in df_data_all.columns:\n",
    "    print(\"Coefficient de correlation linéaire (SiteEnergyUse(kBtu) et \"+i+\"):\\n\"+str(stats.pearsonr(df_data_all['SiteEnergyUse(kBtu)'], df_data_all[i])[0])+\"\\n\")"
   ]
  },
  {
   "cell_type": "markdown",
   "id": "2a6805f8",
   "metadata": {},
   "source": [
    "# Correlation - ACP"
   ]
  },
  {
   "cell_type": "markdown",
   "id": "fc1c7e6c",
   "metadata": {},
   "source": [
    "Centrage et Réduction pour l'ACP"
   ]
  },
  {
   "cell_type": "code",
   "execution_count": 42,
   "id": "ebbcf0e0",
   "metadata": {},
   "outputs": [],
   "source": [
    "X_scaled_ACP = preprocessing.StandardScaler().fit_transform(df_data_all)"
   ]
  },
  {
   "cell_type": "markdown",
   "id": "b23d3a32",
   "metadata": {},
   "source": [
    "Calcul des composantes principales"
   ]
  },
  {
   "cell_type": "code",
   "execution_count": 43,
   "id": "35b1015c",
   "metadata": {},
   "outputs": [],
   "source": [
    "pca = decomposition.PCA(n_components=len(df_data_all.columns))\n",
    "X_projected = pca.fit_transform(X_scaled_ACP)"
   ]
  },
  {
   "cell_type": "code",
   "execution_count": 44,
   "id": "60558165",
   "metadata": {},
   "outputs": [],
   "source": [
    "df_acp = pd.DataFrame()"
   ]
  },
  {
   "cell_type": "markdown",
   "id": "87dcccde",
   "metadata": {},
   "source": [
    "Calcul des composantes principales"
   ]
  },
  {
   "cell_type": "code",
   "execution_count": 45,
   "id": "57382339",
   "metadata": {},
   "outputs": [],
   "source": [
    "for u in range(len(df_data_all.columns)):\n",
    "    df_acp[\"F\"+str(u+1)] = pca.components_[u].tolist()"
   ]
  },
  {
   "cell_type": "code",
   "execution_count": 46,
   "id": "55bacf20",
   "metadata": {},
   "outputs": [
    {
     "data": {
      "text/html": [
       "<div>\n",
       "<style scoped>\n",
       "    .dataframe tbody tr th:only-of-type {\n",
       "        vertical-align: middle;\n",
       "    }\n",
       "\n",
       "    .dataframe tbody tr th {\n",
       "        vertical-align: top;\n",
       "    }\n",
       "\n",
       "    .dataframe thead th {\n",
       "        text-align: right;\n",
       "    }\n",
       "</style>\n",
       "<table border=\"1\" class=\"dataframe\">\n",
       "  <thead>\n",
       "    <tr style=\"text-align: right;\">\n",
       "      <th></th>\n",
       "      <th>F1</th>\n",
       "      <th>F2</th>\n",
       "      <th>F3</th>\n",
       "      <th>F4</th>\n",
       "      <th>F5</th>\n",
       "      <th>F6</th>\n",
       "      <th>F7</th>\n",
       "      <th>F8</th>\n",
       "      <th>F9</th>\n",
       "      <th>F10</th>\n",
       "      <th>...</th>\n",
       "      <th>F14</th>\n",
       "      <th>F15</th>\n",
       "      <th>F16</th>\n",
       "      <th>F17</th>\n",
       "      <th>F18</th>\n",
       "      <th>F19</th>\n",
       "      <th>F20</th>\n",
       "      <th>F21</th>\n",
       "      <th>F22</th>\n",
       "      <th>F23</th>\n",
       "    </tr>\n",
       "  </thead>\n",
       "  <tbody>\n",
       "    <tr>\n",
       "      <th>YearBuilt</th>\n",
       "      <td>0.109253</td>\n",
       "      <td>0.085768</td>\n",
       "      <td>-0.195359</td>\n",
       "      <td>-0.508880</td>\n",
       "      <td>0.076561</td>\n",
       "      <td>-0.195524</td>\n",
       "      <td>-0.017281</td>\n",
       "      <td>0.008190</td>\n",
       "      <td>0.257696</td>\n",
       "      <td>-0.275683</td>\n",
       "      <td>...</td>\n",
       "      <td>0.151755</td>\n",
       "      <td>-0.228085</td>\n",
       "      <td>-0.114014</td>\n",
       "      <td>-0.106417</td>\n",
       "      <td>-0.027771</td>\n",
       "      <td>-0.222515</td>\n",
       "      <td>0.066517</td>\n",
       "      <td>-0.013145</td>\n",
       "      <td>-0.006491</td>\n",
       "      <td>-1.108083e-16</td>\n",
       "    </tr>\n",
       "    <tr>\n",
       "      <th>NumberofBuildings</th>\n",
       "      <td>0.092418</td>\n",
       "      <td>0.245966</td>\n",
       "      <td>0.051139</td>\n",
       "      <td>0.217316</td>\n",
       "      <td>0.450318</td>\n",
       "      <td>-0.042723</td>\n",
       "      <td>0.117828</td>\n",
       "      <td>0.011055</td>\n",
       "      <td>0.297558</td>\n",
       "      <td>0.366548</td>\n",
       "      <td>...</td>\n",
       "      <td>-0.063277</td>\n",
       "      <td>0.296919</td>\n",
       "      <td>-0.082192</td>\n",
       "      <td>0.045083</td>\n",
       "      <td>-0.232906</td>\n",
       "      <td>-0.155655</td>\n",
       "      <td>-0.134056</td>\n",
       "      <td>0.014997</td>\n",
       "      <td>-0.012991</td>\n",
       "      <td>-1.422801e-16</td>\n",
       "    </tr>\n",
       "    <tr>\n",
       "      <th>NumberofFloors</th>\n",
       "      <td>0.308429</td>\n",
       "      <td>-0.161819</td>\n",
       "      <td>0.015663</td>\n",
       "      <td>0.053604</td>\n",
       "      <td>-0.221515</td>\n",
       "      <td>-0.000170</td>\n",
       "      <td>-0.007934</td>\n",
       "      <td>0.010681</td>\n",
       "      <td>0.016487</td>\n",
       "      <td>-0.113255</td>\n",
       "      <td>...</td>\n",
       "      <td>-0.232782</td>\n",
       "      <td>-0.075549</td>\n",
       "      <td>-0.274165</td>\n",
       "      <td>0.466611</td>\n",
       "      <td>-0.017630</td>\n",
       "      <td>-0.359086</td>\n",
       "      <td>-0.559485</td>\n",
       "      <td>-0.057818</td>\n",
       "      <td>0.044547</td>\n",
       "      <td>1.697077e-16</td>\n",
       "    </tr>\n",
       "    <tr>\n",
       "      <th>PropertyGFATotal</th>\n",
       "      <td>0.379677</td>\n",
       "      <td>0.029383</td>\n",
       "      <td>-0.082614</td>\n",
       "      <td>0.052670</td>\n",
       "      <td>0.027336</td>\n",
       "      <td>0.049257</td>\n",
       "      <td>-0.027331</td>\n",
       "      <td>-0.074891</td>\n",
       "      <td>0.056109</td>\n",
       "      <td>-0.010214</td>\n",
       "      <td>...</td>\n",
       "      <td>0.030921</td>\n",
       "      <td>0.022191</td>\n",
       "      <td>0.057268</td>\n",
       "      <td>0.075118</td>\n",
       "      <td>-0.103209</td>\n",
       "      <td>-0.012344</td>\n",
       "      <td>0.285674</td>\n",
       "      <td>-0.054985</td>\n",
       "      <td>0.390419</td>\n",
       "      <td>7.456774e-01</td>\n",
       "    </tr>\n",
       "    <tr>\n",
       "      <th>PropertyGFAParking</th>\n",
       "      <td>0.270994</td>\n",
       "      <td>-0.096651</td>\n",
       "      <td>-0.136390</td>\n",
       "      <td>-0.240381</td>\n",
       "      <td>-0.094732</td>\n",
       "      <td>0.043291</td>\n",
       "      <td>0.041142</td>\n",
       "      <td>-0.009905</td>\n",
       "      <td>0.072477</td>\n",
       "      <td>-0.135137</td>\n",
       "      <td>...</td>\n",
       "      <td>-0.105732</td>\n",
       "      <td>0.806729</td>\n",
       "      <td>-0.124854</td>\n",
       "      <td>-0.135874</td>\n",
       "      <td>0.088137</td>\n",
       "      <td>0.190507</td>\n",
       "      <td>0.011335</td>\n",
       "      <td>-0.052720</td>\n",
       "      <td>0.041669</td>\n",
       "      <td>-1.716811e-01</td>\n",
       "    </tr>\n",
       "    <tr>\n",
       "      <th>PropertyGFABuilding(s)</th>\n",
       "      <td>0.367488</td>\n",
       "      <td>0.059805</td>\n",
       "      <td>-0.059316</td>\n",
       "      <td>0.125105</td>\n",
       "      <td>0.056923</td>\n",
       "      <td>0.045507</td>\n",
       "      <td>-0.042626</td>\n",
       "      <td>-0.084099</td>\n",
       "      <td>0.045659</td>\n",
       "      <td>0.024206</td>\n",
       "      <td>...</td>\n",
       "      <td>0.064009</td>\n",
       "      <td>-0.189424</td>\n",
       "      <td>0.099624</td>\n",
       "      <td>0.123237</td>\n",
       "      <td>-0.143042</td>\n",
       "      <td>-0.065098</td>\n",
       "      <td>0.327853</td>\n",
       "      <td>-0.049627</td>\n",
       "      <td>0.441082</td>\n",
       "      <td>-6.438096e-01</td>\n",
       "    </tr>\n",
       "    <tr>\n",
       "      <th>LargestPropertyUseTypeGFA</th>\n",
       "      <td>0.371045</td>\n",
       "      <td>0.045148</td>\n",
       "      <td>-0.064481</td>\n",
       "      <td>0.083891</td>\n",
       "      <td>0.033010</td>\n",
       "      <td>0.036297</td>\n",
       "      <td>-0.049718</td>\n",
       "      <td>-0.075920</td>\n",
       "      <td>0.064779</td>\n",
       "      <td>-0.003536</td>\n",
       "      <td>...</td>\n",
       "      <td>-0.031944</td>\n",
       "      <td>-0.052195</td>\n",
       "      <td>0.033475</td>\n",
       "      <td>0.204794</td>\n",
       "      <td>-0.017885</td>\n",
       "      <td>-0.036619</td>\n",
       "      <td>0.355727</td>\n",
       "      <td>-0.153698</td>\n",
       "      <td>-0.789025</td>\n",
       "      <td>-1.986780e-16</td>\n",
       "    </tr>\n",
       "    <tr>\n",
       "      <th>SecondLargestPropertyUseTypeGFA</th>\n",
       "      <td>0.326500</td>\n",
       "      <td>0.029302</td>\n",
       "      <td>-0.092125</td>\n",
       "      <td>-0.034933</td>\n",
       "      <td>0.055919</td>\n",
       "      <td>0.102214</td>\n",
       "      <td>-0.025961</td>\n",
       "      <td>-0.022401</td>\n",
       "      <td>-0.016233</td>\n",
       "      <td>-0.020229</td>\n",
       "      <td>...</td>\n",
       "      <td>0.215540</td>\n",
       "      <td>-0.103955</td>\n",
       "      <td>0.389424</td>\n",
       "      <td>-0.429142</td>\n",
       "      <td>-0.396449</td>\n",
       "      <td>0.087187</td>\n",
       "      <td>-0.509986</td>\n",
       "      <td>-0.006309</td>\n",
       "      <td>-0.126712</td>\n",
       "      <td>-1.099889e-16</td>\n",
       "    </tr>\n",
       "    <tr>\n",
       "      <th>ENERGYSTARScore</th>\n",
       "      <td>0.094568</td>\n",
       "      <td>-0.258544</td>\n",
       "      <td>-0.146166</td>\n",
       "      <td>0.019817</td>\n",
       "      <td>0.133943</td>\n",
       "      <td>-0.312553</td>\n",
       "      <td>0.128593</td>\n",
       "      <td>-0.100170</td>\n",
       "      <td>-0.278350</td>\n",
       "      <td>0.577239</td>\n",
       "      <td>...</td>\n",
       "      <td>-0.078374</td>\n",
       "      <td>-0.023562</td>\n",
       "      <td>-0.026918</td>\n",
       "      <td>-0.012699</td>\n",
       "      <td>0.026011</td>\n",
       "      <td>-0.023281</td>\n",
       "      <td>-0.008007</td>\n",
       "      <td>0.047365</td>\n",
       "      <td>0.002433</td>\n",
       "      <td>2.696713e-17</td>\n",
       "    </tr>\n",
       "    <tr>\n",
       "      <th>SiteEnergyUse(kBtu)</th>\n",
       "      <td>0.337846</td>\n",
       "      <td>0.201775</td>\n",
       "      <td>0.114631</td>\n",
       "      <td>0.026880</td>\n",
       "      <td>0.092797</td>\n",
       "      <td>0.075541</td>\n",
       "      <td>-0.082987</td>\n",
       "      <td>0.045150</td>\n",
       "      <td>-0.074922</td>\n",
       "      <td>-0.043697</td>\n",
       "      <td>...</td>\n",
       "      <td>-0.029663</td>\n",
       "      <td>-0.079031</td>\n",
       "      <td>-0.098666</td>\n",
       "      <td>-0.048746</td>\n",
       "      <td>0.336684</td>\n",
       "      <td>0.111371</td>\n",
       "      <td>-0.044670</td>\n",
       "      <td>0.804573</td>\n",
       "      <td>-0.039884</td>\n",
       "      <td>-1.992490e-16</td>\n",
       "    </tr>\n",
       "    <tr>\n",
       "      <th>TotalGHGEmissions</th>\n",
       "      <td>0.235564</td>\n",
       "      <td>0.331550</td>\n",
       "      <td>0.267101</td>\n",
       "      <td>0.057564</td>\n",
       "      <td>0.157464</td>\n",
       "      <td>0.097362</td>\n",
       "      <td>-0.098335</td>\n",
       "      <td>0.047744</td>\n",
       "      <td>-0.210501</td>\n",
       "      <td>-0.001160</td>\n",
       "      <td>...</td>\n",
       "      <td>0.009428</td>\n",
       "      <td>-0.081459</td>\n",
       "      <td>-0.058008</td>\n",
       "      <td>-0.135698</td>\n",
       "      <td>0.495743</td>\n",
       "      <td>0.120668</td>\n",
       "      <td>-0.158467</td>\n",
       "      <td>-0.550218</td>\n",
       "      <td>0.073584</td>\n",
       "      <td>8.023540e-17</td>\n",
       "    </tr>\n",
       "    <tr>\n",
       "      <th>GHGEmissionsIntensity</th>\n",
       "      <td>-0.032955</td>\n",
       "      <td>0.344453</td>\n",
       "      <td>0.429730</td>\n",
       "      <td>-0.056884</td>\n",
       "      <td>-0.080759</td>\n",
       "      <td>-0.119030</td>\n",
       "      <td>-0.062042</td>\n",
       "      <td>0.083735</td>\n",
       "      <td>-0.330250</td>\n",
       "      <td>-0.218343</td>\n",
       "      <td>...</td>\n",
       "      <td>-0.313560</td>\n",
       "      <td>0.133449</td>\n",
       "      <td>0.056508</td>\n",
       "      <td>0.071867</td>\n",
       "      <td>-0.506756</td>\n",
       "      <td>-0.051413</td>\n",
       "      <td>0.120730</td>\n",
       "      <td>0.054116</td>\n",
       "      <td>-0.004959</td>\n",
       "      <td>2.529124e-17</td>\n",
       "    </tr>\n",
       "    <tr>\n",
       "      <th>x0_Financial Office</th>\n",
       "      <td>0.087308</td>\n",
       "      <td>-0.010069</td>\n",
       "      <td>-0.016362</td>\n",
       "      <td>-0.039538</td>\n",
       "      <td>-0.312991</td>\n",
       "      <td>0.069397</td>\n",
       "      <td>-0.105727</td>\n",
       "      <td>0.784017</td>\n",
       "      <td>0.297674</td>\n",
       "      <td>0.270145</td>\n",
       "      <td>...</td>\n",
       "      <td>-0.083608</td>\n",
       "      <td>-0.025806</td>\n",
       "      <td>0.152129</td>\n",
       "      <td>-0.034079</td>\n",
       "      <td>0.032814</td>\n",
       "      <td>-0.049271</td>\n",
       "      <td>0.074024</td>\n",
       "      <td>-0.023158</td>\n",
       "      <td>0.015656</td>\n",
       "      <td>-6.354681e-17</td>\n",
       "    </tr>\n",
       "    <tr>\n",
       "      <th>x0_Medical Office</th>\n",
       "      <td>0.006410</td>\n",
       "      <td>0.055070</td>\n",
       "      <td>-0.017511</td>\n",
       "      <td>-0.190015</td>\n",
       "      <td>-0.135580</td>\n",
       "      <td>0.578814</td>\n",
       "      <td>0.617148</td>\n",
       "      <td>-0.192755</td>\n",
       "      <td>0.034699</td>\n",
       "      <td>0.092984</td>\n",
       "      <td>...</td>\n",
       "      <td>-0.318143</td>\n",
       "      <td>-0.136599</td>\n",
       "      <td>0.045054</td>\n",
       "      <td>-0.105283</td>\n",
       "      <td>0.016579</td>\n",
       "      <td>-0.097725</td>\n",
       "      <td>0.061515</td>\n",
       "      <td>0.005270</td>\n",
       "      <td>0.001905</td>\n",
       "      <td>7.694587e-17</td>\n",
       "    </tr>\n",
       "    <tr>\n",
       "      <th>x0_Office</th>\n",
       "      <td>0.039484</td>\n",
       "      <td>-0.438233</td>\n",
       "      <td>0.184253</td>\n",
       "      <td>0.047293</td>\n",
       "      <td>0.262002</td>\n",
       "      <td>-0.106380</td>\n",
       "      <td>-0.096910</td>\n",
       "      <td>-0.106614</td>\n",
       "      <td>0.124765</td>\n",
       "      <td>-0.273453</td>\n",
       "      <td>...</td>\n",
       "      <td>-0.250174</td>\n",
       "      <td>0.088957</td>\n",
       "      <td>0.465383</td>\n",
       "      <td>-0.089001</td>\n",
       "      <td>0.221414</td>\n",
       "      <td>-0.328414</td>\n",
       "      <td>0.041772</td>\n",
       "      <td>0.018790</td>\n",
       "      <td>0.023292</td>\n",
       "      <td>1.742991e-16</td>\n",
       "    </tr>\n",
       "    <tr>\n",
       "      <th>x0_Non-Refrigerated Warehouse</th>\n",
       "      <td>-0.088366</td>\n",
       "      <td>0.172693</td>\n",
       "      <td>-0.459144</td>\n",
       "      <td>0.249695</td>\n",
       "      <td>-0.068633</td>\n",
       "      <td>0.088298</td>\n",
       "      <td>-0.196247</td>\n",
       "      <td>0.054275</td>\n",
       "      <td>-0.230271</td>\n",
       "      <td>-0.032150</td>\n",
       "      <td>...</td>\n",
       "      <td>-0.416203</td>\n",
       "      <td>0.030527</td>\n",
       "      <td>0.341311</td>\n",
       "      <td>-0.070983</td>\n",
       "      <td>0.109739</td>\n",
       "      <td>-0.097019</td>\n",
       "      <td>-0.010490</td>\n",
       "      <td>0.019349</td>\n",
       "      <td>0.007366</td>\n",
       "      <td>5.871469e-17</td>\n",
       "    </tr>\n",
       "    <tr>\n",
       "      <th>x0_Parking</th>\n",
       "      <td>-0.033468</td>\n",
       "      <td>0.213376</td>\n",
       "      <td>0.218613</td>\n",
       "      <td>-0.253676</td>\n",
       "      <td>-0.228446</td>\n",
       "      <td>-0.207988</td>\n",
       "      <td>-0.302909</td>\n",
       "      <td>-0.370027</td>\n",
       "      <td>0.359467</td>\n",
       "      <td>0.333687</td>\n",
       "      <td>...</td>\n",
       "      <td>-0.343328</td>\n",
       "      <td>-0.086204</td>\n",
       "      <td>0.016954</td>\n",
       "      <td>-0.224338</td>\n",
       "      <td>0.080685</td>\n",
       "      <td>-0.064968</td>\n",
       "      <td>-0.017570</td>\n",
       "      <td>-0.011285</td>\n",
       "      <td>0.011079</td>\n",
       "      <td>-2.389829e-17</td>\n",
       "    </tr>\n",
       "    <tr>\n",
       "      <th>BuildingType_NonResidential</th>\n",
       "      <td>-0.000144</td>\n",
       "      <td>-0.166554</td>\n",
       "      <td>-0.042741</td>\n",
       "      <td>-0.150613</td>\n",
       "      <td>-0.172043</td>\n",
       "      <td>0.441715</td>\n",
       "      <td>-0.570236</td>\n",
       "      <td>-0.247115</td>\n",
       "      <td>-0.182452</td>\n",
       "      <td>0.226174</td>\n",
       "      <td>...</td>\n",
       "      <td>0.168224</td>\n",
       "      <td>0.091582</td>\n",
       "      <td>-0.044298</td>\n",
       "      <td>0.101538</td>\n",
       "      <td>-0.118534</td>\n",
       "      <td>-0.036115</td>\n",
       "      <td>0.017185</td>\n",
       "      <td>0.021954</td>\n",
       "      <td>-0.002711</td>\n",
       "      <td>-1.914992e-17</td>\n",
       "    </tr>\n",
       "    <tr>\n",
       "      <th>PrimaryPropertyType_Small- and Mid-Sized Office</th>\n",
       "      <td>-0.094113</td>\n",
       "      <td>-0.279259</td>\n",
       "      <td>0.163298</td>\n",
       "      <td>0.134482</td>\n",
       "      <td>0.356020</td>\n",
       "      <td>0.342185</td>\n",
       "      <td>-0.217405</td>\n",
       "      <td>0.081331</td>\n",
       "      <td>0.312488</td>\n",
       "      <td>-0.085948</td>\n",
       "      <td>...</td>\n",
       "      <td>-0.273690</td>\n",
       "      <td>-0.162396</td>\n",
       "      <td>-0.213468</td>\n",
       "      <td>-0.031399</td>\n",
       "      <td>-0.157676</td>\n",
       "      <td>0.347443</td>\n",
       "      <td>-0.012820</td>\n",
       "      <td>-0.019348</td>\n",
       "      <td>0.008664</td>\n",
       "      <td>-1.009518e-16</td>\n",
       "    </tr>\n",
       "    <tr>\n",
       "      <th>PrimaryPropertyType_Large Office</th>\n",
       "      <td>0.227209</td>\n",
       "      <td>-0.236520</td>\n",
       "      <td>-0.086632</td>\n",
       "      <td>-0.093909</td>\n",
       "      <td>-0.118529</td>\n",
       "      <td>-0.297346</td>\n",
       "      <td>0.066423</td>\n",
       "      <td>-0.000882</td>\n",
       "      <td>-0.116425</td>\n",
       "      <td>-0.027209</td>\n",
       "      <td>...</td>\n",
       "      <td>-0.344364</td>\n",
       "      <td>-0.213868</td>\n",
       "      <td>-0.057363</td>\n",
       "      <td>-0.025006</td>\n",
       "      <td>-0.112191</td>\n",
       "      <td>0.546444</td>\n",
       "      <td>-0.000597</td>\n",
       "      <td>-0.068959</td>\n",
       "      <td>0.015237</td>\n",
       "      <td>-2.698686e-17</td>\n",
       "    </tr>\n",
       "    <tr>\n",
       "      <th>Neighborhood_DOWNTOWN</th>\n",
       "      <td>0.148017</td>\n",
       "      <td>-0.272312</td>\n",
       "      <td>0.271362</td>\n",
       "      <td>0.349551</td>\n",
       "      <td>-0.282229</td>\n",
       "      <td>-0.014554</td>\n",
       "      <td>0.055966</td>\n",
       "      <td>0.029049</td>\n",
       "      <td>-0.110323</td>\n",
       "      <td>-0.004972</td>\n",
       "      <td>...</td>\n",
       "      <td>0.084515</td>\n",
       "      <td>-0.007998</td>\n",
       "      <td>-0.310921</td>\n",
       "      <td>-0.547133</td>\n",
       "      <td>-0.062772</td>\n",
       "      <td>-0.285964</td>\n",
       "      <td>0.169163</td>\n",
       "      <td>-0.001374</td>\n",
       "      <td>-0.044781</td>\n",
       "      <td>-1.000247e-16</td>\n",
       "    </tr>\n",
       "    <tr>\n",
       "      <th>Neighborhood_GREATER DUWAMISH</th>\n",
       "      <td>-0.083052</td>\n",
       "      <td>0.193446</td>\n",
       "      <td>-0.470823</td>\n",
       "      <td>0.249006</td>\n",
       "      <td>0.040337</td>\n",
       "      <td>-0.046947</td>\n",
       "      <td>-0.142634</td>\n",
       "      <td>-0.064118</td>\n",
       "      <td>0.081927</td>\n",
       "      <td>-0.189580</td>\n",
       "      <td>...</td>\n",
       "      <td>-0.179761</td>\n",
       "      <td>-0.051012</td>\n",
       "      <td>-0.402998</td>\n",
       "      <td>-0.269691</td>\n",
       "      <td>-0.070103</td>\n",
       "      <td>-0.110214</td>\n",
       "      <td>0.004232</td>\n",
       "      <td>-0.032617</td>\n",
       "      <td>0.008259</td>\n",
       "      <td>4.736043e-18</td>\n",
       "    </tr>\n",
       "    <tr>\n",
       "      <th>Neighborhood_LAKE UNION</th>\n",
       "      <td>0.019468</td>\n",
       "      <td>-0.096812</td>\n",
       "      <td>-0.049297</td>\n",
       "      <td>-0.445451</td>\n",
       "      <td>0.416736</td>\n",
       "      <td>0.097561</td>\n",
       "      <td>-0.096845</td>\n",
       "      <td>0.289106</td>\n",
       "      <td>-0.377320</td>\n",
       "      <td>0.103059</td>\n",
       "      <td>...</td>\n",
       "      <td>-0.162777</td>\n",
       "      <td>-0.058142</td>\n",
       "      <td>-0.195094</td>\n",
       "      <td>-0.133653</td>\n",
       "      <td>-0.049219</td>\n",
       "      <td>-0.263684</td>\n",
       "      <td>0.080368</td>\n",
       "      <td>-0.031382</td>\n",
       "      <td>-0.008934</td>\n",
       "      <td>-7.117774e-17</td>\n",
       "    </tr>\n",
       "  </tbody>\n",
       "</table>\n",
       "<p>23 rows × 23 columns</p>\n",
       "</div>"
      ],
      "text/plain": [
       "                                                       F1        F2        F3  \\\n",
       "YearBuilt                                        0.109253  0.085768 -0.195359   \n",
       "NumberofBuildings                                0.092418  0.245966  0.051139   \n",
       "NumberofFloors                                   0.308429 -0.161819  0.015663   \n",
       "PropertyGFATotal                                 0.379677  0.029383 -0.082614   \n",
       "PropertyGFAParking                               0.270994 -0.096651 -0.136390   \n",
       "PropertyGFABuilding(s)                           0.367488  0.059805 -0.059316   \n",
       "LargestPropertyUseTypeGFA                        0.371045  0.045148 -0.064481   \n",
       "SecondLargestPropertyUseTypeGFA                  0.326500  0.029302 -0.092125   \n",
       "ENERGYSTARScore                                  0.094568 -0.258544 -0.146166   \n",
       "SiteEnergyUse(kBtu)                              0.337846  0.201775  0.114631   \n",
       "TotalGHGEmissions                                0.235564  0.331550  0.267101   \n",
       "GHGEmissionsIntensity                           -0.032955  0.344453  0.429730   \n",
       "x0_Financial Office                              0.087308 -0.010069 -0.016362   \n",
       "x0_Medical Office                                0.006410  0.055070 -0.017511   \n",
       "x0_Office                                        0.039484 -0.438233  0.184253   \n",
       "x0_Non-Refrigerated Warehouse                   -0.088366  0.172693 -0.459144   \n",
       "x0_Parking                                      -0.033468  0.213376  0.218613   \n",
       "BuildingType_NonResidential                     -0.000144 -0.166554 -0.042741   \n",
       "PrimaryPropertyType_Small- and Mid-Sized Office -0.094113 -0.279259  0.163298   \n",
       "PrimaryPropertyType_Large Office                 0.227209 -0.236520 -0.086632   \n",
       "Neighborhood_DOWNTOWN                            0.148017 -0.272312  0.271362   \n",
       "Neighborhood_GREATER DUWAMISH                   -0.083052  0.193446 -0.470823   \n",
       "Neighborhood_LAKE UNION                          0.019468 -0.096812 -0.049297   \n",
       "\n",
       "                                                       F4        F5        F6  \\\n",
       "YearBuilt                                       -0.508880  0.076561 -0.195524   \n",
       "NumberofBuildings                                0.217316  0.450318 -0.042723   \n",
       "NumberofFloors                                   0.053604 -0.221515 -0.000170   \n",
       "PropertyGFATotal                                 0.052670  0.027336  0.049257   \n",
       "PropertyGFAParking                              -0.240381 -0.094732  0.043291   \n",
       "PropertyGFABuilding(s)                           0.125105  0.056923  0.045507   \n",
       "LargestPropertyUseTypeGFA                        0.083891  0.033010  0.036297   \n",
       "SecondLargestPropertyUseTypeGFA                 -0.034933  0.055919  0.102214   \n",
       "ENERGYSTARScore                                  0.019817  0.133943 -0.312553   \n",
       "SiteEnergyUse(kBtu)                              0.026880  0.092797  0.075541   \n",
       "TotalGHGEmissions                                0.057564  0.157464  0.097362   \n",
       "GHGEmissionsIntensity                           -0.056884 -0.080759 -0.119030   \n",
       "x0_Financial Office                             -0.039538 -0.312991  0.069397   \n",
       "x0_Medical Office                               -0.190015 -0.135580  0.578814   \n",
       "x0_Office                                        0.047293  0.262002 -0.106380   \n",
       "x0_Non-Refrigerated Warehouse                    0.249695 -0.068633  0.088298   \n",
       "x0_Parking                                      -0.253676 -0.228446 -0.207988   \n",
       "BuildingType_NonResidential                     -0.150613 -0.172043  0.441715   \n",
       "PrimaryPropertyType_Small- and Mid-Sized Office  0.134482  0.356020  0.342185   \n",
       "PrimaryPropertyType_Large Office                -0.093909 -0.118529 -0.297346   \n",
       "Neighborhood_DOWNTOWN                            0.349551 -0.282229 -0.014554   \n",
       "Neighborhood_GREATER DUWAMISH                    0.249006  0.040337 -0.046947   \n",
       "Neighborhood_LAKE UNION                         -0.445451  0.416736  0.097561   \n",
       "\n",
       "                                                       F7        F8        F9  \\\n",
       "YearBuilt                                       -0.017281  0.008190  0.257696   \n",
       "NumberofBuildings                                0.117828  0.011055  0.297558   \n",
       "NumberofFloors                                  -0.007934  0.010681  0.016487   \n",
       "PropertyGFATotal                                -0.027331 -0.074891  0.056109   \n",
       "PropertyGFAParking                               0.041142 -0.009905  0.072477   \n",
       "PropertyGFABuilding(s)                          -0.042626 -0.084099  0.045659   \n",
       "LargestPropertyUseTypeGFA                       -0.049718 -0.075920  0.064779   \n",
       "SecondLargestPropertyUseTypeGFA                 -0.025961 -0.022401 -0.016233   \n",
       "ENERGYSTARScore                                  0.128593 -0.100170 -0.278350   \n",
       "SiteEnergyUse(kBtu)                             -0.082987  0.045150 -0.074922   \n",
       "TotalGHGEmissions                               -0.098335  0.047744 -0.210501   \n",
       "GHGEmissionsIntensity                           -0.062042  0.083735 -0.330250   \n",
       "x0_Financial Office                             -0.105727  0.784017  0.297674   \n",
       "x0_Medical Office                                0.617148 -0.192755  0.034699   \n",
       "x0_Office                                       -0.096910 -0.106614  0.124765   \n",
       "x0_Non-Refrigerated Warehouse                   -0.196247  0.054275 -0.230271   \n",
       "x0_Parking                                      -0.302909 -0.370027  0.359467   \n",
       "BuildingType_NonResidential                     -0.570236 -0.247115 -0.182452   \n",
       "PrimaryPropertyType_Small- and Mid-Sized Office -0.217405  0.081331  0.312488   \n",
       "PrimaryPropertyType_Large Office                 0.066423 -0.000882 -0.116425   \n",
       "Neighborhood_DOWNTOWN                            0.055966  0.029049 -0.110323   \n",
       "Neighborhood_GREATER DUWAMISH                   -0.142634 -0.064118  0.081927   \n",
       "Neighborhood_LAKE UNION                         -0.096845  0.289106 -0.377320   \n",
       "\n",
       "                                                      F10  ...       F14  \\\n",
       "YearBuilt                                       -0.275683  ...  0.151755   \n",
       "NumberofBuildings                                0.366548  ... -0.063277   \n",
       "NumberofFloors                                  -0.113255  ... -0.232782   \n",
       "PropertyGFATotal                                -0.010214  ...  0.030921   \n",
       "PropertyGFAParking                              -0.135137  ... -0.105732   \n",
       "PropertyGFABuilding(s)                           0.024206  ...  0.064009   \n",
       "LargestPropertyUseTypeGFA                       -0.003536  ... -0.031944   \n",
       "SecondLargestPropertyUseTypeGFA                 -0.020229  ...  0.215540   \n",
       "ENERGYSTARScore                                  0.577239  ... -0.078374   \n",
       "SiteEnergyUse(kBtu)                             -0.043697  ... -0.029663   \n",
       "TotalGHGEmissions                               -0.001160  ...  0.009428   \n",
       "GHGEmissionsIntensity                           -0.218343  ... -0.313560   \n",
       "x0_Financial Office                              0.270145  ... -0.083608   \n",
       "x0_Medical Office                                0.092984  ... -0.318143   \n",
       "x0_Office                                       -0.273453  ... -0.250174   \n",
       "x0_Non-Refrigerated Warehouse                   -0.032150  ... -0.416203   \n",
       "x0_Parking                                       0.333687  ... -0.343328   \n",
       "BuildingType_NonResidential                      0.226174  ...  0.168224   \n",
       "PrimaryPropertyType_Small- and Mid-Sized Office -0.085948  ... -0.273690   \n",
       "PrimaryPropertyType_Large Office                -0.027209  ... -0.344364   \n",
       "Neighborhood_DOWNTOWN                           -0.004972  ...  0.084515   \n",
       "Neighborhood_GREATER DUWAMISH                   -0.189580  ... -0.179761   \n",
       "Neighborhood_LAKE UNION                          0.103059  ... -0.162777   \n",
       "\n",
       "                                                      F15       F16       F17  \\\n",
       "YearBuilt                                       -0.228085 -0.114014 -0.106417   \n",
       "NumberofBuildings                                0.296919 -0.082192  0.045083   \n",
       "NumberofFloors                                  -0.075549 -0.274165  0.466611   \n",
       "PropertyGFATotal                                 0.022191  0.057268  0.075118   \n",
       "PropertyGFAParking                               0.806729 -0.124854 -0.135874   \n",
       "PropertyGFABuilding(s)                          -0.189424  0.099624  0.123237   \n",
       "LargestPropertyUseTypeGFA                       -0.052195  0.033475  0.204794   \n",
       "SecondLargestPropertyUseTypeGFA                 -0.103955  0.389424 -0.429142   \n",
       "ENERGYSTARScore                                 -0.023562 -0.026918 -0.012699   \n",
       "SiteEnergyUse(kBtu)                             -0.079031 -0.098666 -0.048746   \n",
       "TotalGHGEmissions                               -0.081459 -0.058008 -0.135698   \n",
       "GHGEmissionsIntensity                            0.133449  0.056508  0.071867   \n",
       "x0_Financial Office                             -0.025806  0.152129 -0.034079   \n",
       "x0_Medical Office                               -0.136599  0.045054 -0.105283   \n",
       "x0_Office                                        0.088957  0.465383 -0.089001   \n",
       "x0_Non-Refrigerated Warehouse                    0.030527  0.341311 -0.070983   \n",
       "x0_Parking                                      -0.086204  0.016954 -0.224338   \n",
       "BuildingType_NonResidential                      0.091582 -0.044298  0.101538   \n",
       "PrimaryPropertyType_Small- and Mid-Sized Office -0.162396 -0.213468 -0.031399   \n",
       "PrimaryPropertyType_Large Office                -0.213868 -0.057363 -0.025006   \n",
       "Neighborhood_DOWNTOWN                           -0.007998 -0.310921 -0.547133   \n",
       "Neighborhood_GREATER DUWAMISH                   -0.051012 -0.402998 -0.269691   \n",
       "Neighborhood_LAKE UNION                         -0.058142 -0.195094 -0.133653   \n",
       "\n",
       "                                                      F18       F19       F20  \\\n",
       "YearBuilt                                       -0.027771 -0.222515  0.066517   \n",
       "NumberofBuildings                               -0.232906 -0.155655 -0.134056   \n",
       "NumberofFloors                                  -0.017630 -0.359086 -0.559485   \n",
       "PropertyGFATotal                                -0.103209 -0.012344  0.285674   \n",
       "PropertyGFAParking                               0.088137  0.190507  0.011335   \n",
       "PropertyGFABuilding(s)                          -0.143042 -0.065098  0.327853   \n",
       "LargestPropertyUseTypeGFA                       -0.017885 -0.036619  0.355727   \n",
       "SecondLargestPropertyUseTypeGFA                 -0.396449  0.087187 -0.509986   \n",
       "ENERGYSTARScore                                  0.026011 -0.023281 -0.008007   \n",
       "SiteEnergyUse(kBtu)                              0.336684  0.111371 -0.044670   \n",
       "TotalGHGEmissions                                0.495743  0.120668 -0.158467   \n",
       "GHGEmissionsIntensity                           -0.506756 -0.051413  0.120730   \n",
       "x0_Financial Office                              0.032814 -0.049271  0.074024   \n",
       "x0_Medical Office                                0.016579 -0.097725  0.061515   \n",
       "x0_Office                                        0.221414 -0.328414  0.041772   \n",
       "x0_Non-Refrigerated Warehouse                    0.109739 -0.097019 -0.010490   \n",
       "x0_Parking                                       0.080685 -0.064968 -0.017570   \n",
       "BuildingType_NonResidential                     -0.118534 -0.036115  0.017185   \n",
       "PrimaryPropertyType_Small- and Mid-Sized Office -0.157676  0.347443 -0.012820   \n",
       "PrimaryPropertyType_Large Office                -0.112191  0.546444 -0.000597   \n",
       "Neighborhood_DOWNTOWN                           -0.062772 -0.285964  0.169163   \n",
       "Neighborhood_GREATER DUWAMISH                   -0.070103 -0.110214  0.004232   \n",
       "Neighborhood_LAKE UNION                         -0.049219 -0.263684  0.080368   \n",
       "\n",
       "                                                      F21       F22  \\\n",
       "YearBuilt                                       -0.013145 -0.006491   \n",
       "NumberofBuildings                                0.014997 -0.012991   \n",
       "NumberofFloors                                  -0.057818  0.044547   \n",
       "PropertyGFATotal                                -0.054985  0.390419   \n",
       "PropertyGFAParking                              -0.052720  0.041669   \n",
       "PropertyGFABuilding(s)                          -0.049627  0.441082   \n",
       "LargestPropertyUseTypeGFA                       -0.153698 -0.789025   \n",
       "SecondLargestPropertyUseTypeGFA                 -0.006309 -0.126712   \n",
       "ENERGYSTARScore                                  0.047365  0.002433   \n",
       "SiteEnergyUse(kBtu)                              0.804573 -0.039884   \n",
       "TotalGHGEmissions                               -0.550218  0.073584   \n",
       "GHGEmissionsIntensity                            0.054116 -0.004959   \n",
       "x0_Financial Office                             -0.023158  0.015656   \n",
       "x0_Medical Office                                0.005270  0.001905   \n",
       "x0_Office                                        0.018790  0.023292   \n",
       "x0_Non-Refrigerated Warehouse                    0.019349  0.007366   \n",
       "x0_Parking                                      -0.011285  0.011079   \n",
       "BuildingType_NonResidential                      0.021954 -0.002711   \n",
       "PrimaryPropertyType_Small- and Mid-Sized Office -0.019348  0.008664   \n",
       "PrimaryPropertyType_Large Office                -0.068959  0.015237   \n",
       "Neighborhood_DOWNTOWN                           -0.001374 -0.044781   \n",
       "Neighborhood_GREATER DUWAMISH                   -0.032617  0.008259   \n",
       "Neighborhood_LAKE UNION                         -0.031382 -0.008934   \n",
       "\n",
       "                                                          F23  \n",
       "YearBuilt                                       -1.108083e-16  \n",
       "NumberofBuildings                               -1.422801e-16  \n",
       "NumberofFloors                                   1.697077e-16  \n",
       "PropertyGFATotal                                 7.456774e-01  \n",
       "PropertyGFAParking                              -1.716811e-01  \n",
       "PropertyGFABuilding(s)                          -6.438096e-01  \n",
       "LargestPropertyUseTypeGFA                       -1.986780e-16  \n",
       "SecondLargestPropertyUseTypeGFA                 -1.099889e-16  \n",
       "ENERGYSTARScore                                  2.696713e-17  \n",
       "SiteEnergyUse(kBtu)                             -1.992490e-16  \n",
       "TotalGHGEmissions                                8.023540e-17  \n",
       "GHGEmissionsIntensity                            2.529124e-17  \n",
       "x0_Financial Office                             -6.354681e-17  \n",
       "x0_Medical Office                                7.694587e-17  \n",
       "x0_Office                                        1.742991e-16  \n",
       "x0_Non-Refrigerated Warehouse                    5.871469e-17  \n",
       "x0_Parking                                      -2.389829e-17  \n",
       "BuildingType_NonResidential                     -1.914992e-17  \n",
       "PrimaryPropertyType_Small- and Mid-Sized Office -1.009518e-16  \n",
       "PrimaryPropertyType_Large Office                -2.698686e-17  \n",
       "Neighborhood_DOWNTOWN                           -1.000247e-16  \n",
       "Neighborhood_GREATER DUWAMISH                    4.736043e-18  \n",
       "Neighborhood_LAKE UNION                         -7.117774e-17  \n",
       "\n",
       "[23 rows x 23 columns]"
      ]
     },
     "execution_count": 46,
     "metadata": {},
     "output_type": "execute_result"
    }
   ],
   "source": [
    "df_acp.set_axis(df_data_all.columns, axis='index')"
   ]
  },
  {
   "cell_type": "markdown",
   "id": "8f6def39",
   "metadata": {},
   "source": [
    "Graphe Ebouli"
   ]
  },
  {
   "cell_type": "code",
   "execution_count": 47,
   "id": "83c03aba",
   "metadata": {},
   "outputs": [
    {
     "data": {
      "text/plain": [
       "Text(0.5, 1.0, 'Diagramme de Pareto - Ebouli')"
      ]
     },
     "execution_count": 47,
     "metadata": {},
     "output_type": "execute_result"
    },
    {
     "data": {
      "image/png": "[encoded data removed]",
      "text/plain": [
       "<Figure size 720x360 with 1 Axes>"
      ]
     },
     "metadata": {
      "needs_background": "light"
     },
     "output_type": "display_data"
    }
   ],
   "source": [
    "#Diagramme de Pareto - Ebouli\n",
    "fig = plt.figure(figsize = (10, 5))\n",
    "x = np.arange(1, len(df_data_all.columns)+1, step=1)\n",
    "y = pca.explained_variance_ratio_\n",
    "#Affiche le bar chart\n",
    "plt.bar(np.arange(1, len(df_data_all.columns)+1, step=1),pca.explained_variance_ratio_)\n",
    "#Affiche la courbe sommée\n",
    "plt.plot(x,np.cumsum(pca.explained_variance_ratio_), marker='o')\n",
    "plt.xticks(np.arange(0, len(df_data_all.columns)+1, step=1))\n",
    "plt.ylabel('Pourcentage d’inertie (%)')\n",
    "plt.xlabel('Rang de l’axe d’inertie')\n",
    "plt.title('Diagramme de Pareto - Ebouli')\n",
    "#plt.savefig('Ebouli.png')"
   ]
  },
  {
   "cell_type": "markdown",
   "id": "f6e3d04c",
   "metadata": {},
   "source": [
    "Cadran PCA - 100/30 - F1/F2 et F3/F4"
   ]
  },
  {
   "cell_type": "code",
   "execution_count": 156,
   "id": "a7655c90",
   "metadata": {},
   "outputs": [
    {
     "data": {
      "image/png": "[encoded data removed]",
      "text/plain": [
       "<Figure size 864x864 with 1 Axes>"
      ]
     },
     "metadata": {
      "needs_background": "light"
     },
     "output_type": "display_data"
    }
   ],
   "source": [
    "pcs = pca.components_\n",
    "plt.figure(figsize=(12,12))\n",
    "plt.xlabel('F2')\n",
    "plt.ylabel('F1')\n",
    "plt.title('PCA - Representation in space (F1,F2)')\n",
    "for i, (x, y) in enumerate(zip(pcs[0, :], pcs[1, :])):\n",
    "    # Display a segment from origin to the point (x, y)\n",
    "    plt.plot([0, x], [0, y], color='k')\n",
    "    # Display the name of the feature (df_data_all.columns[i])\n",
    "    plt.text(x, y, df_data_all.columns[i], fontsize='14')\n",
    "\n",
    "# Display an horizontal line y=0\n",
    "plt.plot([-0.7, 0.7], [0, 0], color='grey', ls='--')\n",
    "\n",
    "# Display vertical line x=0\n",
    "plt.plot([0, 0], [-0.7, 0.7], color='grey', ls='--')\n",
    "\n",
    "plt.xlim([-0.7, 0.7])\n",
    "plt.ylim([-0.7, 0.7])\n",
    "#plt.savefig('ACP.png')"
   ]
  },
  {
   "cell_type": "markdown",
   "id": "135707c2",
   "metadata": {},
   "source": [
    "# Etude Consommation Totale d'énergie - SiteEnergyUse(kBtu)"
   ]
  },
  {
   "cell_type": "code",
   "execution_count": 50,
   "id": "442a77ad",
   "metadata": {},
   "outputs": [
    {
     "data": {
      "text/plain": [
       "<AxesSubplot:title={'center':'Distribution de SiteEnergyUse(kBtu)'}, xlabel='SiteEnergyUse(kBtu)', ylabel='Count'>"
      ]
     },
     "execution_count": 50,
     "metadata": {},
     "output_type": "execute_result"
    },
    {
     "data": {
      "image/png": "[encoded data removed]",
      "text/plain": [
       "<Figure size 432x288 with 1 Axes>"
      ]
     },
     "metadata": {
      "needs_background": "light"
     },
     "output_type": "display_data"
    }
   ],
   "source": [
    "plt.title('Distribution de SiteEnergyUse(kBtu)')\n",
    "sns.histplot(df_data_all['SiteEnergyUse(kBtu)'], bins=40, kde=True)"
   ]
  },
  {
   "cell_type": "markdown",
   "id": "271dc183",
   "metadata": {},
   "source": [
    "Transformation logarithmique"
   ]
  },
  {
   "cell_type": "code",
   "execution_count": 51,
   "id": "19bbcb41",
   "metadata": {},
   "outputs": [],
   "source": [
    "Y_log = np.log(df_data_all['SiteEnergyUse(kBtu)'])"
   ]
  },
  {
   "cell_type": "code",
   "execution_count": 52,
   "id": "43ae06be",
   "metadata": {},
   "outputs": [
    {
     "data": {
      "text/plain": [
       "<AxesSubplot:title={'center':'Distribution de SiteEnergyUse(kBtu) après transformation log'}, xlabel='SiteEnergyUse(kBtu)', ylabel='Count'>"
      ]
     },
     "execution_count": 52,
     "metadata": {},
     "output_type": "execute_result"
    },
    {
     "data": {
      "image/png": "[encoded data removed]",
      "text/plain": [
       "<Figure size 432x288 with 1 Axes>"
      ]
     },
     "metadata": {
      "needs_background": "light"
     },
     "output_type": "display_data"
    }
   ],
   "source": [
    "plt.title('Distribution de SiteEnergyUse(kBtu) après transformation log')\n",
    "sns.histplot(Y_log, bins=40, kde=True)"
   ]
  },
  {
   "cell_type": "markdown",
   "id": "fbd857c7",
   "metadata": {},
   "source": [
    "## Création Jeux de données de test et d'entrainement"
   ]
  },
  {
   "cell_type": "markdown",
   "id": "504736d9",
   "metadata": {},
   "source": [
    "On crée notre variable cible Y, SiteEnergyUse(kBtu)"
   ]
  },
  {
   "cell_type": "markdown",
   "id": "969470ca",
   "metadata": {},
   "source": [
    "Notre variable X contient les variables à étudier à l'exception des variables corrélés à 'SiteEnergyUse(kBtu)'"
   ]
  },
  {
   "cell_type": "code",
   "execution_count": 53,
   "id": "5da4c9ca",
   "metadata": {},
   "outputs": [],
   "source": [
    "X = df_data_all.drop(featureCorrele, axis=1)\n",
    "Y = Y_log\n",
    "# on crée un jeux de données d'entrainement et de test avec 30% des données dans le jeu de test\n",
    "X_train, X_test, Y_train, Y_test = model_selection.train_test_split(X, Y,test_size=0.3, random_state=42)"
   ]
  },
  {
   "cell_type": "markdown",
   "id": "d3c6d611",
   "metadata": {},
   "source": [
    "Feature Engineering - Standardisation des données"
   ]
  },
  {
   "cell_type": "markdown",
   "id": "faa1ad34",
   "metadata": {},
   "source": [
    "On réduit et on norme les données"
   ]
  },
  {
   "cell_type": "code",
   "execution_count": 54,
   "id": "6bf5e42e",
   "metadata": {},
   "outputs": [],
   "source": [
    "std_scale = preprocessing.StandardScaler().fit(X_train)\n",
    "X_train_std = std_scale.transform(X_train)\n",
    "X_test_std = std_scale.transform(X_test)"
   ]
  },
  {
   "cell_type": "markdown",
   "id": "4f63a31e",
   "metadata": {},
   "source": [
    "ScoreBoard"
   ]
  },
  {
   "cell_type": "code",
   "execution_count": 55,
   "id": "1287c6c6",
   "metadata": {},
   "outputs": [],
   "source": [
    "results = pd.DataFrame(columns = ['Type de modele','Best Score', 'Hyperparametres','Temps execution'])"
   ]
  },
  {
   "cell_type": "markdown",
   "id": "4931146f",
   "metadata": {},
   "source": [
    "### Linear Regression - Target variable SiteEnergyUse(kBtu)"
   ]
  },
  {
   "cell_type": "code",
   "execution_count": 56,
   "id": "2d21003c",
   "metadata": {},
   "outputs": [],
   "source": [
    "linear = LinearRegression()"
   ]
  },
  {
   "cell_type": "markdown",
   "id": "42abfb70",
   "metadata": {},
   "source": [
    "#### Cross-Validation - 5 folds"
   ]
  },
  {
   "cell_type": "markdown",
   "id": "8c3be5eb",
   "metadata": {},
   "source": [
    "Tester la performance de mon modèle en découpant le jeux de données en 5 parties"
   ]
  },
  {
   "cell_type": "markdown",
   "id": "f12fbb4e",
   "metadata": {},
   "source": [
    "(tour à tour chaque partie est utilisée comme jeux de test)"
   ]
  },
  {
   "cell_type": "code",
   "execution_count": 57,
   "id": "395717d4",
   "metadata": {},
   "outputs": [],
   "source": [
    "r2_scores = cross_validate(linear,X_train_std,Y_train,cv=5,scoring='r2')"
   ]
  },
  {
   "cell_type": "code",
   "execution_count": 58,
   "id": "2bdaa071",
   "metadata": {},
   "outputs": [
    {
     "name": "stdout",
     "output_type": "stream",
     "text": [
      "Mean 5 folds R2 : 0.6064285192972113\n"
     ]
    }
   ],
   "source": [
    "print(\"Mean 5 folds R2 : {}\".format(np.mean(r2_scores['test_score'])))"
   ]
  },
  {
   "cell_type": "markdown",
   "id": "8a4e9d5f",
   "metadata": {},
   "source": [
    "#### Linear Regression"
   ]
  },
  {
   "cell_type": "markdown",
   "id": "4f96d7a0",
   "metadata": {},
   "source": [
    "##### Mesure temps de calcul - Départ"
   ]
  },
  {
   "cell_type": "code",
   "execution_count": 59,
   "id": "8ed2adf1",
   "metadata": {},
   "outputs": [],
   "source": [
    "start_time = timeit.default_timer()"
   ]
  },
  {
   "cell_type": "code",
   "execution_count": 60,
   "id": "206c1c79",
   "metadata": {},
   "outputs": [
    {
     "data": {
      "text/plain": [
       "LinearRegression()"
      ]
     },
     "execution_count": 60,
     "metadata": {},
     "output_type": "execute_result"
    }
   ],
   "source": [
    "linear.fit(X_train_std, Y_train)"
   ]
  },
  {
   "cell_type": "code",
   "execution_count": 61,
   "id": "0964f2e6",
   "metadata": {},
   "outputs": [],
   "source": [
    "y_test_pred = linear.predict(X_test_std)"
   ]
  },
  {
   "cell_type": "code",
   "execution_count": 62,
   "id": "0824ec4e",
   "metadata": {},
   "outputs": [
    {
     "data": {
      "text/plain": [
       "True"
      ]
     },
     "execution_count": 62,
     "metadata": {},
     "output_type": "execute_result"
    }
   ],
   "source": [
    "np.isfinite(Y_test.all())"
   ]
  },
  {
   "cell_type": "markdown",
   "id": "93884c94",
   "metadata": {},
   "source": [
    "##### Mesure temps de calcul - Fin"
   ]
  },
  {
   "cell_type": "code",
   "execution_count": 63,
   "id": "ee4f7a20",
   "metadata": {},
   "outputs": [],
   "source": [
    "elapsed = timeit.default_timer() - start_time\n",
    "rmse = (np.sqrt(mean_squared_error(Y_test, y_test_pred)))\n",
    "r2 = r2_score(Y_test, y_test_pred)"
   ]
  },
  {
   "cell_type": "markdown",
   "id": "adbbaa48",
   "metadata": {},
   "source": [
    "R2 score qui permet de mesurer la précision du modèle"
   ]
  },
  {
   "cell_type": "code",
   "execution_count": 64,
   "id": "9b564202",
   "metadata": {},
   "outputs": [
    {
     "name": "stdout",
     "output_type": "stream",
     "text": [
      "R2 0.63 time 0.07s\n"
     ]
    }
   ],
   "source": [
    "print(\"R2 {:.2f} time {:.2f}s\".format(r2, elapsed))"
   ]
  },
  {
   "cell_type": "markdown",
   "id": "ac3e18bc",
   "metadata": {},
   "source": [
    "Racine carré de l'Erreur Quadratique moyenne"
   ]
  },
  {
   "cell_type": "code",
   "execution_count": 65,
   "id": "b30540d6",
   "metadata": {},
   "outputs": [
    {
     "data": {
      "text/plain": [
       "0.7327702484610175"
      ]
     },
     "execution_count": 65,
     "metadata": {},
     "output_type": "execute_result"
    }
   ],
   "source": [
    "rmse"
   ]
  },
  {
   "cell_type": "code",
   "execution_count": 66,
   "id": "ae29e9d4",
   "metadata": {
    "scrolled": true
   },
   "outputs": [
    {
     "data": {
      "text/plain": [
       "count    8.350000e+02\n",
       "mean     8.418778e+06\n",
       "std      1.315470e+07\n",
       "min      1.697945e+04\n",
       "25%      1.549211e+06\n",
       "50%      3.484280e+06\n",
       "75%      9.261157e+06\n",
       "max      1.148643e+08\n",
       "Name: SiteEnergyUse(kBtu), dtype: float64"
      ]
     },
     "execution_count": 66,
     "metadata": {},
     "output_type": "execute_result"
    }
   ],
   "source": [
    "df_data_all['SiteEnergyUse(kBtu)'].describe()"
   ]
  },
  {
   "cell_type": "code",
   "execution_count": 67,
   "id": "f792e6f5",
   "metadata": {},
   "outputs": [],
   "source": [
    "results = pd.concat([results, pd.DataFrame.from_records([{'Type de modele' : 'Regression lineaire',\n",
    "                          'Best Score' : r2,\n",
    "                          'Hyperparametres' : '',\n",
    "                          'Temps execution' : elapsed}])])"
   ]
  },
  {
   "cell_type": "markdown",
   "id": "3b929672",
   "metadata": {},
   "source": [
    "#### Vérification des valeurs prédites et actuelles"
   ]
  },
  {
   "cell_type": "code",
   "execution_count": 68,
   "id": "fb59259f",
   "metadata": {},
   "outputs": [],
   "source": [
    "#pd.DataFrame(data={Y_test,y_test_pred})"
   ]
  },
  {
   "cell_type": "markdown",
   "id": "85a75637",
   "metadata": {},
   "source": [
    "#### Importance des variables - régréssion linéaire"
   ]
  },
  {
   "cell_type": "code",
   "execution_count": 69,
   "id": "db3e7658",
   "metadata": {},
   "outputs": [
    {
     "data": {
      "text/plain": [
       "[('YearBuilt', 0.18765849339532759),\n",
       " ('NumberofBuildings', 0.11130288316951571),\n",
       " ('NumberofFloors', 0.12440071100000333),\n",
       " ('PropertyGFAParking', 0.17711249446889535),\n",
       " ('SecondLargestPropertyUseTypeGFA', 0.39244688788632515),\n",
       " ('ENERGYSTARScore', -0.18234708208378278),\n",
       " ('GHGEmissionsIntensity', 0.49829279789310477),\n",
       " ('x0_Financial Office', -0.045792443259476553),\n",
       " ('x0_Medical Office', 0.010746262576984248),\n",
       " ('x0_Office', -0.11891633481695552),\n",
       " ('x0_Non-Refrigerated Warehouse', -0.1545962011058107),\n",
       " ('x0_Parking', -0.02102089751986623),\n",
       " ('BuildingType_NonResidential', -0.03502935989175575),\n",
       " ('PrimaryPropertyType_Small- and Mid-Sized Office', 0.050656764521873225),\n",
       " ('PrimaryPropertyType_Large Office', 0.3841854563797966),\n",
       " ('Neighborhood_DOWNTOWN', 0.19886969402447796),\n",
       " ('Neighborhood_GREATER DUWAMISH', 0.03235323979128721),\n",
       " ('Neighborhood_LAKE UNION', 0.09603856906250426)]"
      ]
     },
     "execution_count": 69,
     "metadata": {},
     "output_type": "execute_result"
    }
   ],
   "source": [
    "list(zip(X.columns,linear.coef_))"
   ]
  },
  {
   "cell_type": "code",
   "execution_count": 70,
   "id": "394a8fc0",
   "metadata": {},
   "outputs": [],
   "source": [
    "features = X.columns\n",
    "#Classement des variables par ordre d'importance\n",
    "features_i_ela = list(zip(X.columns,linear.coef_))\n",
    "features_i_ela.sort(key = lambda x : x[1])"
   ]
  },
  {
   "cell_type": "markdown",
   "id": "6c7c9fe6",
   "metadata": {},
   "source": [
    "Les features NaturalGas(therms) et NaturalGas(kBtu) ont réellement de l'importance"
   ]
  },
  {
   "cell_type": "markdown",
   "id": "6574540c",
   "metadata": {},
   "source": [
    "Affichage des variables par ordre d'importance"
   ]
  },
  {
   "cell_type": "code",
   "execution_count": 71,
   "id": "8e845297",
   "metadata": {},
   "outputs": [
    {
     "data": {
      "image/png": "[encoded data removed]",
      "text/plain": [
       "<Figure size 432x288 with 1 Axes>"
      ]
     },
     "metadata": {
      "needs_background": "light"
     },
     "output_type": "display_data"
    }
   ],
   "source": [
    "plt.title('Variables par ordre d’importance - Regression SiteEnergy')\n",
    "plt.ylabel('Variables')\n",
    "plt.xlabel('Coefficient')\n",
    "plt.barh([x[0] for x in features_i_ela],[x[1] for x in features_i_ela])\n",
    "plt.show()"
   ]
  },
  {
   "cell_type": "markdown",
   "id": "67ccf4a8",
   "metadata": {},
   "source": [
    "### Elastic Net - Target variable SiteEnergyUse(kBtu)"
   ]
  },
  {
   "cell_type": "markdown",
   "id": "d853ac04",
   "metadata": {},
   "source": [
    "J'utilise le modèle Elastic Net dans le but de savoir s'il est préférable d'utiliser le modèle Ridge ou Lasso"
   ]
  },
  {
   "cell_type": "code",
   "execution_count": 72,
   "id": "0f37dc0a",
   "metadata": {},
   "outputs": [],
   "source": [
    "from sklearn.linear_model import ElasticNet\n",
    "from sklearn.model_selection import GridSearchCV"
   ]
  },
  {
   "cell_type": "code",
   "execution_count": 73,
   "id": "056bbd3a",
   "metadata": {},
   "outputs": [],
   "source": [
    "elastic_net = ElasticNet(alpha=1, l1_ratio=0.5, tol=1e+1).fit(X_train_std, Y_train)"
   ]
  },
  {
   "cell_type": "markdown",
   "id": "c3843e9c",
   "metadata": {},
   "source": [
    "#### Cross-Validation - 5 folds "
   ]
  },
  {
   "cell_type": "markdown",
   "id": "783a03e6",
   "metadata": {},
   "source": [
    "On effectue une cross-validation avec différentes valeurs pour les hyperparamètre : alpha, l1_ratio"
   ]
  },
  {
   "cell_type": "code",
   "execution_count": 74,
   "id": "53151e1e",
   "metadata": {},
   "outputs": [
    {
     "name": "stdout",
     "output_type": "stream",
     "text": [
      "Fitting 5 folds for each of 77 candidates, totalling 385 fits\n"
     ]
    }
   ],
   "source": [
    "alpha = [0.001, 0.01, 0.1, 1, 10, 100, 1000]\n",
    "l1_ratio = [0, 0.1, 0.2, 0.3, 0.4, 0.5, 0.6, 0.7, 0.8, 0.9, 1]\n",
    "param_grid = dict(alpha=alpha, l1_ratio=l1_ratio)\n",
    "grid_elas = GridSearchCV(estimator=elastic_net, \n",
    "                         param_grid=param_grid, \n",
    "                         scoring='r2', \n",
    "                         verbose=1, \n",
    "                         n_jobs=-1, \n",
    "                         cv= 5)\n",
    "grid_elas_result = grid_elas.fit(X_train_std, Y_train)"
   ]
  },
  {
   "cell_type": "markdown",
   "id": "bd2c3369",
   "metadata": {},
   "source": [
    "Suite au résultat, on constate que le l1_ratio est à 0.3, le modèle Lasso est à éviter"
   ]
  },
  {
   "cell_type": "markdown",
   "id": "449c309c",
   "metadata": {},
   "source": [
    "Le score est moins pertinent qu'une régréssion linéaire classique (sans modification des hyperparamètres)"
   ]
  },
  {
   "cell_type": "code",
   "execution_count": 75,
   "id": "8a0f1c76",
   "metadata": {},
   "outputs": [
    {
     "name": "stdout",
     "output_type": "stream",
     "text": [
      "Meilleur Score :  0.5329758995877789\n",
      "Meilleur Paramètre :  {'alpha': 1, 'l1_ratio': 0}\n"
     ]
    }
   ],
   "source": [
    "print('Meilleur Score : ', grid_elas_result.best_score_)\n",
    "print('Meilleur Paramètre : ', grid_elas_result.best_params_)"
   ]
  },
  {
   "cell_type": "markdown",
   "id": "c736faa0",
   "metadata": {},
   "source": [
    "### Elastic Net with best hyperparameters"
   ]
  },
  {
   "cell_type": "markdown",
   "id": "d4d950a9",
   "metadata": {},
   "source": [
    "##### Mesure temps de calcul - Départ"
   ]
  },
  {
   "cell_type": "code",
   "execution_count": 76,
   "id": "9fa16ad5",
   "metadata": {},
   "outputs": [],
   "source": [
    "start_time_elas = timeit.default_timer()"
   ]
  },
  {
   "cell_type": "code",
   "execution_count": 77,
   "id": "dc6e8165",
   "metadata": {},
   "outputs": [],
   "source": [
    "elastic_net1 = ElasticNet(alpha=grid_elas_result.best_params_['alpha'], l1_ratio=grid_elas_result.best_params_['l1_ratio'], tol=1e+1).fit(X_train_std, Y_train)"
   ]
  },
  {
   "cell_type": "code",
   "execution_count": 78,
   "id": "d3a5d60d",
   "metadata": {},
   "outputs": [
    {
     "data": {
      "text/plain": [
       "ElasticNet(alpha=1, l1_ratio=0, tol=10.0)"
      ]
     },
     "execution_count": 78,
     "metadata": {},
     "output_type": "execute_result"
    }
   ],
   "source": [
    "elastic_net1.fit(X_train_std, Y_train)"
   ]
  },
  {
   "cell_type": "code",
   "execution_count": 79,
   "id": "ede71a2b",
   "metadata": {},
   "outputs": [],
   "source": [
    "y_train_pred_elastic = elastic_net1.predict(X_test_std)"
   ]
  },
  {
   "cell_type": "markdown",
   "id": "e77ae445",
   "metadata": {},
   "source": [
    "##### Mesure temps de calcul - Fin"
   ]
  },
  {
   "cell_type": "code",
   "execution_count": 80,
   "id": "c2ca6016",
   "metadata": {},
   "outputs": [],
   "source": [
    "elapsed_elas = timeit.default_timer() - start_time_elas"
   ]
  },
  {
   "cell_type": "code",
   "execution_count": 81,
   "id": "b4fb01db",
   "metadata": {},
   "outputs": [],
   "source": [
    "r2_elas = r2_score(Y_test, y_train_pred_elastic)"
   ]
  },
  {
   "cell_type": "code",
   "execution_count": 82,
   "id": "391766e6",
   "metadata": {},
   "outputs": [
    {
     "name": "stdout",
     "output_type": "stream",
     "text": [
      "R2 0.58 time 0.15s\n"
     ]
    }
   ],
   "source": [
    "print(\"R2 {:.2f} time {:.2f}s\".format(r2_elas, elapsed_elas))"
   ]
  },
  {
   "cell_type": "code",
   "execution_count": 84,
   "id": "795e0901",
   "metadata": {},
   "outputs": [],
   "source": [
    "results = pd.concat([results, pd.DataFrame.from_records([{'Type de modele' : 'Elastic Net',\n",
    "                          'Best Score' : r2_elas,\n",
    "                          'Hyperparametres' : grid_elas_result.best_params_,\n",
    "                          'Temps execution' : elapsed_elas}])])"
   ]
  },
  {
   "cell_type": "markdown",
   "id": "5dae3d43",
   "metadata": {},
   "source": [
    "### Importance des features - Elastic Net"
   ]
  },
  {
   "cell_type": "markdown",
   "id": "868b8974",
   "metadata": {},
   "source": [
    "Le R2 du modèle elastic est inférieur à la régression linéaire classique (sans hyperparamètre), la régréssion linéaire classique est préférable"
   ]
  },
  {
   "cell_type": "code",
   "execution_count": 85,
   "id": "9ad31c89",
   "metadata": {},
   "outputs": [
    {
     "name": "stdout",
     "output_type": "stream",
     "text": [
      "YearBuilt:  0.20423852301961726\n",
      "NumberofBuildings:  0.08149968351014591\n",
      "NumberofFloors:  0.3038194455211458\n",
      "PropertyGFAParking:  0.1819207239719563\n",
      "SecondLargestPropertyUseTypeGFA:  0.19628223357753763\n",
      "ENERGYSTARScore:  -0.08349512222281551\n",
      "GHGEmissionsIntensity:  0.21947773210770938\n",
      "x0_Financial Office:  0.00931820484634834\n",
      "x0_Medical Office:  0.013432502640111029\n",
      "x0_Office:  0.008179323708605128\n",
      "x0_Non-Refrigerated Warehouse:  -0.10418959639605428\n",
      "x0_Parking:  -0.0012831699664674536\n",
      "BuildingType_NonResidential:  -0.02081670896785692\n",
      "PrimaryPropertyType_Small- and Mid-Sized Office:  -0.06439073167143676\n",
      "PrimaryPropertyType_Large Office:  0.14292374925917384\n",
      "Neighborhood_DOWNTOWN:  0.07704783237382934\n",
      "Neighborhood_GREATER DUWAMISH:  -0.03143401492715198\n",
      "Neighborhood_LAKE UNION:  0.03575052815207372\n"
     ]
    }
   ],
   "source": [
    "v =[]\n",
    "for coef, col in enumerate(X_train.columns):\n",
    "    print(f'{col}:  {elastic_net1.coef_[coef]}')\n",
    "    v.append(elastic_net1.coef_[coef])"
   ]
  },
  {
   "cell_type": "code",
   "execution_count": 86,
   "id": "d89047b3",
   "metadata": {},
   "outputs": [],
   "source": [
    "features = X.columns\n",
    "#Classement des variables par ordre d'importance\n",
    "features_i_ela = list(zip(features,v)) \n",
    "features_i_ela.sort(key = lambda x : x[1])"
   ]
  },
  {
   "cell_type": "markdown",
   "id": "af6315d0",
   "metadata": {},
   "source": [
    "Affichage des variables par ordre d'importance"
   ]
  },
  {
   "cell_type": "code",
   "execution_count": 87,
   "id": "11ac88d5",
   "metadata": {},
   "outputs": [
    {
     "data": {
      "image/png": "[encoded data removed]",
      "text/plain": [
       "<Figure size 432x288 with 1 Axes>"
      ]
     },
     "metadata": {
      "needs_background": "light"
     },
     "output_type": "display_data"
    }
   ],
   "source": [
    "plt.title('Variables par ordre d’importance - Elastic Net SiteEnergy')\n",
    "plt.ylabel('Variables')\n",
    "plt.xlabel('Coefficient')\n",
    "plt.barh([x[0] for x in features_i_ela],[x[1] for x in features_i_ela])\n",
    "plt.show()\n",
    "#plt.savefig('Coef - Elastic Net SiteEnergy.png')"
   ]
  },
  {
   "cell_type": "markdown",
   "id": "85dd3d1d",
   "metadata": {},
   "source": [
    "# Random Forest Regressor - Target variable SiteEnergyUse(kBtu)"
   ]
  },
  {
   "cell_type": "markdown",
   "id": "1f8bd2cd",
   "metadata": {},
   "source": [
    "Les données sont numériques et non-binaires, on a utilisé le random forest regressor "
   ]
  },
  {
   "cell_type": "markdown",
   "id": "600cbd16",
   "metadata": {},
   "source": [
    "#### Cross-Validation - 5 folds"
   ]
  },
  {
   "cell_type": "markdown",
   "id": "0e505dc2",
   "metadata": {},
   "source": [
    "On fait une cross-validation avec différentes valeurs pour les hyperparamètre : n_estimators, max_features, max_depth"
   ]
  },
  {
   "cell_type": "code",
   "execution_count": 88,
   "id": "c9d66022",
   "metadata": {},
   "outputs": [],
   "source": [
    "rfr1 = RandomForestRegressor(random_state=42)"
   ]
  },
  {
   "cell_type": "code",
   "execution_count": 89,
   "id": "675e285f",
   "metadata": {},
   "outputs": [],
   "source": [
    "param_grid = { \n",
    "    'n_estimators': [10,20,30],\n",
    "    'max_features': ['auto', 'sqrt', 'log2'],\n",
    "    #'max_features': [10, 15, 27],\n",
    "    'max_depth' : [4,5,6]\n",
    "}"
   ]
  },
  {
   "cell_type": "code",
   "execution_count": 90,
   "id": "c3947272",
   "metadata": {},
   "outputs": [],
   "source": [
    "CV_grid_rfr = GridSearchCV(estimator=rfr1, \n",
    "                           param_grid=param_grid, \n",
    "                           cv= 5)\n",
    "CV_grid_rfr_result = CV_grid_rfr.fit(X_train, Y_train)"
   ]
  },
  {
   "cell_type": "code",
   "execution_count": 91,
   "id": "042ca341",
   "metadata": {},
   "outputs": [
    {
     "data": {
      "text/plain": [
       "{'max_depth': 6, 'max_features': 'auto', 'n_estimators': 30}"
      ]
     },
     "execution_count": 91,
     "metadata": {},
     "output_type": "execute_result"
    }
   ],
   "source": [
    "CV_grid_rfr_result.best_params_"
   ]
  },
  {
   "cell_type": "code",
   "execution_count": 92,
   "id": "91286859",
   "metadata": {},
   "outputs": [
    {
     "name": "stdout",
     "output_type": "stream",
     "text": [
      "Meilleur Score :  0.7337230537494545\n",
      "Meilleur Paramètre :  {'max_depth': 6, 'max_features': 'auto', 'n_estimators': 30}\n"
     ]
    }
   ],
   "source": [
    "print('Meilleur Score : ', CV_grid_rfr_result.best_score_)\n",
    "print('Meilleur Paramètre : ', CV_grid_rfr_result.best_params_)"
   ]
  },
  {
   "cell_type": "markdown",
   "id": "ea1f6dac",
   "metadata": {},
   "source": [
    "### Application of best hyperparameters"
   ]
  },
  {
   "cell_type": "markdown",
   "id": "6d692c51",
   "metadata": {},
   "source": [
    "##### Mesurer le temps de calcul - Départ"
   ]
  },
  {
   "cell_type": "code",
   "execution_count": 94,
   "id": "d07aaaf6",
   "metadata": {},
   "outputs": [],
   "source": [
    "start_time = timeit.default_timer()"
   ]
  },
  {
   "cell_type": "code",
   "execution_count": 95,
   "id": "c07ae6d6",
   "metadata": {},
   "outputs": [],
   "source": [
    "rfr = RandomForestRegressor(n_estimators=CV_grid_rfr_result.best_params_['n_estimators'],max_features=CV_grid_rfr_result.best_params_['max_features'],max_depth=CV_grid_rfr_result.best_params_['max_depth'], oob_score=True,random_state=42)"
   ]
  },
  {
   "cell_type": "code",
   "execution_count": 96,
   "id": "d7c66433",
   "metadata": {},
   "outputs": [],
   "source": [
    "model = rfr.fit(X_train, Y_train)\n",
    "y_test_prd_Random = rfr.predict(X_test)\n",
    "elapsed = timeit.default_timer() - start_time #Mesurer le temps de calcul - Fin\n",
    "accuracy = rfr.score(X_test, Y_test)"
   ]
  },
  {
   "cell_type": "markdown",
   "id": "26f5733a",
   "metadata": {},
   "source": [
    "R2 squarred et performance temporelle"
   ]
  },
  {
   "cell_type": "code",
   "execution_count": 97,
   "id": "2beb7489",
   "metadata": {},
   "outputs": [
    {
     "name": "stdout",
     "output_type": "stream",
     "text": [
      "accuracy 0.77 time 0.13s\n"
     ]
    }
   ],
   "source": [
    "print(\"accuracy {:.2f} time {:.2f}s\".format(accuracy, elapsed))"
   ]
  },
  {
   "cell_type": "code",
   "execution_count": 98,
   "id": "1af64d47",
   "metadata": {},
   "outputs": [],
   "source": [
    "results = pd.concat([results, pd.DataFrame.from_records([{'Type de modele' : 'Random Forest',\n",
    "                          'Best Score' : accuracy,\n",
    "                          'Hyperparametres' : CV_grid_rfr_result.best_params_,\n",
    "                          'Temps execution' : elapsed}])])"
   ]
  },
  {
   "cell_type": "markdown",
   "id": "940d09e6",
   "metadata": {},
   "source": [
    "RMSE"
   ]
  },
  {
   "cell_type": "code",
   "execution_count": 99,
   "id": "1cb0911c",
   "metadata": {},
   "outputs": [
    {
     "data": {
      "text/plain": [
       "0.5820157867480837"
      ]
     },
     "execution_count": 99,
     "metadata": {},
     "output_type": "execute_result"
    }
   ],
   "source": [
    "(np.sqrt(mean_squared_error(Y_test, y_test_prd_Random)))"
   ]
  },
  {
   "cell_type": "code",
   "execution_count": 100,
   "id": "ba487c7a",
   "metadata": {},
   "outputs": [
    {
     "data": {
      "text/plain": [
       "count    8.350000e+02\n",
       "mean     8.418778e+06\n",
       "std      1.315470e+07\n",
       "min      1.697945e+04\n",
       "25%      1.549211e+06\n",
       "50%      3.484280e+06\n",
       "75%      9.261157e+06\n",
       "max      1.148643e+08\n",
       "Name: SiteEnergyUse(kBtu), dtype: float64"
      ]
     },
     "execution_count": 100,
     "metadata": {},
     "output_type": "execute_result"
    }
   ],
   "source": [
    "df_data_all['SiteEnergyUse(kBtu)'].describe()"
   ]
  },
  {
   "cell_type": "markdown",
   "id": "218893e5",
   "metadata": {},
   "source": [
    "Importance des variables - Random Forest"
   ]
  },
  {
   "cell_type": "code",
   "execution_count": 101,
   "id": "9991d3d2",
   "metadata": {},
   "outputs": [],
   "source": [
    "features = X.columns"
   ]
  },
  {
   "cell_type": "markdown",
   "id": "c07685cc",
   "metadata": {},
   "source": [
    "Classement des variables par ordre d'importance"
   ]
  },
  {
   "cell_type": "code",
   "execution_count": 102,
   "id": "08b19dd1",
   "metadata": {},
   "outputs": [],
   "source": [
    "features_i = list(zip(features,rfr.feature_importances_)) \n",
    "features_i.sort(key = lambda x : x[1]) "
   ]
  },
  {
   "cell_type": "markdown",
   "id": "5499f979",
   "metadata": {},
   "source": [
    "Affichage des variables par ordre d'importance"
   ]
  },
  {
   "cell_type": "code",
   "execution_count": 103,
   "id": "25c3366c",
   "metadata": {},
   "outputs": [
    {
     "data": {
      "image/png": "[encoded data removed]",
      "text/plain": [
       "<Figure size 432x288 with 1 Axes>"
      ]
     },
     "metadata": {
      "needs_background": "light"
     },
     "output_type": "display_data"
    }
   ],
   "source": [
    "plt.barh([x[0] for x in features_i],[x[1] for x in features_i])\n",
    "plt.title('Variables par ordre d’importance - Random Forest Regressor SiteEnergy')\n",
    "plt.ylabel('Variables')\n",
    "plt.xlabel('Coefficient')\n",
    "#plt.savefig('Coef - Random Forest Regressor SiteEnergy.png')\n",
    "plt.show()"
   ]
  },
  {
   "cell_type": "code",
   "execution_count": 104,
   "id": "f08de344",
   "metadata": {},
   "outputs": [
    {
     "data": {
      "text/html": [
       "<div>\n",
       "<style scoped>\n",
       "    .dataframe tbody tr th:only-of-type {\n",
       "        vertical-align: middle;\n",
       "    }\n",
       "\n",
       "    .dataframe tbody tr th {\n",
       "        vertical-align: top;\n",
       "    }\n",
       "\n",
       "    .dataframe thead th {\n",
       "        text-align: right;\n",
       "    }\n",
       "</style>\n",
       "<table border=\"1\" class=\"dataframe\">\n",
       "  <thead>\n",
       "    <tr style=\"text-align: right;\">\n",
       "      <th></th>\n",
       "      <th>Type de modele</th>\n",
       "      <th>Best Score</th>\n",
       "      <th>Hyperparametres</th>\n",
       "      <th>Temps execution</th>\n",
       "    </tr>\n",
       "  </thead>\n",
       "  <tbody>\n",
       "    <tr>\n",
       "      <th>0</th>\n",
       "      <td>Regression lineaire</td>\n",
       "      <td>0.630129</td>\n",
       "      <td></td>\n",
       "      <td>0.066803</td>\n",
       "    </tr>\n",
       "    <tr>\n",
       "      <th>0</th>\n",
       "      <td>Elastic Net</td>\n",
       "      <td>0.576653</td>\n",
       "      <td>{'alpha': 1, 'l1_ratio': 0}</td>\n",
       "      <td>0.145057</td>\n",
       "    </tr>\n",
       "    <tr>\n",
       "      <th>0</th>\n",
       "      <td>Random Forest</td>\n",
       "      <td>0.766663</td>\n",
       "      <td>{'max_depth': 6, 'max_features': 'auto', 'n_es...</td>\n",
       "      <td>0.134442</td>\n",
       "    </tr>\n",
       "  </tbody>\n",
       "</table>\n",
       "</div>"
      ],
      "text/plain": [
       "        Type de modele Best Score  \\\n",
       "0  Regression lineaire   0.630129   \n",
       "0          Elastic Net   0.576653   \n",
       "0        Random Forest   0.766663   \n",
       "\n",
       "                                     Hyperparametres Temps execution  \n",
       "0                                                           0.066803  \n",
       "0                        {'alpha': 1, 'l1_ratio': 0}        0.145057  \n",
       "0  {'max_depth': 6, 'max_features': 'auto', 'n_es...        0.134442  "
      ]
     },
     "execution_count": 104,
     "metadata": {},
     "output_type": "execute_result"
    }
   ],
   "source": [
    "results"
   ]
  },
  {
   "cell_type": "code",
   "execution_count": null,
   "id": "0665bcfa",
   "metadata": {},
   "outputs": [],
   "source": []
  }
 ],
 "metadata": {
  "kernelspec": {
   "display_name": "Python 3 (ipykernel)",
   "language": "python",
   "name": "python3"
  },
  "language_info": {
   "codemirror_mode": {
    "name": "ipython",
    "version": 3
   },
   "file_extension": ".py",
   "mimetype": "text/x-python",
   "name": "python",
   "nbconvert_exporter": "python",
   "pygments_lexer": "ipython3",
   "version": "3.9.7"
  }
 },
 "nbformat": 4,
 "nbformat_minor": 5
}
